{
 "cells": [
  {
   "cell_type": "code",
   "execution_count": 3,
   "id": "e7cd3c35",
   "metadata": {},
   "outputs": [
    {
     "name": "stdin",
     "output_type": "stream",
     "text": [
      " hello\n"
     ]
    },
    {
     "name": "stdout",
     "output_type": "stream",
     "text": [
      "hello Not a palindrome\n"
     ]
    }
   ],
   "source": [
    "s=input()\n",
    "if s==s[::-1]:\n",
    "    print(s,\"palindrome\")\n",
    "else:\n",
    "    print(s,\"Not a palindrome\")"
   ]
  },
  {
   "cell_type": "code",
   "execution_count": 11,
   "id": "dbf64c61",
   "metadata": {},
   "outputs": [
    {
     "name": "stdin",
     "output_type": "stream",
     "text": [
      " my name is sivarjun\n"
     ]
    },
    {
     "name": "stdout",
     "output_type": "stream",
     "text": [
      "My Name Is Sivarjun\n",
      "my name is sivarjun\n"
     ]
    }
   ],
   "source": [
    "name = input()\n",
    "print(name.title())\n",
    "print(name)\n"
   ]
  },
  {
   "cell_type": "code",
   "execution_count": 3,
   "id": "5a21f843-dcba-42cb-9ff8-3dcf7cfc6438",
   "metadata": {},
   "outputs": [
    {
     "name": "stdin",
     "output_type": "stream",
     "text": [
      " 7\n",
      " 23\n"
     ]
    },
    {
     "name": "stdout",
     "output_type": "stream",
     "text": [
      "1\n"
     ]
    }
   ],
   "source": [
    "#GCD\n",
    "a = int(input())\n",
    "b = int(input())\n",
    "if a > b :\n",
    "    max_v = a\n",
    "    min_v = b\n",
    "else:\n",
    "    max_v = b\n",
    "    min_v = a\n",
    "if max_v % min_v == 0:\n",
    "    print(min_v)\n",
    "else:\n",
    "    res = max_v % min_v\n",
    "    while res != 0:\n",
    "        max_v = min_v\n",
    "        min_v = res\n",
    "        res = max_v % min_v\n",
    "    print(min_v)"
   ]
  },
  {
   "cell_type": "markdown",
   "id": "ea48fdb5-f0eb-409a-bfb1-9ffc3a592514",
   "metadata": {},
   "source": [
    "# Mathematical "
   ]
  },
  {
   "cell_type": "code",
   "execution_count": 3,
   "id": "253332ce",
   "metadata": {},
   "outputs": [
    {
     "name": "stdout",
     "output_type": "stream",
     "text": [
      "20\n",
      "30\n",
      "10\n"
     ]
    }
   ],
   "source": [
    "def euclid_gcd(a,b):\n",
    "    while(a!=b):\n",
    "        if(a>b):\n",
    "            a = a-b\n",
    "        else:\n",
    "            b = b-a\n",
    "    return a\n",
    "def main():\n",
    "    a = int(input())\n",
    "    b = int(input())\n",
    "    print(euclid_gcd(a,b))\n",
    "if __name__ == '__main__':\n",
    "    main()"
   ]
  },
  {
   "cell_type": "code",
   "execution_count": 1,
   "id": "fc01aa6b",
   "metadata": {},
   "outputs": [
    {
     "name": "stdout",
     "output_type": "stream",
     "text": [
      "10\n",
      "5\n",
      "5\n"
     ]
    }
   ],
   "source": [
    "#optimized version\n",
    "def GabrielLame_gcd(a,b):\n",
    "    while(a!=0 and b!=0):\n",
    "        if(a>b):\n",
    "            a = a%b\n",
    "        else:\n",
    "            b = b%a\n",
    "    if a!=0:\n",
    "        return a\n",
    "    else:\n",
    "        return b\n",
    "    \n",
    "def main():\n",
    "    a = int(input())\n",
    "    b = int(input())\n",
    "    print(GabrielLame_gcd(a,b))\n",
    "if __name__ == '__main__':\n",
    "    main()"
   ]
  },
  {
   "cell_type": "code",
   "execution_count": 2,
   "id": "6a3d518c",
   "metadata": {},
   "outputs": [
    {
     "name": "stdout",
     "output_type": "stream",
     "text": [
      "19\n",
      "18\n",
      "342\n"
     ]
    }
   ],
   "source": [
    "def lcm(a,b):\n",
    "    res = max(a,b)\n",
    "    while(True):\n",
    "        if res%a == 0 and res%b == 0:\n",
    "            break\n",
    "        res +=1\n",
    "    return res\n",
    "def main():\n",
    "    a = int(input())\n",
    "    b = int(input())\n",
    "    print(lcm(a,b))\n",
    "if __name__ == '__main__':\n",
    "    main()\n",
    "    "
   ]
  },
  {
   "cell_type": "code",
   "execution_count": 4,
   "id": "7dd7e0ca",
   "metadata": {},
   "outputs": [
    {
     "name": "stdout",
     "output_type": "stream",
     "text": [
      "20\n",
      "10\n",
      "20\n"
     ]
    }
   ],
   "source": [
    "#optimized version\n",
    "def lcm(a,b):\n",
    "    return (a*b)//GabrielLame_gcd(a,b)\n",
    "\n",
    "def GabrielLame_gcd(a,b):\n",
    "    while(a!=0 and b!=0):\n",
    "        if(a>b):\n",
    "            a = a%b\n",
    "        else:\n",
    "            b = b%a\n",
    "    if a!=0:\n",
    "        return a\n",
    "    else:\n",
    "        return b\n",
    "    \n",
    "def main():\n",
    "    a = int(input())\n",
    "    b = int(input())\n",
    "    print(lcm(a,b))\n",
    "    \n",
    "if __name__ == '__main__':\n",
    "    main()"
   ]
  },
  {
   "cell_type": "code",
   "execution_count": 4,
   "id": "139e45a6",
   "metadata": {},
   "outputs": [
    {
     "name": "stdout",
     "output_type": "stream",
     "text": [
      "6\n",
      "False\n"
     ]
    }
   ],
   "source": [
    "def is_prime(n):\n",
    "    for i in range(2,(n//2)+1):\n",
    "        if n%i == 0:\n",
    "            return False\n",
    "    return True\n",
    "def main():\n",
    "    n = int(input())\n",
    "    print(is_prime(n))\n",
    "if __name__ == '__main__':\n",
    "    main()"
   ]
  },
  {
   "cell_type": "code",
   "execution_count": 8,
   "id": "87c44da1",
   "metadata": {},
   "outputs": [
    {
     "name": "stdout",
     "output_type": "stream",
     "text": [
      "77\n",
      "False\n"
     ]
    }
   ],
   "source": [
    "import math\n",
    "def is_prime(n):\n",
    "    for i in range(2, int(math.sqrt(n)) +1):\n",
    "        if n%i == 0:\n",
    "            return False\n",
    "    return True\n",
    " \n",
    "def main():\n",
    "    n = int(input())\n",
    "    print(is_prime(n))\n",
    "\n",
    "if __name__ == '__main__':\n",
    "    main()"
   ]
  },
  {
   "cell_type": "code",
   "execution_count": 7,
   "id": "f89c0c9c",
   "metadata": {},
   "outputs": [
    {
     "name": "stdin",
     "output_type": "stream",
     "text": [
      " 5\n"
     ]
    },
    {
     "name": "stdout",
     "output_type": "stream",
     "text": [
      "True\n"
     ]
    }
   ],
   "source": [
    "#optimized version\n",
    "import math\n",
    "def check_prime(n):\n",
    "    if n == 1:\n",
    "        return False\n",
    "    if n == 2 or n == 3:\n",
    "        return True\n",
    "    if n%2 == 0 or n%3 == 0: \n",
    "        return False\n",
    "    for i in range(5, int(math.sqrt(n))+1,6):\n",
    "        if n%i == 0 or n%(i+2) == 0:\n",
    "            return False\n",
    "    return True\n",
    "\n",
    "def main():\n",
    "    n = int(input())\n",
    "    print(check_prime(n))\n",
    "    \n",
    "if __name__ == '__main__':\n",
    "    main()"
   ]
  },
  {
   "cell_type": "code",
   "execution_count": 21,
   "id": "4f34dc40",
   "metadata": {},
   "outputs": [
    {
     "name": "stdout",
     "output_type": "stream",
     "text": [
      "66\n",
      "2\n",
      "3\n",
      "5\n",
      "7\n",
      "11\n",
      "13\n",
      "17\n",
      "19\n",
      "23\n",
      "29\n",
      "31\n",
      "37\n",
      "41\n",
      "43\n",
      "47\n",
      "53\n",
      "59\n",
      "61\n"
     ]
    }
   ],
   "source": [
    "def print_primes(n):\n",
    "    for i in range(2, n + 1):\n",
    "        if (check_prime(i)):\n",
    "            print(i)\n",
    "            \n",
    "def main():\n",
    "    n = int(input())\n",
    "    print_primes(n)\n",
    "    \n",
    "if __name__ == '__main__':\n",
    "    main()\n",
    "    "
   ]
  },
  {
   "cell_type": "code",
   "execution_count": 19,
   "id": "26cbbc70",
   "metadata": {},
   "outputs": [
    {
     "name": "stdout",
     "output_type": "stream",
     "text": [
      "50\n",
      "2\n",
      "3\n",
      "5\n",
      "7\n",
      "11\n",
      "13\n",
      "17\n",
      "19\n",
      "23\n",
      "29\n",
      "31\n",
      "37\n",
      "41\n",
      "43\n",
      "47\n"
     ]
    }
   ],
   "source": [
    "def sieve_of_eratosthenes(n):\n",
    "    prime = [False]*(n+1)\n",
    "    for i in range(2,n+1):\n",
    "        if prime[i] == False:\n",
    "            for j in range(i*2, n+1,i):\n",
    "                prime[j] = True\n",
    "    for i in range(2,n+1):\n",
    "        if prime[i] == False:\n",
    "            print(i)\n",
    "\n",
    "def main():\n",
    "    n = int(input())\n",
    "    sieve_of_eratosthenes(n)\n",
    "\n",
    "if __name__ == '__main__':\n",
    "    main()"
   ]
  },
  {
   "cell_type": "code",
   "execution_count": 20,
   "id": "3773a91e",
   "metadata": {},
   "outputs": [
    {
     "name": "stdout",
     "output_type": "stream",
     "text": [
      "50\n",
      "2\n",
      "3\n",
      "5\n",
      "7\n",
      "11\n",
      "13\n",
      "17\n",
      "19\n",
      "23\n",
      "29\n",
      "31\n",
      "37\n",
      "41\n",
      "43\n",
      "47\n"
     ]
    }
   ],
   "source": [
    "#optimized version\n",
    "import math\n",
    "def sieve_of_eratosthenes(n):\n",
    "    prime = [False]*(n+1)\n",
    "    for i in range(2,int(math.sqrt(n))+1):\n",
    "        if prime[i] == False:\n",
    "            for j in range(i*i, n+1, i):\n",
    "                prime[j] = True\n",
    "                \n",
    "    for i in range(2, n +1):\n",
    "        if prime[i] == False:\n",
    "            print(i)\n",
    "def main():\n",
    "    n = int(input())\n",
    "    sieve_of_eratosthenes(n)\n",
    "if __name__ =='__main__':\n",
    "    main()"
   ]
  },
  {
   "cell_type": "code",
   "execution_count": 10,
   "id": "a18809ea",
   "metadata": {},
   "outputs": [
    {
     "name": "stdin",
     "output_type": "stream",
     "text": [
      " 40\n"
     ]
    },
    {
     "name": "stdout",
     "output_type": "stream",
     "text": [
      "1\n",
      "2\n",
      "4\n",
      "5\n",
      "8\n",
      "10\n",
      "20\n",
      "40\n"
     ]
    }
   ],
   "source": [
    "#optimized version\n",
    "def print_divisiors(n):\n",
    "    for i in range(1,int(math.sqrt(n))+1):\n",
    "        if n%i == 0:\n",
    "            print(i)\n",
    "    for i in range(int(math.sqrt(n)),0,-1):\n",
    "        if n%i == 0 and i!=n//i:\n",
    "            print(n//i)\n",
    "def main():\n",
    "    n = int(input())\n",
    "    print_divisiors(n)\n",
    "if __name__ == '__main__':\n",
    "    main()"
   ]
  },
  {
   "cell_type": "code",
   "execution_count": 11,
   "id": "aab7c44f",
   "metadata": {},
   "outputs": [
    {
     "name": "stdin",
     "output_type": "stream",
     "text": [
      " 600\n"
     ]
    },
    {
     "name": "stdout",
     "output_type": "stream",
     "text": [
      "2\n",
      "2\n",
      "2\n",
      "3\n",
      "5\n",
      "5\n"
     ]
    }
   ],
   "source": [
    "#optimized version\n",
    "import math\n",
    "def prime_factors(n):\n",
    "    i = 2\n",
    "    while(i<=math.sqrt(n)):\n",
    "        while(n%i == 0):\n",
    "            print(i)\n",
    "            n =n//i\n",
    "        i = i+1\n",
    "    if n>1:\n",
    "        print(n)\n",
    "def main():\n",
    "    n = int(input())\n",
    "    prime_factors(n)\n",
    "if __name__ == '__main__':\n",
    "    main()"
   ]
  },
  {
   "cell_type": "code",
   "execution_count": null,
   "id": "a29a619b-60f9-4d1d-85be-0dd1092f8391",
   "metadata": {},
   "outputs": [],
   "source": []
  },
  {
   "cell_type": "markdown",
   "id": "212efd44-8323-40fe-a0e3-df0c1fd19819",
   "metadata": {},
   "source": [
    "# bit Manipulation"
   ]
  },
  {
   "cell_type": "code",
   "execution_count": 32,
   "id": "43538132",
   "metadata": {},
   "outputs": [
    {
     "name": "stdout",
     "output_type": "stream",
     "text": [
      "1001\n",
      "1111101001\n",
      "1001\n"
     ]
    }
   ],
   "source": [
    "# bit manipulation_____ starts here____\n",
    "def decimal_to_binary(n):\n",
    "    binary = \"\"\n",
    "    while(n>=1):\n",
    "        rem = n%2\n",
    "        n = n//2\n",
    "        binary = str(rem)+binary\n",
    "    return binary\n",
    "\n",
    "def binary_to_decimal(binary):\n",
    "    decimal = 0\n",
    "    for i in range(len(binary)-1,-1,-1):\n",
    "        if binary[i] == '1':\n",
    "            decimal += 2**(len(binary)-1-i)\n",
    "    return decimal\n",
    "def main():\n",
    "    n = int(input())\n",
    "    result = decimal_to_binary(n)\n",
    "    print(result)\n",
    "    print(binary_to_decimal(result))\n",
    "if __name__ == '__main__':\n",
    "        main()\n",
    "        "
   ]
  },
  {
   "cell_type": "code",
   "execution_count": 33,
   "id": "7f40f763",
   "metadata": {},
   "outputs": [
    {
     "name": "stdout",
     "output_type": "stream",
     "text": [
      "101101\n",
      "45\n"
     ]
    }
   ],
   "source": [
    "def binary_to_decimal(b):\n",
    "    result = 0\n",
    "    power_of_2 =1\n",
    "    for i in range(len(b)-1,-1,-1):\n",
    "        if b[i] =='1':\n",
    "            result = result+power_of_2\n",
    "        power_of_2 = power_of_2*2\n",
    "    return result\n",
    "def main():\n",
    "    b = input()\n",
    "    print(binary_to_decimal(b))\n",
    "if __name__ == '__main__':\n",
    "    main()"
   ]
  },
  {
   "cell_type": "code",
   "execution_count": 37,
   "id": "510def23",
   "metadata": {},
   "outputs": [
    {
     "name": "stdout",
     "output_type": "stream",
     "text": [
      "6\n"
     ]
    }
   ],
   "source": [
    "#imp-------    ~n = -(n+1)"
   ]
  },
  {
   "cell_type": "code",
   "execution_count": 5,
   "id": "eb6b8ae8",
   "metadata": {},
   "outputs": [
    {
     "name": "stdout",
     "output_type": "stream",
     "text": [
      "36\n",
      "3\n",
      "44\n"
     ]
    }
   ],
   "source": [
    "#To turn on bit---- use bitwise_or operator\n",
    "def main():\n",
    "    n= int(input())\n",
    "    bit_number = int(input())\n",
    "    mask = 1<<bit_number\n",
    "    print(n | mask)\n",
    "if __name__ == '__main__':\n",
    "          main()"
   ]
  },
  {
   "cell_type": "code",
   "execution_count": 8,
   "id": "c40e9a9b",
   "metadata": {},
   "outputs": [
    {
     "name": "stdout",
     "output_type": "stream",
     "text": [
      "36\n",
      "5\n",
      "4\n"
     ]
    }
   ],
   "source": [
    "#To turn of bit----- use bitwise_and operator\n",
    "def main():\n",
    "    n = int(input())\n",
    "    bit_number = int(input())\n",
    "    mask = ~(1<<bit_number)\n",
    "    print(n&mask)\n",
    "if __name__ == '__main__':\n",
    "    main()"
   ]
  },
  {
   "cell_type": "code",
   "execution_count": 10,
   "id": "15925db6",
   "metadata": {},
   "outputs": [
    {
     "name": "stdout",
     "output_type": "stream",
     "text": [
      "36\n",
      "5\n",
      "4\n"
     ]
    }
   ],
   "source": [
    "#To toggle a ith bit---- use bitwise-XOR operator\n",
    "def main():\n",
    "    n = int(input())\n",
    "    bit_number = int(input())\n",
    "    mask = 1<<bit_number\n",
    "    print(n ^ mask)\n",
    "if __name__ == '__main__':\n",
    "    main()"
   ]
  },
  {
   "cell_type": "code",
   "execution_count": 11,
   "id": "60e92d6c",
   "metadata": {},
   "outputs": [
    {
     "name": "stdout",
     "output_type": "stream",
     "text": [
      "36\n",
      "5\n",
      "ON\n"
     ]
    }
   ],
   "source": [
    "#To check weather the bit is on or off use bitwise_and operator --- 1->represents on and 0->represents off\n",
    "def main():\n",
    "    n = int(input())\n",
    "    bit_number  = int(input())\n",
    "    mask = 1<<bit_number\n",
    "    if (n&mask) == 0:\n",
    "        print('OFF')\n",
    "    else:\n",
    "        print('ON')\n",
    "if __name__ == '__main__':\n",
    "    main()\n"
   ]
  },
  {
   "cell_type": "code",
   "execution_count": 4,
   "id": "208046c1",
   "metadata": {},
   "outputs": [
    {
     "name": "stdin",
     "output_type": "stream",
     "text": [
      " 15\n"
     ]
    },
    {
     "name": "stdout",
     "output_type": "stream",
     "text": [
      "1\n"
     ]
    }
   ],
   "source": [
    "#finding right most set bit\n",
    "import math\n",
    "def posRSMB(n):\n",
    "    mask = 1\n",
    "    pos = 0\n",
    "    if n == 0: \n",
    "        return -1\n",
    "    while(n&mask)==0:\n",
    "        mask = mask<<1\n",
    "        pos += 1\n",
    "    return pos+1\n",
    "#optimized version\n",
    "def optimized_posRSMB(n):\n",
    "    return int(math.log(n^(n&(n-1)), 2))+1 #here n XOR (n &(n-1))\n",
    "def main():\n",
    "    n = int(input())\n",
    "    print(optimized_posRSMB(n))\n",
    "if __name__ == '__main__':\n",
    "    main()"
   ]
  },
  {
   "cell_type": "code",
   "execution_count": null,
   "id": "6637e749-096c-4f56-964e-bb0f85a9b360",
   "metadata": {},
   "outputs": [],
   "source": [
    "# finding no of set bits in the given number-- Brain Kernighans Algotirhm\n",
    "def no_of_set_bits(n):\n",
    "    count = 0\n",
    "    while(n!=0):\n",
    "        n = n&(n-1)\n",
    "        count +=1\n",
    "    return count\n",
    "def main():\n",
    "    n = int(input())\n",
    "    print(no_of_set_bits(n))\n",
    "if __name__ == '__main__':\n",
    "    main()"
   ]
  },
  {
   "cell_type": "code",
   "execution_count": 7,
   "id": "e2af8bb7",
   "metadata": {},
   "outputs": [
    {
     "name": "stdout",
     "output_type": "stream",
     "text": [
      "128\n",
      "True\n"
     ]
    }
   ],
   "source": [
    "#check weather the given number is a power of 2 or not\n",
    "def pow_of_2(n):\n",
    "    if n == 0:\n",
    "        return False\n",
    "    return n&(n-1) == 0\n",
    "def main():\n",
    "    n = int(input())\n",
    "    print(pow_of_2(n))\n",
    "if __name__ == '__main__':\n",
    "    main()"
   ]
  },
  {
   "cell_type": "code",
   "execution_count": 5,
   "id": "b3324e04",
   "metadata": {},
   "outputs": [
    {
     "name": "stdout",
     "output_type": "stream",
     "text": [
      "1 2 3 4 5 6 7 6 5 4 3 2 1\n",
      "7\n"
     ]
    }
   ],
   "source": [
    "def lonely_integer(n):\n",
    "    a = len(n)\n",
    "    n.sort()\n",
    "    for i in range(0,a-2,2):\n",
    "        if n[i] != n[i+1]:\n",
    "            return n[i]\n",
    "    return n[len(n)-1]\n",
    "    \n",
    "def main():\n",
    "    n = list(map(int,input().split()))\n",
    "    print(lonely_integer(n))\n",
    "if __name__ == '__main__':\n",
    "    main()\n",
    "    \n",
    "#Here time complexity is decreased when compared to above program but space complexity is increased    \n",
    "def lonely_integer(n):\n",
    "    s = set()\n",
    "    for i in range(0,len(n)):\n",
    "        if n[i] in s:\n",
    "            s.remove(n[i])\n",
    "        else:\n",
    "            s.add(n[i])\n",
    "            \n",
    "    return s.pop()\n",
    "    \n",
    "def main():\n",
    "    n = list(map(int,input().split()))\n",
    "    print(lonely_integer(n))\n",
    "if __name__ == '__main__':\n",
    "    main()"
   ]
  },
  {
   "cell_type": "code",
   "execution_count": 10,
   "id": "cf5dfce6",
   "metadata": {},
   "outputs": [
    {
     "name": "stdout",
     "output_type": "stream",
     "text": [
      "2 3 4 5 6 7 8 7 6 5 4 3 2 \n",
      "8\n"
     ]
    }
   ],
   "source": [
    "#This code is best approach when compared to above in terms of both time and space comle\n",
    "def lonely_integer(n):\n",
    "    result = 0\n",
    "    for i in n:\n",
    "        result = result^i\n",
    "    return result\n",
    "    \n",
    "def main():\n",
    "    n = list(map(int,input().split()))\n",
    "    print(lonely_integer(n))\n",
    "if __name__ == '__main__':\n",
    "    main()"
   ]
  },
  {
   "cell_type": "code",
   "execution_count": 21,
   "id": "2fb17d83",
   "metadata": {},
   "outputs": [
    {
     "name": "stdin",
     "output_type": "stream",
     "text": [
      " 7\n"
     ]
    },
    {
     "name": "stdout",
     "output_type": "stream",
     "text": [
      "3\n"
     ]
    }
   ],
   "source": [
    "def max_consecutive(n):\n",
    "    count = 0\n",
    "    while n>0:\n",
    "        n = n & (n<<1)\n",
    "        count += 1\n",
    "    return count\n",
    "def main():\n",
    "    n = int(input())\n",
    "    print(max_consecutive(n))\n",
    "if __name__ == '__main__':\n",
    "    main()"
   ]
  },
  {
   "cell_type": "code",
   "execution_count": 5,
   "id": "66ef0a7a",
   "metadata": {},
   "outputs": [
    {
     "name": "stdin",
     "output_type": "stream",
     "text": [
      " 7\n"
     ]
    },
    {
     "name": "stdout",
     "output_type": "stream",
     "text": [
      "11\n"
     ]
    }
   ],
   "source": [
    "def swap_even_odd_bits(n):\n",
    "    return ((n&0Xaaaaaaaa)>>1) | ((n&0X55555555)<<1)\n",
    "def main():\n",
    "    n = int(input())\n",
    "    print(swap_even_odd_bits(n))\n",
    "if __name__ == '__main__':\n",
    "    main()"
   ]
  },
  {
   "cell_type": "code",
   "execution_count": 22,
   "id": "e4cbb318",
   "metadata": {},
   "outputs": [
    {
     "name": "stdin",
     "output_type": "stream",
     "text": [
      " 8\n"
     ]
    },
    {
     "name": "stdout",
     "output_type": "stream",
     "text": [
      "3.0\n"
     ]
    }
   ],
   "source": [
    "import math\n",
    "def no_of_trailing_zeros(n):\n",
    "    return math.log((n & (n-1) ^ n) ,2)\n",
    "def main():\n",
    "    n = int(input())\n",
    "    print(no_of_trailing_zeros(n))\n",
    "if __name__ == '__main__':\n",
    "    main()"
   ]
  },
  {
   "cell_type": "code",
   "execution_count": 25,
   "id": "2ea0ab4e",
   "metadata": {},
   "outputs": [
    {
     "name": "stdin",
     "output_type": "stream",
     "text": [
      " 1\n"
     ]
    },
    {
     "name": "stdout",
     "output_type": "stream",
     "text": [
      "2147483648\n"
     ]
    }
   ],
   "source": [
    "def reverse_binary(n):\n",
    "    f = 31\n",
    "    l = 0\n",
    "    reverse = 0\n",
    "    while(f>1):\n",
    "        if (n&(1<<f))!=0:\n",
    "            reverse = reverse | 1<<l\n",
    "        if (n&(1<<l))!=0:\n",
    "            reverse = reverse | 1<<f\n",
    "        f -= 1\n",
    "        l += 1\n",
    "    return reverse\n",
    "def main():\n",
    "    n = int(input())\n",
    "    print(reverse_binary(n))\n",
    "if __name__ == '__main__':\n",
    "    main()"
   ]
  },
  {
   "cell_type": "code",
   "execution_count": 15,
   "id": "f481c1ce",
   "metadata": {},
   "outputs": [
    {
     "name": "stdout",
     "output_type": "stream",
     "text": [
      "12\n",
      "0b101101\n"
     ]
    }
   ],
   "source": [
    "# finding the nth palindrome of a binary number\n",
    "import math\n",
    "def reverse_binary(n,length):\n",
    "    f = length-1\n",
    "    l = 0\n",
    "    reverse = 0\n",
    "    while(f>1):\n",
    "        if (n&(1<<f))!=0:\n",
    "            reverse = reverse | 1<<l\n",
    "        if (n&(1<<l))!=0:\n",
    "            reverse = reverse | 1<<f\n",
    "        f -= 1\n",
    "        l += 1\n",
    "    return reverse\n",
    "\n",
    "def nth_palindrome_binary_number(n):\n",
    "    length = 0\n",
    "    count = 0 \n",
    "    while(n>count):\n",
    "        length += 1\n",
    "        count += int(math.pow(2,(length-1)//2))\n",
    "        #count += 2**((length-1)//2)\n",
    "    count -= int(math.pow(2,(length-1)//2))\n",
    "    #count -= 2**((length-1)//2)\n",
    "    result = 1<<(length-1) | (n-count-1) << (length//2)\n",
    "    return result | reverse_binary(result,length)\n",
    "        \n",
    "def main():\n",
    "    n = int(input())\n",
    "    print(bin(nth_palindrome_binary_number(n)))\n",
    "if __name__ == '__main__':\n",
    "    main()"
   ]
  },
  {
   "cell_type": "code",
   "execution_count": 18,
   "id": "e0f3e24c",
   "metadata": {},
   "outputs": [
    {
     "name": "stdout",
     "output_type": "stream",
     "text": [
      "16 9 6 13\n",
      "9\n"
     ]
    }
   ],
   "source": [
    "def check_bits(arr, mask):\n",
    "    count = 0\n",
    "    for i in arr:\n",
    "        if mask & i == mask:\n",
    "            count += 1\n",
    "    return count\n",
    "\n",
    "def max_and_value(arr):\n",
    "    result = 0\n",
    "    mask = 0\n",
    "    for i in range(31,-1,-1):\n",
    "        mask = (1<<i) | result\n",
    "        count = check_bits(arr, mask)\n",
    "        if count>=2:\n",
    "            result = result | mask\n",
    "    return result\n",
    "def main():\n",
    "    arr = list(map(int,input().split()))\n",
    "    print(max_and_value(arr))\n",
    "if __name__ == '__main__':\n",
    "    main()"
   ]
  },
  {
   "cell_type": "markdown",
   "id": "7632b0c9-34f6-4561-ac17-6da75ffbb44b",
   "metadata": {},
   "source": [
    "# Recursion--------"
   ]
  },
  {
   "cell_type": "code",
   "execution_count": 13,
   "id": "69f78f05",
   "metadata": {},
   "outputs": [
    {
     "name": "stdin",
     "output_type": "stream",
     "text": [
      " 5\n"
     ]
    },
    {
     "name": "stdout",
     "output_type": "stream",
     "text": [
      "5\n",
      "4\n",
      "3\n",
      "2\n",
      "1\n"
     ]
    }
   ],
   "source": [
    "def fun(n):\n",
    "    if n == 1:\n",
    "        return 1\n",
    "    print(n)\n",
    "    return fun(n-1)\n",
    "    \n",
    "n = int(input())\n",
    "print(fun(n))"
   ]
  },
  {
   "cell_type": "markdown",
   "id": "769ae0d4-2de6-4ed0-b70d-750692559762",
   "metadata": {},
   "source": [
    "# Recurrsive Programs......."
   ]
  },
  {
   "cell_type": "code",
   "execution_count": 1,
   "id": "2034370c-22f7-4528-8901-5dffbeca0401",
   "metadata": {},
   "outputs": [
    {
     "name": "stdin",
     "output_type": "stream",
     "text": [
      " 1 2 3 4 5\n"
     ]
    },
    {
     "name": "stdout",
     "output_type": "stream",
     "text": [
      "15\n"
     ]
    }
   ],
   "source": [
    "# sum of elements in the array\n",
    "def sum_of_elements(arr, i):\n",
    "    if i == len(arr):\n",
    "        return 0\n",
    "    return sum_of_elements(arr, i+1) + arr[i]\n",
    "\n",
    "arr = list(map(int,input().split()))\n",
    "print(sum_of_elements(arr, 0))\n",
    "     "
   ]
  },
  {
   "cell_type": "code",
   "execution_count": 15,
   "id": "0056eb7a-2b54-4a29-8009-140d2972a8ca",
   "metadata": {},
   "outputs": [
    {
     "name": "stdin",
     "output_type": "stream",
     "text": [
      " 21\n",
      " 6\n"
     ]
    },
    {
     "name": "stdout",
     "output_type": "stream",
     "text": [
      "The correct Position is to alive is: 4\n"
     ]
    }
   ],
   "source": [
    "# Josephus (Killing persons in circular way)\n",
    "\n",
    "def Josephus(N, K):\n",
    "    if N == 1:\n",
    "        return 0\n",
    "    return (Josephus((N-1), K) + K)%N \n",
    "\n",
    "def main():\n",
    "    N = int(input())\n",
    "    K = int(input())\n",
    "    print(\"The correct Position is to alive is:\", Josephus(N, K))\n",
    "    \n",
    "if __name__ == '__main__':\n",
    "    main()"
   ]
  },
  {
   "cell_type": "code",
   "execution_count": 21,
   "id": "4bc76ba1-308c-4ae0-9d0c-21f34501fe95",
   "metadata": {},
   "outputs": [
    {
     "name": "stdin",
     "output_type": "stream",
     "text": [
      " 3\n"
     ]
    },
    {
     "name": "stdout",
     "output_type": "stream",
     "text": [
      "['(', '(', '(', ')', ')', ')']\n",
      "['(', '(', ')', '(', ')', ')']\n",
      "['(', '(', ')', ')', '(', ')']\n",
      "['(', ')', '(', '(', ')', ')']\n",
      "['(', ')', '(', ')', '(', ')']\n"
     ]
    }
   ],
   "source": [
    "# No of vaild paranthesis is possible for the given input\n",
    "\n",
    "def No_of_possible_ways(arr, N, i, o, c):\n",
    "    if i == 2*N:\n",
    "        print(arr)\n",
    "    if o<N:\n",
    "        arr[i] = \"(\"\n",
    "        No_of_possible_ways(arr, N, i+1, o+1, c)\n",
    "    if c<o:\n",
    "        arr[i] = \")\"\n",
    "        No_of_possible_ways(arr, N, i+1, o, c+1)\n",
    "def main():\n",
    "    N = int(input())\n",
    "    arr = [None]*(2*N)\n",
    "    No_of_possible_ways(arr, N, 0, 0, 0)\n",
    "\n",
    "if __name__ == '__main__':\n",
    "    main()"
   ]
  },
  {
   "cell_type": "code",
   "execution_count": 14,
   "id": "458295be-7d89-418c-b78c-7713000a21f4",
   "metadata": {},
   "outputs": [
    {
     "name": "stdin",
     "output_type": "stream",
     "text": [
      " 3\n"
     ]
    },
    {
     "name": "stdout",
     "output_type": "stream",
     "text": [
      "((()))\n",
      "(()())\n",
      "(())()\n",
      "()(())\n",
      "()()()\n"
     ]
    }
   ],
   "source": [
    "# No of vaild paranthesis is possible for the given input\n",
    "# printing in string format\n",
    "\n",
    "def No_of_possible_ways(arr, N, i, o, c):\n",
    "    if i == 2*N:\n",
    "        print(\"\".join(arr))\n",
    "    if o<N:\n",
    "        arr[i] = \"(\"\n",
    "        No_of_possible_ways(arr, N, i+1, o+1, c)\n",
    "    if c<o:\n",
    "        arr[i] = \")\"\n",
    "        No_of_possible_ways(arr, N, i+1, o, c+1)\n",
    "def main():\n",
    "    N = int(input())\n",
    "    arr = [None]*(2*N)\n",
    "    No_of_possible_ways(arr, N, 0, 0, 0)\n",
    "\n",
    "if __name__ == '__main__':\n",
    "    main()"
   ]
  },
  {
   "cell_type": "code",
   "execution_count": 23,
   "id": "ebde18d3-dd8b-4417-b087-7b6eac4c4134",
   "metadata": {},
   "outputs": [
    {
     "name": "stdin",
     "output_type": "stream",
     "text": [
      " 46\n"
     ]
    },
    {
     "name": "stdout",
     "output_type": "stream",
     "text": [
      "gm\n",
      "gn\n",
      "go\n",
      "hm\n",
      "hn\n",
      "ho\n",
      "im\n",
      "in\n",
      "io\n"
     ]
    }
   ],
   "source": [
    "# combinations of letters in keypad numbers\n",
    "keypad = [\"\",\"\",\"abc\",\"def\",\"ghi\",\"jkl\",\"mno\",\"pqrs\",\"tuv\",\"wxyz\" ]\n",
    "def possible_combinations(N, ans):\n",
    "    if (len(N)) == 0:\n",
    "        print(ans)\n",
    "        return\n",
    "    key = keypad[int(N[0])]\n",
    "    for i in key:\n",
    "        possible_combinations(N[1:] ,ans+i)\n",
    "\n",
    "def main():\n",
    "    N = input()\n",
    "    possible_combinations(N, \"\")\n",
    "\n",
    "if __name__ == '__main__':\n",
    "    main()"
   ]
  },
  {
   "cell_type": "code",
   "execution_count": 3,
   "id": "57daede6-ccb1-4f19-a1cb-9ee0f8d8905c",
   "metadata": {},
   "outputs": [
    {
     "name": "stdin",
     "output_type": "stream",
     "text": [
      " abc\n"
     ]
    },
    {
     "name": "stdout",
     "output_type": "stream",
     "text": [
      "abc\n",
      "ab\n",
      "ac\n",
      "a\n",
      "bc\n",
      "b\n",
      "c\n",
      "\n"
     ]
    }
   ],
   "source": [
    "# Finding all the subsequence of the given string\n",
    "def string_subsequence(s, ans):\n",
    "    if len(s) == 0:\n",
    "        print(ans)\n",
    "        return\n",
    "    # for picking \n",
    "    string_subsequence(s[1:], ans+s[0])\n",
    "    # for not picking\n",
    "    string_subsequence(s[1:], ans)\n",
    "    \n",
    "def main():\n",
    "    s = input()\n",
    "    string_subsequence(s, \"\")\n",
    "\n",
    "if __name__ == \"__main__\":\n",
    "    main()"
   ]
  },
  {
   "cell_type": "code",
   "execution_count": 4,
   "id": "7ee9643d-1600-423b-a3ba-6b8b70a29529",
   "metadata": {},
   "outputs": [
    {
     "name": "stdin",
     "output_type": "stream",
     "text": [
      " abc\n"
     ]
    },
    {
     "name": "stdout",
     "output_type": "stream",
     "text": [
      "['abc', 'ab', 'ac', 'a', 'bc', 'b', 'c', '']\n"
     ]
    }
   ],
   "source": [
    "# Finding all the subsequence of the given string\n",
    "# printing same in list\n",
    "\n",
    "l=[]\n",
    "\n",
    "def string_subsequence(s, ans):\n",
    "    if len(s) == 0:\n",
    "        l.append(ans)\n",
    "        return\n",
    "    # for picking \n",
    "    string_subsequence(s[1:], ans+s[0])\n",
    "    # for not picking\n",
    "    string_subsequence(s[1:], ans)\n",
    "    \n",
    "def main():\n",
    "    s = input()\n",
    "    string_subsequence(s, \"\")\n",
    "    print(l)\n",
    "\n",
    "if __name__ == \"__main__\":\n",
    "    main()"
   ]
  },
  {
   "cell_type": "code",
   "execution_count": 1,
   "id": "24d69141-6be9-4e41-8639-9ea4dfb8da29",
   "metadata": {},
   "outputs": [
    {
     "name": "stdin",
     "output_type": "stream",
     "text": [
      " abc\n"
     ]
    },
    {
     "name": "stdout",
     "output_type": "stream",
     "text": [
      "['a', 'b', 'c']\n",
      "['a', 'c', 'b']\n",
      "['b', 'a', 'c']\n",
      "['b', 'c', 'a']\n",
      "['c', 'b', 'a']\n",
      "['c', 'a', 'b']\n"
     ]
    }
   ],
   "source": [
    "# finding the all permutations of the given string\n",
    "\n",
    "def string_permutations(s,fixed_index):\n",
    "    if fixed_index == len(s)-1:\n",
    "        print(s)\n",
    "        return\n",
    "    for i in range(fixed_index, len(s)):\n",
    "        s[fixed_index], s[i] = s[i], s[fixed_index]\n",
    "        string_permutations(s, fixed_index+1)\n",
    "        s[fixed_index], s[i] = s[i], s[fixed_index]\n",
    "\n",
    "\n",
    "def main():\n",
    "    s = input()\n",
    "    string_permutations(list(s), 0)\n",
    "\n",
    "if __name__ == '__main__':\n",
    "    main()"
   ]
  },
  {
   "cell_type": "code",
   "execution_count": 9,
   "id": "07166c85-996a-412e-83f1-f141414dbbba",
   "metadata": {},
   "outputs": [
    {
     "name": "stdin",
     "output_type": "stream",
     "text": [
      " abc\n"
     ]
    },
    {
     "name": "stdout",
     "output_type": "stream",
     "text": [
      "abc\n",
      "acb\n",
      "bac\n",
      "bca\n",
      "cba\n",
      "cab\n"
     ]
    }
   ],
   "source": [
    "# finding the all permutations of the given string\n",
    "# same but printing in string format\n",
    "\n",
    "def string_permutations(s,fixed_index):\n",
    "    if fixed_index == len(s):\n",
    "        print(''.join(s))\n",
    "        return\n",
    "    for i in range(fixed_index, len(s)):\n",
    "        s[fixed_index], s[i] = s[i], s[fixed_index]\n",
    "        string_permutations(s, fixed_index+1)\n",
    "        s[fixed_index], s[i] = s[i], s[fixed_index]\n",
    "\n",
    "\n",
    "def main():\n",
    "    s = input()\n",
    "    string_permutations(list(s), 0)\n",
    "\n",
    "if __name__ == '__main__':\n",
    "    main()"
   ]
  },
  {
   "cell_type": "code",
   "execution_count": 6,
   "id": "1c221bc5-86b8-4c32-a90f-69bd25d28e4a",
   "metadata": {},
   "outputs": [
    {
     "name": "stdin",
     "output_type": "stream",
     "text": [
      " 20\n",
      " 5 10 20\n"
     ]
    },
    {
     "name": "stdout",
     "output_type": "stream",
     "text": [
      "4\n"
     ]
    }
   ],
   "source": [
    "# finding the maximum number of pieces can be made by using the given length of rope\n",
    "\n",
    "def max_possible_pieces(rope_len, a, b, c):\n",
    "    if rope_len == 0:\n",
    "        return 0\n",
    "    elif rope_len < 0:\n",
    "        return -1\n",
    "\n",
    "    temp1 = max_possible_pieces(rope_len - a, a, b, c)\n",
    "    temp2 = max_possible_pieces(rope_len - b, a, b, c)\n",
    "    temp3 = max_possible_pieces(rope_len - c, a, b, c)\n",
    "    max_pieces = max(temp1, temp2, temp3)\n",
    "    if max_pieces == -1:\n",
    "        return -1\n",
    "    return max_pieces + 1\n",
    "\n",
    "\n",
    "def main():\n",
    "    rope_len = int(input())\n",
    "    cutting_size = list(map(int,input().split()))\n",
    "    print(max_possible_pieces(rope_len, cutting_size[0], cutting_size[1], cutting_size[2]))\n",
    "\n",
    "if __name__ == '__main__':\n",
    "    main()"
   ]
  },
  {
   "cell_type": "code",
   "execution_count": 3,
   "id": "bef5713c-dc14-4920-b34d-788c0d5926a8",
   "metadata": {},
   "outputs": [
    {
     "name": "stdin",
     "output_type": "stream",
     "text": [
      " 10 5 15 20\n",
      " 25\n"
     ]
    },
    {
     "name": "stdout",
     "output_type": "stream",
     "text": [
      "2\n"
     ]
    }
   ],
   "source": [
    "# find the no of possible subsets whose sum is equal to the given sum value\n",
    "\n",
    "def no_of_subsets(arr, sum, i):\n",
    "    if sum == 0:\n",
    "        return 1\n",
    "    if sum <0:\n",
    "        return 0\n",
    "    if i == len(arr):\n",
    "        return 0\n",
    "    return no_of_subsets(arr, sum-arr[i], i+1) + no_of_subsets(arr, sum, i+1)\n",
    "\n",
    "def main():\n",
    "    arr = list(map(int,input().split()))\n",
    "    sum = int(input())\n",
    "    print(no_of_subsets(arr, sum, 0))\n",
    "if __name__ == '__main__':\n",
    "    main()"
   ]
  },
  {
   "cell_type": "code",
   "execution_count": 5,
   "id": "7240d76a-b9d8-4091-a133-e741677bfb08",
   "metadata": {},
   "outputs": [
    {
     "name": "stdin",
     "output_type": "stream",
     "text": [
      " 9\n"
     ]
    },
    {
     "name": "stdout",
     "output_type": "stream",
     "text": [
      "False\n"
     ]
    }
   ],
   "source": [
    "# finding the weather the given number is lucky number or not based on the given condition\n",
    "# The counter always starts form 2 and then increasing one each time\n",
    "\n",
    "def is_lucky_number(N, counter):\n",
    "    if N < counter:\n",
    "        return True\n",
    "    if N%counter == 0:\n",
    "        return False\n",
    "    return is_lucky_number(N-(N//counter), counter+1)\n",
    "\n",
    "def main():\n",
    "    N = int(input())\n",
    "    print(is_lucky_number(N, 2))\n",
    "\n",
    "if __name__ == '__main__':\n",
    "    main()"
   ]
  },
  {
   "cell_type": "code",
   "execution_count": 7,
   "id": "f6599582-23e9-41cf-beb8-c4080494247b",
   "metadata": {},
   "outputs": [
    {
     "name": "stdin",
     "output_type": "stream",
     "text": [
      " 3\n"
     ]
    },
    {
     "name": "stdout",
     "output_type": "stream",
     "text": [
      "A -> C\n",
      "A -> B\n",
      "C -> B\n",
      "A -> C\n",
      "B -> A\n",
      "B -> C\n",
      "A -> C\n"
     ]
    }
   ],
   "source": [
    "# Tower of Hanoi\n",
    "\n",
    "def Tower_of_Hanoi(N, src, aux, dest):\n",
    "    if N == 1:\n",
    "        print(src, '->', dest)\n",
    "        return \n",
    "    Tower_of_Hanoi(N-1, src, dest, aux)\n",
    "    Tower_of_Hanoi(1, src, aux, dest)\n",
    "    Tower_of_Hanoi(N-1, aux, src, dest)\n",
    "\n",
    "\n",
    "def main():\n",
    "    N = int(input())\n",
    "    Tower_of_Hanoi(N, 'A', 'B', 'C')\n",
    "    \n",
    "    \n",
    "\n",
    "if __name__ == '__main__':\n",
    "    main()"
   ]
  },
  {
   "cell_type": "code",
   "execution_count": 10,
   "id": "2ce3f4b9-844e-43f9-9d65-6f2e0498ddb1",
   "metadata": {},
   "outputs": [
    {
     "name": "stdout",
     "output_type": "stream",
     "text": [
      "390625\n"
     ]
    }
   ],
   "source": [
    "# Finding the power x to y\n",
    "\n",
    "def power(x,y):\n",
    "    if y == 0:\n",
    "        return 1\n",
    "    return power(x, y-1)*x\n",
    "\n",
    "def main():\n",
    "    print(power(5, 8))\n",
    "\n",
    "if __name__ == '__main__':\n",
    "    main()"
   ]
  },
  {
   "cell_type": "code",
   "execution_count": 11,
   "id": "4a23f100-c938-41f2-832d-7c6e7a002df0",
   "metadata": {},
   "outputs": [
    {
     "name": "stdout",
     "output_type": "stream",
     "text": [
      "390625\n"
     ]
    }
   ],
   "source": [
    "# same question in simple way\n",
    "\n",
    "def power(x,y):\n",
    "    if y == 0:\n",
    "        return 1\n",
    "    if y%2 == 0:\n",
    "        return power(x, y//2) * power(x, y//2)\n",
    "    else:\n",
    "        return power(x, y-1)*x\n",
    "\n",
    "def main():\n",
    "    print(power(5, 8))\n",
    "\n",
    "if __name__ == '__main__':\n",
    "    main()"
   ]
  },
  {
   "cell_type": "code",
   "execution_count": 12,
   "id": "e7dff053-6f7b-4413-a83e-df465c1ff2d3",
   "metadata": {},
   "outputs": [
    {
     "name": "stdout",
     "output_type": "stream",
     "text": [
      "390625\n"
     ]
    }
   ],
   "source": [
    "# same question in simple way in efficient way\n",
    "\n",
    "def power(x,y):\n",
    "    if y == 0:\n",
    "        return 1\n",
    "    if y%2 == 0:\n",
    "        res = power(x, y//2)\n",
    "        return res*res\n",
    "    else:\n",
    "        return power(x, y-1)*x\n",
    "\n",
    "def main():\n",
    "    print(power(5, 8))\n",
    "\n",
    "if __name__ == '__main__':\n",
    "    main()"
   ]
  },
  {
   "cell_type": "markdown",
   "id": "5f34ee01-1591-4fd5-9798-af2b63e02bbb",
   "metadata": {},
   "source": [
    "# Linear data structures starts from here"
   ]
  },
  {
   "cell_type": "code",
   "execution_count": 18,
   "id": "8ce903d3-7752-445e-a700-fd2d0a3bc227",
   "metadata": {},
   "outputs": [
    {
     "name": "stdin",
     "output_type": "stream",
     "text": [
      " 10 20 30 40 50 \n",
      " 60\n"
     ]
    },
    {
     "name": "stdout",
     "output_type": "stream",
     "text": [
      "-1\n"
     ]
    }
   ],
   "source": [
    "# Linearsearch\n",
    "\n",
    "def linear_search(arr, key):\n",
    "    for i in range(len(arr)):\n",
    "        if arr[i] == key:\n",
    "            return i\n",
    "    return -1\n",
    "\n",
    "def main():\n",
    "    arr = list(map(int, input().split()))\n",
    "    key = int(input())\n",
    "    print(linear_search(arr, key))\n",
    "\n",
    "if __name__ == '__main__':\n",
    "    main()"
   ]
  },
  {
   "cell_type": "code",
   "execution_count": 25,
   "id": "f3909262-1416-41d9-8c4e-8c1dcd951316",
   "metadata": {},
   "outputs": [
    {
     "name": "stdin",
     "output_type": "stream",
     "text": [
      " 10 20 30 40 50 60 70 80 90\n",
      " 67\n"
     ]
    },
    {
     "name": "stdout",
     "output_type": "stream",
     "text": [
      "-1\n"
     ]
    }
   ],
   "source": [
    "# binary search \n",
    "# time complexity of O(log n)\n",
    "\n",
    "def binary_search(arr, key):\n",
    "    arr.sort()\n",
    "    low, high, mid = 0, len(arr)-1, 0\n",
    "    while(low <= high):\n",
    "        mid = (low + high)//2\n",
    "        if key == arr[mid]:\n",
    "            return mid\n",
    "        elif key<mid:\n",
    "            high = mid - 1\n",
    "        else:\n",
    "            low = mid + 1\n",
    "    return -1\n",
    "    \n",
    "def main():\n",
    "    arr = list(map(int, input().split()))\n",
    "    key = int(input())\n",
    "    print(binary_search(arr, key))\n",
    "    \n",
    "if __name__ == '__main__':\n",
    "    main()"
   ]
  },
  {
   "cell_type": "code",
   "execution_count": 1,
   "id": "2f82213f-5c64-4619-97ed-6469b5b23261",
   "metadata": {},
   "outputs": [
    {
     "name": "stdin",
     "output_type": "stream",
     "text": [
      " 100 90 20 30 40 50 60 70 10\n"
     ]
    },
    {
     "name": "stdout",
     "output_type": "stream",
     "text": [
      "90\n"
     ]
    }
   ],
   "source": [
    "# find the Span of the given array\n",
    "# Span is nothing but subtracting the minimum value from the maximum value\n",
    "\n",
    "def Span_arr(arr):\n",
    "    max_value = arr[0]\n",
    "    min_value = arr[0]\n",
    "    for i in arr:\n",
    "        if i < min_value:\n",
    "            min_value = i\n",
    "        if i > max_value:\n",
    "            max_value = i\n",
    "    return max_value - min_value\n",
    "\n",
    "def main():\n",
    "    arr = list(map(int, input().split()))\n",
    "    print(Span_arr(arr))\n",
    "\n",
    "if __name__ == '__main__':\n",
    "    main()"
   ]
  },
  {
   "cell_type": "code",
   "execution_count": 3,
   "id": "27da5c4f-1332-4d20-ba71-bbf42dd16d1e",
   "metadata": {},
   "outputs": [
    {
     "name": "stdin",
     "output_type": "stream",
     "text": [
      " 100 20 30 40 50 60 00 1000 2000 999 1999\n"
     ]
    },
    {
     "name": "stdout",
     "output_type": "stream",
     "text": [
      "1999\n"
     ]
    }
   ],
   "source": [
    "# finding the second largest element in the given array\n",
    "\n",
    "def second_largest_element(arr):\n",
    "    max_value, second_max_value = 0, 0\n",
    "    if arr[0] > arr[1]:\n",
    "        max_value, second_max_value = arr[0], arr[1]\n",
    "    else:\n",
    "        max_value, second_max_value = arr[1], arr[0]\n",
    "    for i in range(2, len(arr)):\n",
    "        if arr[i] > max_value:\n",
    "            second_max_value = max_value\n",
    "            max_value = arr[i]\n",
    "        elif arr[i] > second_max_value:\n",
    "            second_max_value = arr[i]\n",
    "    return second_max_value\n",
    "\n",
    "def main():\n",
    "    arr = list(map(int, input().split()))\n",
    "    print(second_largest_element(arr))\n",
    "\n",
    "if __name__ == '__main__':\n",
    "    main()"
   ]
  },
  {
   "cell_type": "code",
   "execution_count": 12,
   "id": "a4643fd8-d2a9-4aa1-9ada-ed10ff5c4fb0",
   "metadata": {},
   "outputs": [
    {
     "name": "stdin",
     "output_type": "stream",
     "text": [
      " 1 2 3  4 5 6 7 8 9 888 77 66 55 44 33 22 11 \n"
     ]
    },
    {
     "name": "stdout",
     "output_type": "stream",
     "text": [
      "(2, 1)\n"
     ]
    }
   ],
   "source": [
    "# finding the second smallest element in the given array\n",
    "\n",
    "def second_smallest_element(arr):\n",
    "    small_value, second_small_value = 0, 0\n",
    "    if arr[0] < arr[1]:\n",
    "        small_value, second_small_value = arr[0], arr[1]\n",
    "    else:\n",
    "        small_value, second_small_value = arr[1], arr[0]\n",
    "    for i in range(2, len(arr)):\n",
    "        if arr[i] < small_value:\n",
    "            second_small_value = small_value\n",
    "            small_value = arr[i]\n",
    "        elif arr[i] < second_small_value:\n",
    "            second_small_value = arr[i]\n",
    "    return second_small_value, small_value\n",
    "\n",
    "def main():\n",
    "    arr = list(map(int, input().split()))\n",
    "    print(second_smallest_element(arr))\n",
    "\n",
    "if __name__ == '__main__':\n",
    "    main()\n"
   ]
  },
  {
   "cell_type": "code",
   "execution_count": 12,
   "id": "dfab678f-d3a7-4afa-b24a-66631c89530b",
   "metadata": {},
   "outputs": [
    {
     "name": "stdout",
     "output_type": "stream",
     "text": [
      "22\n",
      "-1\n"
     ]
    }
   ],
   "source": [
    "# finding the ceil and floor of the given array\n",
    "# time complexity of O(log n)\n",
    "\n",
    "def ceil(arr, key):\n",
    "    low, high, mid = 0, len(arr)-1, 0\n",
    "    while(low <= high):\n",
    "        mid = (low+high)//2\n",
    "        if key == arr[mid]:\n",
    "            return arr[mid]\n",
    "        elif key < arr[mid]:\n",
    "            high = mid-1\n",
    "        else:\n",
    "            low = mid + 1\n",
    "    if low <= len(arr)-1:\n",
    "        return arr[low]\n",
    "    else:\n",
    "        return -1\n",
    "\n",
    "def floor(arr, key):\n",
    "    low, high, mid = 0, len(arr)-1, 0\n",
    "    while(low <= high):\n",
    "        mid = (low + high)//2\n",
    "        if key == arr[mid]:\n",
    "            return arr[mid]\n",
    "        elif key < arr[mid]:\n",
    "            high = mid - 1\n",
    "        else:\n",
    "            low = mid + 1\n",
    "    if high >= 0:\n",
    "        return arr[high]\n",
    "    else:\n",
    "        return -1\n",
    "\n",
    "def main():\n",
    "    arr = [22, 33, 44, 55, 66, 77, 88, 99]      # list(map(int, input().split()))\n",
    "    key = 11                                    # int(input())\n",
    "    print(ceil(arr, key))\n",
    "    print(floor(arr, key))\n",
    "\n",
    "if __name__ == '__main__':\n",
    "    main()"
   ]
  },
  {
   "cell_type": "code",
   "execution_count": 14,
   "id": "cff728a6-8e1e-4789-991e-f99847575b26",
   "metadata": {},
   "outputs": [
    {
     "name": "stdout",
     "output_type": "stream",
     "text": [
      "6\n"
     ]
    }
   ],
   "source": [
    "# Bitonic Array search within time complexity of O(log n)\n",
    "# using binary search in different ways\n",
    "# Bitonic is nothing but increasing the elements in the list from 0th index to particular index and then decreasing of elements will happen until the end of the list\n",
    "\n",
    "def ascending_binary_search(arr, key, Bitonic_Index):\n",
    "    low, high, mid = 0, Bitonic_Index-1, 0\n",
    "    while(low <= high):\n",
    "        mid = (low + high)//2\n",
    "        if key == arr[mid]:\n",
    "            return mid\n",
    "        elif key < arr[mid]:\n",
    "            high = mid -1\n",
    "        else:\n",
    "            low = mid + 1\n",
    "    return -1\n",
    "\n",
    "def descending_binary_search(arr, key, Bitonic_Index):\n",
    "    low, high, mid = Bitonic_Index + 1, len(arr)-1, 0\n",
    "    while(low <= high):\n",
    "        mid = (low + high)//2\n",
    "        if key == arr[mid]:\n",
    "            return mid\n",
    "        elif key < arr[mid]:\n",
    "            low = mid + 1\n",
    "        else:\n",
    "            high = mid - 1\n",
    "    return -1\n",
    "\n",
    "def Find_Bitonic_element(arr):\n",
    "    low, high, mid = 0, len(arr)-1, 0\n",
    "    while(low <= high):\n",
    "        mid = (low + high)//2\n",
    "        if arr[mid] > arr[mid - 1] and arr[mid] > arr[mid + 1]:\n",
    "            return mid\n",
    "        elif arr[mid] > arr[mid - 1] and arr[mid] < arr[mid + 1]:\n",
    "            low = mid\n",
    "        else:\n",
    "            high = mid\n",
    "    return -1\n",
    "\n",
    "def Bitonic_search(arr, key, Bitonic_Index):\n",
    "    if key == arr[Bitonic_Index]:\n",
    "        return Bitonic_Index\n",
    "    if key > arr[Bitonic_Index]:\n",
    "        return -1\n",
    "    Result_1 = ascending_binary_search(arr, key, Bitonic_Index)\n",
    "    if Result_1 != -1:\n",
    "        return Result_1\n",
    "    Result_2 = descending_binary_search(arr, key, Bitonic_Index)\n",
    "    if Result_2 != -1:\n",
    "        return Result_2\n",
    "    return -1\n",
    "    \n",
    "\n",
    "def main():\n",
    "    arr = [2, 5, 7, 9, 16, 25, 30, 8, 6, 3, 1]                  #list(map(int, input().split()))\n",
    "    key = 30                                                    # int(input())\n",
    "    Bitonic_Index = Find_Bitonic_element(arr)\n",
    "    print(Bitonic_search(arr, key, Bitonic_Index))\n",
    "\n",
    "if __name__ == '__main__':\n",
    "    main()"
   ]
  },
  {
   "cell_type": "code",
   "execution_count": 10,
   "id": "d004215f-8a7e-41aa-83ec-b48f9bbc2411",
   "metadata": {},
   "outputs": [
    {
     "name": "stdout",
     "output_type": "stream",
     "text": [
      "6\n"
     ]
    }
   ],
   "source": [
    "# Count of smaller and equal elements in the given list\n",
    "# time complexity of O(log n)\n",
    "\n",
    "def Count_of_smaller_and_equal_elements(arr, key):\n",
    "    low, high, mid = 0, len(arr)-1, 0\n",
    "    while(low <= high):\n",
    "        mid = (low + high)//2\n",
    "        if key == arr[mid]:\n",
    "            while ((mid + 1) < len(arr) and key == arr[mid + 1]):\n",
    "                mid += 1\n",
    "            break\n",
    "        elif key < arr[mid]:\n",
    "            high = mid -1\n",
    "        else:\n",
    "            low = mid + 1\n",
    "    if key < arr[mid]:\n",
    "        return mid\n",
    "    else:\n",
    "        return mid+1\n",
    "    \n",
    "def main():\n",
    "    # arr = [2, 4, 6, 9, 12, 15, 24, 26, 27, 35, 38,49]          # list(map(int, input().split()))\n",
    "    # arr = [2, 4, 6, 9, 12, 15, 24, 26, 26, 26, 26, 27, 35, 38,49]\n",
    "    # arr = [2, 4, 6, 9, 12, 15, 24, 27, 35, 38,49]\n",
    "    arr = [1, 26, 26, 26, 26, 26, 27]\n",
    "    key = 26  # int(input())\n",
    "    print(Count_of_smaller_and_equal_elements(arr, key))\n",
    "\n",
    "if __name__ == '__main__':\n",
    "    main()"
   ]
  },
  {
   "cell_type": "code",
   "execution_count": 13,
   "id": "8b151854-3d3b-4286-a959-2b9c88fe9dea",
   "metadata": {},
   "outputs": [
    {
     "name": "stdout",
     "output_type": "stream",
     "text": [
      "[7, 11]\n"
     ]
    }
   ],
   "source": [
    "# finding the first and last index of the element in the given list of elements\n",
    "# time complexity of O(log n)\n",
    "\n",
    "def F_L_Index_of_Element(arr, Target):\n",
    "    low, high, mid = 0, len(arr)-1, 0\n",
    "    res = [-1, -1]\n",
    "    while(low <= high):\n",
    "        mid = (low + high)//2\n",
    "        if Target == arr[mid]:\n",
    "            res[0] = mid\n",
    "            high = mid -1\n",
    "        elif Target > arr[mid]:\n",
    "            low = mid + 1\n",
    "        else:\n",
    "            high = mid - 1\n",
    "    low, high, mid = 0, len(arr)-1, 0\n",
    "    while(low <= high):\n",
    "        mid = (low + high)//2\n",
    "        if Target == arr[mid]:\n",
    "            res[1] = mid\n",
    "            low = mid + 1\n",
    "        elif Target > arr[mid]:\n",
    "            low = mid + 1\n",
    "        else:\n",
    "            high = mid - 1\n",
    "    return res    \n",
    "\n",
    "def main():\n",
    "    # arr = list(map(int, input().split()))\n",
    "    arr = [1, 4, 6, 9, 12, 16, 18, 26, 26, 26, 26, 26, 27, 30,33,35,38,40]\n",
    "    # Target = int(input())\n",
    "    Target = 26\n",
    "    print(F_L_Index_of_Element(arr, Target))\n",
    "\n",
    "if __name__ == '__main__':\n",
    "    main()"
   ]
  },
  {
   "cell_type": "code",
   "execution_count": 5,
   "id": "c33c5d7b-657f-4c89-9c87-bdf928ad2012",
   "metadata": {},
   "outputs": [
    {
     "name": "stdout",
     "output_type": "stream",
     "text": [
      "1\n"
     ]
    }
   ],
   "source": [
    "# Search in rotated sorted array\n",
    "# you have given the a sorted array and at some index it is rotated.\n",
    "# time complexity of O(log n)\n",
    "\n",
    "def Rotated_sorted_arr_search(arr, Target):\n",
    "    low, high, mid = 0, len(arr)-1, 0\n",
    "    while(low <= high):\n",
    "        mid = (low + high)//2\n",
    "        if Target == arr[mid]:\n",
    "            return mid\n",
    "        elif arr[low] <= arr[mid]:\n",
    "            if (Target >= arr[low] and Target < arr[mid]):\n",
    "                high = mid - 1\n",
    "            else:\n",
    "                low = mid + 1\n",
    "        else:\n",
    "            if (Target > arr[mid] and Target <= arr[high]):\n",
    "                low = mid + 1\n",
    "            else:\n",
    "                high = mid - 1\n",
    "    return -1\n",
    "\n",
    "def main():\n",
    "    arr = [4, 5, 6, 7, 8, 1, 2]               # arr = list(map(int, input().split()))\n",
    "    Target = 5                                # Target = int(input())\n",
    "    print(Rotated_sorted_arr_search(arr, Target))\n",
    "    \n",
    "\n",
    "if __name__ == '__main__':\n",
    "    main()"
   ]
  },
  {
   "cell_type": "code",
   "execution_count": 12,
   "id": "efabdc4d-72e6-46cd-a84a-859f7e9dfc86",
   "metadata": {},
   "outputs": [
    {
     "name": "stdout",
     "output_type": "stream",
     "text": [
      "14\n"
     ]
    }
   ],
   "source": [
    "# wood cutting such that minimum amount of wood will be waste \n",
    "# time complexity of O(logn)\n",
    "\n",
    "def Find_wood_count(Height, mid):\n",
    "    wood_count = 0\n",
    "    for i in Height:\n",
    "        if i > mid:\n",
    "            wood_count += i - mid\n",
    "    return wood_count\n",
    "\n",
    "def machine_height(Height, Required_units_of_wood):\n",
    "    max_height = 0\n",
    "    for i in Height:\n",
    "        if i > max_height:\n",
    "            max_height = i\n",
    "    low, high, mid = 0, max_height, 0\n",
    "    while(low <= high):\n",
    "        mid = (low + high)//2\n",
    "        wood_count = Find_wood_count(Height, mid)\n",
    "        if (wood_count == Required_units_of_wood or low == mid):\n",
    "            return mid\n",
    "        elif wood_count > Required_units_of_wood:\n",
    "            low = mid\n",
    "        else:\n",
    "            high = mid\n",
    "    return -1\n",
    "\n",
    "def main():\n",
    "    Height = [20, 15, 10, 17]            # Height = list(map(int, input().split()))\n",
    "    Required_units_of_wood = 8           # Required_units_of_wood = int(input())\n",
    "    print(machine_height(Height, Required_units_of_wood))\n",
    "\n",
    "if __name__ == '__main__':\n",
    "    main()"
   ]
  },
  {
   "cell_type": "code",
   "execution_count": 24,
   "id": "fd1c9456-9dea-4216-84d3-bead7340a8c3",
   "metadata": {},
   "outputs": [
    {
     "name": "stdout",
     "output_type": "stream",
     "text": [
      "10.0\n"
     ]
    }
   ],
   "source": [
    "# finding the medeain of two sorted arrays, required time complexity of O(log m+n)\n",
    "\n",
    "def find_median_of_two_sorted_arrays(arr_1, arr_2):\n",
    "    i, j = 0, 0\n",
    "    merged_arr = []\n",
    "    while (i < len(arr_1) and i < len(arr_2)):\n",
    "        if arr_1[i] < arr_2[j]:\n",
    "            merged_arr.append(arr_1[i])\n",
    "            i += 1\n",
    "        else:\n",
    "            merged_arr.append(arr_2[j])\n",
    "            j += 1\n",
    "    while i < len(arr_1):\n",
    "        merged_arr.append(arr_1[i])\n",
    "        i += 1\n",
    "    while j < len(arr_2):\n",
    "        merged_arr.append(arr_2[j])\n",
    "        j += 1\n",
    "\n",
    "    mid = len(merged_arr)//2\n",
    "    if len(merged_arr)%2 == 0:\n",
    "        return (merged_arr[mid] + merged_arr[mid - 1])/2\n",
    "    else:\n",
    "        return merged_arr[mid]\n",
    "\n",
    "def main():\n",
    "    arr_1 = [1, 5, 7, 8]                   # arr_1 = list(map(int, input().split()))\n",
    "    arr_2 = [6, 9, 11, 15, 17, 18, 29, 30]    # arr_2 = list(map(int, input().split()))\n",
    "    print(find_median_of_two_sorted_arrays(arr_1, arr_2))\n",
    "\n",
    "if __name__ == '__main__':\n",
    "    main()\n",
    "\n",
    "# Here the complexity is O(m+n) but we required time complexity of O(log(m+n)) which gives the efficient solution below\n"
   ]
  },
  {
   "cell_type": "code",
   "execution_count": 40,
   "id": "4c356f64-4dcd-406d-a756-222c24f4b752",
   "metadata": {},
   "outputs": [
    {
     "name": "stdout",
     "output_type": "stream",
     "text": [
      "10.0\n"
     ]
    }
   ],
   "source": [
    "# Same above problem with efficient solution\n",
    "# time complexity of O(log(m+n))\n",
    "\n",
    "import sys\n",
    "def f_median_of_2_sorted_arrays(arr_1, arr_2):\n",
    "    if len(arr_2) < len(arr_1):\n",
    "        f_median_of_2_sorted_arrays(arr_2, arr_1)\n",
    "    low, high = 0, len(arr_1)\n",
    "    while low <= high:\n",
    "        mid_1 = (low + high)//2\n",
    "        mid_2 = (len(arr_1) + len(arr_2) + 1 )//2 - mid_1\n",
    "\n",
    "        l1 = (sys.maxsize * -1) if (mid_1 == 0) else (arr_1[mid_1 - 1])\n",
    "        r1 = (sys.maxsize) if(mid_1 == len(arr_1)) else (arr_1[mid_1])\n",
    "        l2 = (sys.maxsize * -1) if (mid_2 == 0) else (arr_2[mid_2 - 1])\n",
    "        r2 = (sys.maxsize) if (mid_2 == len(arr_2)) else (arr_2[mid_2])\n",
    "\n",
    "        if (l1 < r2) and (l2 < r1):\n",
    "            if (len(arr_1) + len(arr_2))%2 == 0:\n",
    "                return (max(l1, l2) + min(r1, r2))/2\n",
    "            else:\n",
    "                return max(l1, l2)\n",
    "        elif l1 > r2:\n",
    "            high = mid_1 - 1\n",
    "        else:\n",
    "            low = mid_1 + 1\n",
    "    \n",
    "            \n",
    "def main():\n",
    "    arr_1 = [1, 5, 7, 8]                         # arr_1 = list(map(int, input().split()))\n",
    "    arr_2 = [6, 9, 11, 15, 17, 18, 29, 30]                         # arr_2 = list(map(int, input().split()))\n",
    "    print(f_median_of_2_sorted_arrays(arr_1, arr_2))\n",
    "\n",
    "if __name__ == '__main__':\n",
    "    main()"
   ]
  },
  {
   "cell_type": "code",
   "execution_count": 50,
   "id": "d337e47e-6ef4-48b6-88ac-cd4d3cf8fc1d",
   "metadata": {},
   "outputs": [
    {
     "name": "stdout",
     "output_type": "stream",
     "text": [
      "205\n"
     ]
    }
   ],
   "source": [
    "# Allocating the books in continuous order (hint: use the binary search for efficient solution)\n",
    "# finding the solution such that allocation of pages will be the minimum of all possible solutions (in all max pages)\n",
    "\n",
    "def is_possible_sol(arr, no_students, mid):\n",
    "    student = 1\n",
    "    student_page_count = 0\n",
    "    for i in arr:\n",
    "        if i > mid:\n",
    "            return False\n",
    "        if student_page_count + i <= mid:\n",
    "            student_page_count += i\n",
    "        else:\n",
    "            student += 1\n",
    "            if student > no_students:\n",
    "                return False\n",
    "            student_page_count = i\n",
    "    return True\n",
    "\n",
    "def allocation_pages(arr, no_students):\n",
    "    if len(arr) < no_students:\n",
    "        return -1\n",
    "    low = arr[0]\n",
    "    high = 0\n",
    "    for i in arr:\n",
    "        if i < low:\n",
    "            low = i\n",
    "        high += i\n",
    "    \n",
    "    result = -1\n",
    "    while(low <= high):\n",
    "        mid = (low + high)//2\n",
    "        if is_possible_sol(arr, no_students, mid) == True:\n",
    "            result = mid\n",
    "            high = mid - 1\n",
    "        else:\n",
    "            low = mid + 1\n",
    "    return result\n",
    "\n",
    "def main():\n",
    "    arr = [205, 72, 36, 85]                            # arr = list(map(int, input().split()))\n",
    "    no_students = 2                     # no_students = int(input())\n",
    "    print(allocation_pages(arr, no_students))\n",
    "\n",
    "if __name__ == '__main__':\n",
    "    main()\n",
    "\n",
    "# time complexity is n+nlog(sum(s)) is simply known as O(nlog(sum(a)))"
   ]
  },
  {
   "cell_type": "code",
   "execution_count": 57,
   "id": "fdc96aa3-c763-4c31-99c8-877272e53ddd",
   "metadata": {},
   "outputs": [
    {
     "name": "stdout",
     "output_type": "stream",
     "text": [
      "120\n"
     ]
    }
   ],
   "source": [
    "# Painters partitions\n",
    "# given painting boards of array and no of painters, time taken to paint an unit board\n",
    "# find the minimum amount of time to paint all boards\n",
    "\n",
    "def Is_possible(arr, no_of_painters, mid):\n",
    "    painter = 1\n",
    "    painter_unit_count = 0\n",
    "    for i in arr:\n",
    "        if i > mid:\n",
    "            return False\n",
    "        if painter_unit_count + i <= mid:\n",
    "            painter_unit_count += i\n",
    "        else:\n",
    "            painter += 1\n",
    "            if painter > no_of_painters:\n",
    "                return False\n",
    "    return True\n",
    "\n",
    "def Time_to_paint(arr, no_of_painters, Time_taken_for_one_unit):\n",
    "    low = 0\n",
    "    high = 0\n",
    "    for i in arr:\n",
    "        high += i\n",
    "        \n",
    "    result = -1\n",
    "    while (low <= high):\n",
    "        mid = (low + high)//2\n",
    "        if Is_possible(arr, no_of_painters, mid) == True:\n",
    "            result = mid\n",
    "            high = mid - 1\n",
    "        else:\n",
    "            low = mid + 1\n",
    "    return result*Time_taken_for_one_unit\n",
    "\n",
    "def main():\n",
    "    arr = [10, 20, 30, 40]                 # list(map(int, input().split()))\n",
    "    no_of_painters = 2                     # int(input())\n",
    "    Time_taken_for_one_unit = 2            # int(input())\n",
    "    print(Time_to_paint(arr, no_of_painters, Time_taken_for_one_unit))\n",
    "\n",
    "if __name__ == '__main__':\n",
    "    main()"
   ]
  },
  {
   "cell_type": "code",
   "execution_count": 5,
   "id": "f44fbcc7-6162-4b6c-8407-98b1b08a3ff8",
   "metadata": {},
   "outputs": [
    {
     "name": "stdout",
     "output_type": "stream",
     "text": [
      "3\n"
     ]
    }
   ],
   "source": [
    "# Minimum days to make bouquets\n",
    "# You have given an arr which consists of flowes to be bloomed in no of days\n",
    "# adjacent flowers are required to make a bouquet\n",
    "\n",
    "def is_possible_sol(arr, no_of_bouquets, flowers_required_to_make_bouquet, mid):\n",
    "    Adj_flowers = 0\n",
    "    bouquet_count = 0\n",
    "    for i in arr:\n",
    "        if i <= mid:\n",
    "            Adj_flowers += 1\n",
    "            if Adj_flowers == flowers_required_to_make_bouquet:\n",
    "                bouquet_count += 1\n",
    "                if bouquet_count == no_of_bouquets:\n",
    "                    return True\n",
    "                Adj_flowers = 0\n",
    "        else:\n",
    "            Adj_flowers = 0\n",
    "    return False\n",
    "    \n",
    "\n",
    "def min_days_to_make_bouquets(arr, no_of_bouquets, flowers_required_to_make_bouquet):\n",
    "    if len(arr) < no_of_bouquets * flowers_required_to_make_bouquet:\n",
    "        return -1\n",
    "    low, high = arr[0], arr[0]\n",
    "    for i in arr:\n",
    "        if i < low:\n",
    "            low = i\n",
    "        if i> high:\n",
    "            high = i\n",
    "            \n",
    "    result = -1\n",
    "    while (low <= high):\n",
    "        mid = (low + high)//2\n",
    "        if is_possible_sol(arr, no_of_bouquets, flowers_required_to_make_bouquet, mid):\n",
    "            result = mid\n",
    "            high = mid - 1\n",
    "        else:\n",
    "            low = mid + 1\n",
    "    return result\n",
    "\n",
    "def main():\n",
    "    arr = [1, 10, 3, 10, 2] # arr = list(map(int, input().split()))\n",
    "    no_of_bouquets = 3   # no_ of_bouquets = int(input())\n",
    "    flowers_required_to_make_bouquet = 1  # flowers_required_to_make_bouquet = int(input())\n",
    "    print(min_days_to_make_bouquets(arr, no_of_bouquets, flowers_required_to_make_bouquet))\n",
    "\n",
    "if __name__ == '__main__':\n",
    "    main()"
   ]
  },
  {
   "cell_type": "code",
   "execution_count": 8,
   "id": "8b035d4f-8d6d-4f62-bdd2-c520e93ed5c3",
   "metadata": {},
   "outputs": [
    {
     "name": "stdout",
     "output_type": "stream",
     "text": [
      "True\n"
     ]
    }
   ],
   "source": [
    "# checking weather the given array is sorted or not\n",
    "\n",
    "def is_sorted(arr):\n",
    "    for i in range(1, len(arr)):\n",
    "        if arr[i] < arr[i-1]:\n",
    "            return False\n",
    "    return True\n",
    "\n",
    "def main():\n",
    "    arr = [2, 4, 7, 9, 13, 27, 39, 44, 58]\n",
    "    print(is_sorted(arr))\n",
    "\n",
    "if __name__ == '__main__':\n",
    "    main()"
   ]
  },
  {
   "cell_type": "code",
   "execution_count": 14,
   "id": "ab21f4bf-1307-4629-bea6-0850b986d6ea",
   "metadata": {},
   "outputs": [
    {
     "name": "stdout",
     "output_type": "stream",
     "text": [
      "[2, 5, 3, 7, 9, 12, 56, 98, 23]\n",
      "[23, 98, 56, 12, 9, 7, 3, 5, 2]\n"
     ]
    }
   ],
   "source": [
    "# reversing the given array\n",
    "\n",
    "def reverse(arr):\n",
    "    i = 0\n",
    "    j = len(arr)-1\n",
    "    while i<j :\n",
    "        temp = arr[i]\n",
    "        arr[i] = arr[j]\n",
    "        arr[j] = temp\n",
    "        i += 1\n",
    "        j -= 1\n",
    "\n",
    "def main():\n",
    "    arr = [2, 5, 3, 7, 9, 12, 56, 98, 23]\n",
    "    print(arr)\n",
    "    reverse(arr)\n",
    "    print(arr)\n",
    "\n",
    "if __name__ == '__main__':\n",
    "    main()"
   ]
  },
  {
   "cell_type": "code",
   "execution_count": 1,
   "id": "d7200b4e-1b40-4f35-ab9b-22d8f494ce2a",
   "metadata": {},
   "outputs": [
    {
     "name": "stdin",
     "output_type": "stream",
     "text": [
      " 20\n"
     ]
    },
    {
     "name": "stdout",
     "output_type": "stream",
     "text": [
      "4\n"
     ]
    }
   ],
   "source": [
    "# finding the square root of the given number\n",
    "# time complexity O(log n)\n",
    "\n",
    "def sqrt(N):\n",
    "    if N == 0 or N == 1:\n",
    "        return N\n",
    "    low = 2\n",
    "    high = N//2\n",
    "    result = 0\n",
    "    while (low <= high):\n",
    "        mid = (low + high)//2\n",
    "        if mid*mid == N:\n",
    "            return mid\n",
    "        elif mid*mid < N:\n",
    "            low = mid + 1\n",
    "            result = mid\n",
    "        else:\n",
    "            high = mid - 1\n",
    "    return result\n",
    "\n",
    "def main():\n",
    "    N = int(input())\n",
    "    print(sqrt(N))\n",
    "\n",
    "if __name__ == '__main__':\n",
    "    main()"
   ]
  },
  {
   "cell_type": "code",
   "execution_count": 4,
   "id": "91194a11-b5aa-463b-9a5a-2458e61f8a6f",
   "metadata": {},
   "outputs": [
    {
     "name": "stdout",
     "output_type": "stream",
     "text": [
      "[2, 5, 7, 8, 9, 10]\n"
     ]
    }
   ],
   "source": [
    "# removing the duplicates from the sorted array\n",
    "\n",
    "def remove_duplicates(arr):\n",
    "    remove_duplicates = 0\n",
    "    for i in range(1, len(arr)):\n",
    "        if arr[remove_duplicates] != arr[i]:\n",
    "            remove_duplicates += 1\n",
    "            arr[remove_duplicates] = arr[i]\n",
    "    return remove_duplicates + 1\n",
    "\n",
    "def main():\n",
    "    arr = [2, 5, 5, 5, 7, 7, 8, 9, 9, 10]\n",
    "    after_duplicates_removed = remove_duplicates(arr)\n",
    "    print(arr[:after_duplicates_removed])\n",
    "\n",
    "if __name__ == '__main__':\n",
    "    main()"
   ]
  },
  {
   "cell_type": "code",
   "execution_count": 2,
   "id": "62e579e1-ad92-4420-926f-8bb84c8abdcf",
   "metadata": {},
   "outputs": [
    {
     "name": "stdout",
     "output_type": "stream",
     "text": [
      "[2, 5, 7, 8, 9, 10]\n",
      "[10, 2, 5, 7, 8, 9]\n"
     ]
    }
   ],
   "source": [
    "# rotate an array\n",
    "# Required Time complexity O(n)\n",
    "\n",
    "def rotate_once(arr):\n",
    "    temp = arr[0]\n",
    "    for i in range(1, len(arr)):\n",
    "        arr[i-1] = arr[i]\n",
    "    arr[len(arr)-1] = temp\n",
    "\n",
    "def rotate(arr, k):\n",
    "    k = k%len(arr)\n",
    "    if k < 0:\n",
    "        k = k + len(arr)\n",
    "    for i in range(k):\n",
    "        rotate_once(arr)\n",
    "    \n",
    "\n",
    "def main():\n",
    "    arr = [2, 5, 7, 8, 9, 10]\n",
    "    k = 5\n",
    "    print(arr)\n",
    "    rotate(arr, k)\n",
    "    print(arr)\n",
    "\n",
    "if __name__ == '__main__':\n",
    "    main()\n",
    "\n",
    "# But here time complexity is O(k*n). Therefore this is not a efficient solution"
   ]
  },
  {
   "cell_type": "code",
   "execution_count": 3,
   "id": "9d428501-804e-42c4-950a-3f7500d783d1",
   "metadata": {},
   "outputs": [
    {
     "name": "stdout",
     "output_type": "stream",
     "text": [
      "[2, 3, 5, 7, 8, 9, 10]\n",
      "[9, 10, 2, 3, 5, 7, 8]\n"
     ]
    }
   ],
   "source": [
    "# solving the above problem within the time complexity of O(n)\n",
    "\n",
    "def reverse(arr, start, end):\n",
    "    while start < end:\n",
    "        temp = arr[start]\n",
    "        arr[start] = arr[end]\n",
    "        arr[end] = temp\n",
    "        start += 1\n",
    "        end -= 1\n",
    "\n",
    "def rotate(arr, k):\n",
    "    k = k % len(arr)\n",
    "    if k < 0:\n",
    "        k = k + len(arr)\n",
    "    reverse(arr, 0, k-1)\n",
    "    reverse(arr, k, len(arr)-1)\n",
    "    reverse(arr, 0, len(arr)-1)\n",
    "    \n",
    "def main():\n",
    "    arr = [2, 3, 5, 7, 8, 9, 10]\n",
    "    k = 5\n",
    "    print(arr)\n",
    "    rotate(arr, k)\n",
    "    print(arr)\n",
    "\n",
    "if __name__ == '__main__':\n",
    "    main()"
   ]
  },
  {
   "cell_type": "code",
   "execution_count": 12,
   "id": "d54d89cd-9ac0-467b-8c6a-bb9819b8d06d",
   "metadata": {},
   "outputs": [
    {
     "name": "stdout",
     "output_type": "stream",
     "text": [
      "[7, 8, 4, 6, 9, 6, 4, 6, 0, 0, 0, 0]\n"
     ]
    }
   ],
   "source": [
    "# Moving all zeros to end of the array\n",
    "\n",
    "def move_all_zeros_to_end(arr):\n",
    "    non_zero, zero = 0, 0\n",
    "    size = len(arr)\n",
    "    if size == 0 or size == 1:\n",
    "        return\n",
    "    while(non_zero < size):\n",
    "        if arr[non_zero] != 0:\n",
    "            arr[zero], arr[non_zero] = arr[non_zero], arr[zero]\n",
    "            non_zero += 1\n",
    "            zero += 1\n",
    "        else:\n",
    "            non_zero += 1\n",
    "\n",
    "def main():\n",
    "    arr = [0, 7, 8, 4, 6, 9, 0, 0, 6, 4, 6, 0]\n",
    "    move_all_zeros_to_end(arr)\n",
    "    print(arr)\n",
    "\n",
    "if __name__ == '__main__':\n",
    "    main()"
   ]
  },
  {
   "cell_type": "code",
   "execution_count": 15,
   "id": "d0bf2dc0-5281-4c33-9c55-7ef3fe477b1f",
   "metadata": {},
   "outputs": [
    {
     "name": "stdout",
     "output_type": "stream",
     "text": [
      "[2]\n",
      "[2, 4]\n",
      "[2, 4, 6]\n",
      "[2, 4, 6, 7]\n",
      "[2, 4, 6, 7, 8]\n",
      "[2, 4, 6, 7, 8, 9]\n",
      "[2, 4, 6, 7, 8, 9, 10]\n",
      "[2, 4, 6, 7, 8, 9, 10, 23]\n",
      "[4]\n",
      "[4, 6]\n",
      "[4, 6, 7]\n",
      "[4, 6, 7, 8]\n",
      "[4, 6, 7, 8, 9]\n",
      "[4, 6, 7, 8, 9, 10]\n",
      "[4, 6, 7, 8, 9, 10, 23]\n",
      "[6]\n",
      "[6, 7]\n",
      "[6, 7, 8]\n",
      "[6, 7, 8, 9]\n",
      "[6, 7, 8, 9, 10]\n",
      "[6, 7, 8, 9, 10, 23]\n",
      "[7]\n",
      "[7, 8]\n",
      "[7, 8, 9]\n",
      "[7, 8, 9, 10]\n",
      "[7, 8, 9, 10, 23]\n",
      "[8]\n",
      "[8, 9]\n",
      "[8, 9, 10]\n",
      "[8, 9, 10, 23]\n",
      "[9]\n",
      "[9, 10]\n",
      "[9, 10, 23]\n",
      "[10]\n",
      "[10, 23]\n",
      "[23]\n"
     ]
    }
   ],
   "source": [
    "# finding all the sublists of the given list\n",
    "\n",
    "def sub_list(arr):\n",
    "    for i in range(len(arr)):\n",
    "        for j in range(i, len(arr)):\n",
    "            print(arr[i:j+1])\n",
    "\n",
    "def main():\n",
    "    arr = [2, 4, 6, 7, 8, 9, 10, 23]\n",
    "    sub_list(arr)\n",
    "\n",
    "if __name__ == '__main__':\n",
    "    main()"
   ]
  },
  {
   "cell_type": "code",
   "execution_count": 23,
   "id": "f312d171-acc1-40c9-a049-efc915d12177",
   "metadata": {},
   "outputs": [
    {
     "name": "stdout",
     "output_type": "stream",
     "text": [
      "[2, 3, 1, 0, 4]\n",
      "[3, 2, 0, 1, 4]\n"
     ]
    }
   ],
   "source": [
    "# printing the inverse of the given array\n",
    "\n",
    "def inverse(arr):\n",
    "    result = [0]*len(arr)\n",
    "    for i in range(len(arr)):\n",
    "        value = arr[i]\n",
    "        result[value] = i\n",
    "    return result\n",
    "\n",
    "def main():\n",
    "    arr = [2, 3, 1, 0, 4]\n",
    "    result = inverse(arr)\n",
    "    print(arr)\n",
    "    print(result)\n",
    "\n",
    "if __name__ == '__main__':\n",
    "    main()"
   ]
  },
  {
   "cell_type": "code",
   "execution_count": 2,
   "id": "8e34c7d5-8bc5-4e85-afaa-1bb70d5fec40",
   "metadata": {},
   "outputs": [
    {
     "name": "stdout",
     "output_type": "stream",
     "text": [
      "66\n",
      "56\n",
      "46\n"
     ]
    }
   ],
   "source": [
    "# returning the leaders present in the given list\n",
    "# A leader is nothing but right_most_element in the list which is greater than all its right side elements\n",
    "\n",
    "def leaders_of_list(arr):\n",
    "    for i in range(len(arr)):\n",
    "        leader = True\n",
    "        for j in range(i+1, len(arr)):\n",
    "            if arr[i] <= arr[j]:\n",
    "                leader = False\n",
    "                break\n",
    "        if leader == True:\n",
    "            print(arr[i])\n",
    "        \n",
    "def main():\n",
    "    arr = [2, 3, 5, 11, 7, 6, 4, 1, 66, 56, 46]\n",
    "    leaders_of_list(arr)\n",
    "\n",
    "if __name__ == '__main__':\n",
    "    main()\n",
    "\n",
    "# But it is here the time complexity is O((n*n)). Therefore it is not a efficient solution."
   ]
  },
  {
   "cell_type": "code",
   "execution_count": 3,
   "id": "7f86a05d-3ae2-4fc7-a70b-2e2d38b43364",
   "metadata": {},
   "outputs": [
    {
     "name": "stdout",
     "output_type": "stream",
     "text": [
      "1\n",
      "3\n",
      "5\n",
      "7\n",
      "11\n"
     ]
    }
   ],
   "source": [
    "# above problem with efficient solution with time complexity of O(n)\n",
    "\n",
    "def leaders_of_list(arr):\n",
    "    current_leader = arr[len(arr)-1]\n",
    "    print(current_leader)\n",
    "    for i in range(len(arr)-1, -1, -1):\n",
    "        if arr[i] > current_leader:\n",
    "            print(arr[i])\n",
    "            current_leader = arr[i]\n",
    "\n",
    "def main():\n",
    "    arr = [2, 3, 5, 11, 7, 5, 3, 1]\n",
    "    leaders_of_list(arr)\n",
    "\n",
    "if __name__ == '__main__':\n",
    "    main()"
   ]
  },
  {
   "cell_type": "code",
   "execution_count": 7,
   "id": "d33347f4-8c12-44bf-8d33-71ca6f225893",
   "metadata": {},
   "outputs": [
    {
     "name": "stdout",
     "output_type": "stream",
     "text": [
      "2 1\n"
     ]
    }
   ],
   "source": [
    "# frequency of elements in the sorted list\n",
    "\n",
    "def frequency(a):\n",
    "    if len(a) < 1:\n",
    "        print('-1')\n",
    "    freq = 1\n",
    "    i = 1\n",
    "    while(i < len(a)):\n",
    "        while(a[i] == a[i-1]):\n",
    "            freq += 1\n",
    "            i += 1\n",
    "        print(f'{a[i-1]} {freq}')\n",
    "        freq = 1\n",
    "        i += 1\n",
    "    if len(a) == 1 or a[i-1] != a[i-2]:\n",
    "        print(f'{a[i-1]} {freq}')\n",
    "\n",
    "def main():\n",
    "    # a = [20, 20, 30, 30, 30, 40, 40, 80]\n",
    "    a = [2]\n",
    "    frequency(a)\n",
    "\n",
    "if __name__ == '__main__':\n",
    "    main()"
   ]
  },
  {
   "cell_type": "code",
   "execution_count": 19,
   "id": "df25e94b-94e1-46c1-86f5-26c47b1a22f9",
   "metadata": {},
   "outputs": [
    {
     "name": "stdout",
     "output_type": "stream",
     "text": [
      "9\n"
     ]
    }
   ],
   "source": [
    "# Trapping rain water \n",
    "\n",
    "def trapping_water(a):\n",
    "    res = 0\n",
    "    for i in range(1, len(a)-1):\n",
    "        left_bar = a[i]\n",
    "        for j in range(i):\n",
    "            if a[j] > left_bar:\n",
    "                left_bar = a[j]\n",
    "        right_bar = a[i]\n",
    "        for j in range(i+1, len(a)):\n",
    "            if a[j] > right_bar:\n",
    "                right_bar = a[j]\n",
    "        water_level = min(left_bar, right_bar)\n",
    "        res = res + water_level - a[i]\n",
    "    return res\n",
    "\n",
    "def main():\n",
    "    a = [4, 2, 0, 3, 2, 5]\n",
    "    print(trapping_water(a))\n",
    "\n",
    "if __name__ == '__main__':\n",
    "    main()\n",
    "\n",
    "# This is not a efficient solution because here the time complexity is O(n*n) "
   ]
  },
  {
   "cell_type": "code",
   "execution_count": 1,
   "id": "89dffdc9-172f-449a-a470-5c58bb452afe",
   "metadata": {},
   "outputs": [
    {
     "name": "stdout",
     "output_type": "stream",
     "text": [
      "6\n"
     ]
    }
   ],
   "source": [
    "# Same above problem with time complexity of O(n)\n",
    "\n",
    "def trapping_water(a):\n",
    "    res = 0\n",
    "    left_bar = [0]*len(a)\n",
    "    left_bar[0] = a[0]\n",
    "    for i in range(1, len(a)):\n",
    "        left_bar[i] = max(left_bar[i-1], a[i])\n",
    "    right_bar = [0]*len(a)\n",
    "    right_bar[len(a) - 1] = a[len(a) - 1]\n",
    "    for i in range(len(a)- 2, -1, -1):\n",
    "        right_bar[i] = max(right_bar[i+1], a[i])\n",
    "    for i in range(1, len(a)-1):\n",
    "        water_level = min(left_bar[i], right_bar[i])\n",
    "        res += water_level - a[i]\n",
    "    return res\n",
    "\n",
    "def main():\n",
    "    # a = [4, 2, 0, 3, 2, 5]\n",
    "    a = [0, 1, 0, 2, 1, 0, 1, 3, 2, 1, 2, 1]\n",
    "    print(trapping_water(a))\n",
    "\n",
    "if __name__ == '__main__':\n",
    "    main()\n",
    "\n",
    "# Here Time complexity is O(n) but space complexity is incresed, we need space complexity as O(n)"
   ]
  },
  {
   "cell_type": "code",
   "execution_count": 5,
   "id": "2673d6d2-fc34-4b3a-a0c6-44e752f163e3",
   "metadata": {},
   "outputs": [
    {
     "name": "stdout",
     "output_type": "stream",
     "text": [
      "9\n"
     ]
    }
   ],
   "source": [
    "# Same problem but here we solved, time complexity of O(n) and space complexity is O(1)\n",
    "\n",
    "def trapping_water(a):\n",
    "    res = 0\n",
    "    left = 0\n",
    "    right = len(a)-1\n",
    "    left_bar_height = a[0]\n",
    "    right_bar_height = a[len(a)-1]\n",
    "    while(left <= right):\n",
    "        if left_bar_height <= right_bar_height:\n",
    "            if a[left] >= left_bar_height:\n",
    "                left_bar_height = a[left]\n",
    "            else:\n",
    "                res = res + left_bar_height - a[left]\n",
    "            left += 1\n",
    "        else:\n",
    "            if a[right] >= right_bar_height:\n",
    "                right_bar_height = a[right]\n",
    "            else:\n",
    "                res = res + right_bar_height - a[right]\n",
    "            right -= 1\n",
    "    return res\n",
    "\n",
    "def main():\n",
    "    # a = [0, 1, 0, 2, 1, 0, 1, 3, 2, 1, 2, 1]\n",
    "    a = [4, 2, 0, 3, 2, 5]\n",
    "    print(trapping_water(a))\n",
    "if __name__ == '__main__':\n",
    "    main()"
   ]
  },
  {
   "cell_type": "code",
   "execution_count": 1,
   "id": "bd898030-6347-48aa-8c4b-1d377890084c",
   "metadata": {},
   "outputs": [
    {
     "name": "stdout",
     "output_type": "stream",
     "text": [
      "5\n"
     ]
    }
   ],
   "source": [
    "# finding maximum consecutive ones in the given list\n",
    "\n",
    "def max_consecutive_ones(a):\n",
    "    res = 0\n",
    "    for i in range(len(a)):\n",
    "        temp = 0\n",
    "        for j in range(i, len(a)):\n",
    "            if a[j] == 1:\n",
    "                temp += 1\n",
    "            else:\n",
    "                break\n",
    "        res = max(res, temp)\n",
    "    return res\n",
    "\n",
    "def main():\n",
    "    a = [0, 1, 1, 1, 1, 1, 0, 0, 0, 1, 0, 1, 0, 1, 1, 1, 1]\n",
    "    print(max_consecutive_ones(a))\n",
    "\n",
    "if __name__ == '__main__':\n",
    "    main()\n",
    "\n",
    "# Here time complexity is O(n*n). Therefore this is not a efficient way"
   ]
  },
  {
   "cell_type": "code",
   "execution_count": 2,
   "id": "4b36d486-bd32-4ee6-a054-1aaa6b96abc5",
   "metadata": {},
   "outputs": [
    {
     "name": "stdout",
     "output_type": "stream",
     "text": [
      "7\n"
     ]
    }
   ],
   "source": [
    "# above problem with time complexity of O(n). The efficient way\n",
    "\n",
    "def max_comsecutive_ones(a):\n",
    "    res = 0\n",
    "    temp = 0\n",
    "    for i in a:\n",
    "        if i == 1:\n",
    "            temp += 1\n",
    "            res = max(temp, res)\n",
    "        else:\n",
    "            res = 0\n",
    "    return res\n",
    "\n",
    "def main():\n",
    "    a = [0, 1, 1, 1, 0, 0, 0, 1, 0, 1, 0, 1, 1, 1, 1, 1, 1, 1]\n",
    "    print(max_consecutive_ones(a))\n",
    "\n",
    "if __name__ == '__main__':\n",
    "    main()"
   ]
  },
  {
   "cell_type": "code",
   "execution_count": 7,
   "id": "c155fb45-12a5-4539-ab9f-a657c6a3c00b",
   "metadata": {},
   "outputs": [
    {
     "name": "stdout",
     "output_type": "stream",
     "text": [
      "16\n"
     ]
    }
   ],
   "source": [
    "# Finding the maximum sub array sum\n",
    "\n",
    "def max_sub_arr(arr):\n",
    "    max_sum = 0\n",
    "    for i in range(len(arr)):\n",
    "        sum = 0\n",
    "        for j in range(i, len(arr)):\n",
    "            sum = sum + arr[j]\n",
    "            max_sum = max(max_sum, sum)\n",
    "    return max_sum\n",
    "\n",
    "def main():\n",
    "    arr = [5, 6, -3, 7, -13, 8, -2, 5, -6, 7, -11, 3, 10, -10, -6, -10, 7, 2]\n",
    "    print(max_sub_arr(arr))\n",
    "\n",
    "if __name__ == '__main__':\n",
    "    main()\n",
    "\n",
    "# This is not a efficient solution, Since the time Complexity is O(n*n)"
   ]
  },
  {
   "cell_type": "code",
   "execution_count": 10,
   "id": "1340dc51-20ec-4bca-a3f7-fec3a1ca92bd",
   "metadata": {},
   "outputs": [
    {
     "name": "stdout",
     "output_type": "stream",
     "text": [
      "16\n"
     ]
    }
   ],
   "source": [
    "# Above problem with efficient solution with Time Complexity of O(n)\n",
    "# Here we are using KADANE'S Algorithm\n",
    "\n",
    "def max_sub_arr(arr):\n",
    "    max_sum = 0\n",
    "    sum = 0\n",
    "    for i in arr:\n",
    "        if sum >= 0:\n",
    "            sum += i\n",
    "        else:\n",
    "            sum = i\n",
    "        if sum > max_sum:\n",
    "            max_sum = sum\n",
    "    return max_sum\n",
    "\n",
    "def main():\n",
    "    arr = [5, 6, -3, 7, -13, 8, -2, 5, -6, 7, -11, 3, 10, -10, -6, -10, 7, 2]\n",
    "    print(max_sub_arr(arr))\n",
    "\n",
    "if __name__ == '__main__':\n",
    "    main()"
   ]
  },
  {
   "cell_type": "code",
   "execution_count": 12,
   "id": "c6423cd3-23f4-4752-90a4-89c62c5236d1",
   "metadata": {},
   "outputs": [
    {
     "name": "stdout",
     "output_type": "stream",
     "text": [
      "3\n"
     ]
    }
   ],
   "source": [
    "# Printing the majority of the element which occurs more then half of the length of the list\n",
    "\n",
    "def majority_occured_element(arr):\n",
    "    count = 1\n",
    "    for i in range(len(arr)):\n",
    "        for j in range(i+1, len(arr)):\n",
    "            if arr[i] == arr[j]:\n",
    "                count += 1\n",
    "        if count > len(arr)/2:\n",
    "            return arr[i]\n",
    "\n",
    "def main():\n",
    "    # arr = [5, 8, 8, 1, 2, 8, 8]\n",
    "    arr = [3, 2, 3]\n",
    "    print(majority_occured_element(arr))\n",
    "\n",
    "if __name__ == '__main__':\n",
    "    main()\n",
    "\n",
    "# This is not a efficient solution. Since, here the time complexity is O(n*n)"
   ]
  },
  {
   "cell_type": "code",
   "execution_count": 15,
   "id": "6cf86f8c-4347-418f-b61d-bcf191dbd72f",
   "metadata": {},
   "outputs": [
    {
     "name": "stdout",
     "output_type": "stream",
     "text": [
      "3\n"
     ]
    }
   ],
   "source": [
    "# Above problem with efficient solution with time complexity of O(n)\n",
    "\n",
    "def majority_occured_element(arr):\n",
    "    majority = arr[0]\n",
    "    count = 1\n",
    "    for i in arr:\n",
    "        if i == majority:\n",
    "            count += 1\n",
    "        else:\n",
    "            count -= 1\n",
    "        if count == 0:\n",
    "            majority = i\n",
    "            count = 1\n",
    "    return majority\n",
    "\n",
    "def main():\n",
    "    # arr = [5, 8, 8, 1, 2, 8, 8]\n",
    "    arr = [3, 2, 3]\n",
    "    print(majority_occured_element(arr))\n",
    "\n",
    "if __name__ == '__main__':\n",
    "    main()"
   ]
  },
  {
   "cell_type": "code",
   "execution_count": 19,
   "id": "fa34d018-be63-4440-8438-f28f60dfc8ba",
   "metadata": {},
   "outputs": [
    {
     "name": "stdout",
     "output_type": "stream",
     "text": [
      "4\n"
     ]
    }
   ],
   "source": [
    "# Longest alternative even odd sub_array\n",
    "\n",
    "def Long_alt_odd_even_sub_arr(arr):\n",
    "    max_count = 1\n",
    "    for i in range(len(arr)):\n",
    "        count = 1\n",
    "        for j in range(i+1, len(arr)):\n",
    "            if (arr[j]%2 == 0 and arr[j-1]%2 != 0) or (arr[j]%2 != 0 and arr[j-1] %2 == 0):\n",
    "                count += 1\n",
    "        max_count = max(max_count, count)\n",
    "    return max_count\n",
    "\n",
    "def main():\n",
    "    arr = [8, 10, 13, 14, 15]\n",
    "    print(Long_alt_odd_even_sub_arr(arr))\n",
    "    \n",
    "if __name__ == '__main__':\n",
    "    main()\n",
    "\n",
    "# This is not a efficient solution. Since here the time complexity is O(n*n)"
   ]
  },
  {
   "cell_type": "code",
   "execution_count": 24,
   "id": "051b065b-8c01-4918-8948-ff1b581c8ca1",
   "metadata": {},
   "outputs": [
    {
     "name": "stdout",
     "output_type": "stream",
     "text": [
      "5\n"
     ]
    }
   ],
   "source": [
    "# above problem with efficient solution of O(n)\n",
    "\n",
    "def Long_alt_odd_even_sub_arr(arr):\n",
    "    max_count = 1\n",
    "    count = 1\n",
    "    for i in range(1, len(arr)):\n",
    "        if (arr[i] % 2 == 0 and arr[i-1] % 2 != 0) or (arr[i] % 2 != 0 and arr[i-1] % 2 == 0):\n",
    "            count += 1\n",
    "            if count > max_count:\n",
    "                max_count = count\n",
    "        else:\n",
    "            count = 1\n",
    "    return max_count\n",
    "\n",
    "def main():\n",
    "    arr = [8, 10, 13, 14, 15, 18, 20]\n",
    "    print(Long_alt_odd_even_sub_arr(arr))\n",
    "\n",
    "if __name__ == '__main__':\n",
    "    main()"
   ]
  },
  {
   "cell_type": "code",
   "execution_count": 33,
   "id": "782d2f34-93f1-430c-abd0-c507004993a0",
   "metadata": {},
   "outputs": [
    {
     "name": "stdout",
     "output_type": "stream",
     "text": [
      "48\n"
     ]
    }
   ],
   "source": [
    "# Sliding window technique\n",
    "\n",
    "import sys\n",
    "def max_sum_sub_arr_k(arr, key):\n",
    "    max_sum = (sys.maxsize) * -1\n",
    "    for i in range(len(arr)-key):\n",
    "        current_sum = 0\n",
    "        for j in range(i, i+key):\n",
    "            current_sum += arr[j]\n",
    "        if current_sum > max_sum:\n",
    "            max_sum = current_sum\n",
    "    return max_sum\n",
    "\n",
    "def main():\n",
    "    arr = [2, 9, 31, -4, 21, 7]\n",
    "    key = 3\n",
    "    print(max_sum_sub_arr_k(arr, key))\n",
    "\n",
    "if __name__ == '__main__':\n",
    "    main()\n",
    "\n",
    "# Here the time complexity is O(n*n). Therefore this solution in not a efficient one"
   ]
  },
  {
   "cell_type": "code",
   "execution_count": 38,
   "id": "1814a21c-f6f2-4d89-bbb0-fdb534a26d96",
   "metadata": {},
   "outputs": [
    {
     "name": "stdout",
     "output_type": "stream",
     "text": [
      "48\n"
     ]
    }
   ],
   "source": [
    "# The above problem in efficient way\n",
    "\n",
    "def max_sum_sub_arr_k(arr, key):\n",
    "    max_sum = 0\n",
    "    current_sum = 0\n",
    "    for i in range(key):\n",
    "        current_sum += arr[i]\n",
    "    max_sum = current_sum\n",
    "    for i in range(key, len(arr)):\n",
    "        current_sum = current_sum + arr[i] - arr[i-key]\n",
    "        if current_sum > max_sum:\n",
    "            max_sum = current_sum\n",
    "    return max_sum\n",
    "\n",
    "def main():\n",
    "    arr = [2, 9, 31, -4, 21, 7]\n",
    "    key = 3\n",
    "    print(max_sum_sub_arr_k(arr, key))\n",
    "\n",
    "if __name__ == '__main__':\n",
    "    main()\n",
    "    "
   ]
  },
  {
   "cell_type": "code",
   "execution_count": 43,
   "id": "5bedcaf1-884d-4523-8684-3823bbdade1f",
   "metadata": {},
   "outputs": [
    {
     "name": "stdout",
     "output_type": "stream",
     "text": [
      "3 - 5\n",
      "8 - 9\n"
     ]
    }
   ],
   "source": [
    "# minimum consecutive flips, such that all ones are transformed into zeros or all zeros are converted into ones\n",
    "\n",
    "def mini_flips(arr):\n",
    "    for i in range(1, len(arr)):\n",
    "        if arr[i] != arr[i-1]:\n",
    "            if arr[i] != arr[0]:\n",
    "                print(i, end = ' - ')\n",
    "            else:\n",
    "                print(i-1)\n",
    "    if arr[len(arr)-1] != arr[0]:\n",
    "        print(len(arr)-1)\n",
    "        \n",
    "\n",
    "def main():\n",
    "    arr = [0, 0, 0, 1, 1, 1, 0, 0, 1, 1, 0, 0]\n",
    "    mini_flips(arr)\n",
    "\n",
    "if __name__ == '__main__':\n",
    "    main()\n"
   ]
  },
  {
   "cell_type": "markdown",
   "id": "88046853-49ae-402c-873d-017741d2ddd9",
   "metadata": {},
   "source": [
    "# MATRICES starts from here"
   ]
  },
  {
   "cell_type": "code",
   "execution_count": 5,
   "id": "ded1581c-69a1-4702-90a8-d98c6f1ed5a3",
   "metadata": {},
   "outputs": [
    {
     "name": "stdout",
     "output_type": "stream",
     "text": [
      "1 2 3 4 5 6 7 8 9 10 11 12 13 14 15 16 "
     ]
    }
   ],
   "source": [
    "# Printing the given matrix in zig-zag order\n",
    "\n",
    "def zig_zag_order(arr):\n",
    "    for i in range(len(arr)):\n",
    "        if i%2 == 0:\n",
    "            for j in range(len(arr[0])):\n",
    "                print(arr[i][j], end = \" \")\n",
    "        else:\n",
    "            for j in range(len(arr[i])-1, -1,-1):\n",
    "                print(arr[i][j], end = \" \")\n",
    "\n",
    "def main():\n",
    "    matrix = [[1, 2, 3, 4], [8, 7, 6, 5], [9, 10, 11, 12], [16, 15, 14, 13]]\n",
    "    zig_zag_order(matrix)\n",
    "\n",
    "if __name__ == '__main__':\n",
    "    main()"
   ]
  },
  {
   "cell_type": "code",
   "execution_count": 15,
   "id": "6281488d-4487-4853-9c4f-f1afc79f1830",
   "metadata": {},
   "outputs": [
    {
     "name": "stdout",
     "output_type": "stream",
     "text": [
      "1 2 3 4 8 12 16 15 14 13 9 5 "
     ]
    }
   ],
   "source": [
    "# printing the boundaries of the given matrix in clock-wise direction\n",
    "\n",
    "def matrix_boundaries(arr):\n",
    "    i = 0\n",
    "    for j in range(len(arr[0])):\n",
    "        print(arr[i][j], end = \" \")\n",
    "    j = len(arr) - 1\n",
    "    for i in range(1, len(arr)):\n",
    "        print(arr[i][j], end = \" \")\n",
    "    i = len(arr) - 1\n",
    "    for j in range(len(arr[i])-2, -1, -1):\n",
    "        print(arr[i][j], end = \" \")\n",
    "    j = 0\n",
    "    for i in range(len(arr)-2, 0, -1):\n",
    "        print(arr[i][j], end = \" \")\n",
    "        \n",
    "def main():\n",
    "    matrix = [[1, 2, 3, 4], [5, 6, 7, 8], [9, 10, 11, 12], [13, 14, 15, 16]]\n",
    "    matrix_boundaries(matrix)\n",
    "\n",
    "if __name__ == '__main__':\n",
    "    main()"
   ]
  },
  {
   "cell_type": "code",
   "execution_count": 17,
   "id": "7cbdf4ee-c985-4798-96bb-5f13004a03ea",
   "metadata": {},
   "outputs": [
    {
     "name": "stdout",
     "output_type": "stream",
     "text": [
      "1 5 9 13 14 15 16 12 8 4 3 2 "
     ]
    }
   ],
   "source": [
    "# printing the boundaries of the given matrix in Anti-clock-wise direction\n",
    "\n",
    "def matrix_boundaries(arr):\n",
    "    j = 0\n",
    "    for i in range(len(arr)):\n",
    "        print(arr[i][j], end = \" \")\n",
    "    i = len(arr) - 1\n",
    "    for j in range(1, len(arr[i])):\n",
    "        print(arr[i][j], end = \" \")\n",
    "    j = len(arr[0]) - 1\n",
    "    for i in range(len(arr) - 2, -1, -1):\n",
    "        print(arr[i][j], end = \" \")\n",
    "    i = 0\n",
    "    for j in range(len(arr[0])-2, 0, -1):\n",
    "        print(arr[i][j], end = \" \")\n",
    "        \n",
    "\n",
    "def main():\n",
    "    matrix = [[1, 2, 3, 4], [5, 6, 7, 8], [9, 10, 11, 12], [13, 14, 15, 16]]\n",
    "    matrix_boundaries(matrix)\n",
    "\n",
    "if __name__ == '__main__':\n",
    "    main()"
   ]
  },
  {
   "cell_type": "code",
   "execution_count": 6,
   "id": "aa8a85fd-174c-484b-bfbe-d54762c0f628",
   "metadata": {},
   "outputs": [
    {
     "name": "stdout",
     "output_type": "stream",
     "text": [
      "False\n"
     ]
    }
   ],
   "source": [
    "# 2D matrix\n",
    "# finding weather the given target element is present in the given matrix or not\n",
    "# row wise it is sorted and column wise it is sorted\n",
    "def find_target_is_present_in_matrix(arr, target):\n",
    "    i = 0\n",
    "    j = len(arr[0]) - 1\n",
    "    while i<len(arr) and j >= 0:\n",
    "        if arr[i][j] == target:\n",
    "            return True\n",
    "        elif arr[i][j] > target:\n",
    "            j -= 1\n",
    "        else:\n",
    "            i += 1\n",
    "    return False\n",
    "\n",
    "def main():\n",
    "    matrix = [[1, 2, 3, 4], [5, 6, 7, 8], [9, 10, 11, 12], [13, 14, 15, 16]]\n",
    "    target = 70\n",
    "    print(find_target_is_present_in_matrix(matrix, target))\n",
    "\n",
    "if __name__ == '__main__':\n",
    "    main()\n",
    "    "
   ]
  },
  {
   "cell_type": "code",
   "execution_count": 28,
   "id": "a32c4c9b-6cb3-4a97-b24e-ebede202b8f3",
   "metadata": {},
   "outputs": [
    {
     "name": "stdout",
     "output_type": "stream",
     "text": [
      "1 2 3 4 8 12 11 10 9 5 6 7 "
     ]
    }
   ],
   "source": [
    "# Spiral traversing a matrix in clock-wise direction\n",
    "\n",
    "def spiral_traversing(arr):\n",
    "    top = 0\n",
    "    left = 0\n",
    "    bottom = len(arr) - 1\n",
    "    right = len(arr[0]) - 1\n",
    "    while(left <= right and top <= bottom):\n",
    "        for i in range(left, right+1):\n",
    "            print(arr[top][i], end = ' ')\n",
    "        top += 1\n",
    "        for i in range(top, bottom + 1):\n",
    "            print(arr[i][right], end = \" \")\n",
    "        right -= 1\n",
    "        if (not(left <= right and top <= bottom)):\n",
    "            break\n",
    "        for i in range(right, left-1, -1):\n",
    "            print(arr[bottom][i], end = \" \")\n",
    "        bottom -= 1\n",
    "        for i in range(bottom, top-1, -1):\n",
    "            print(arr[i][left], end = \" \")\n",
    "        left += 1\n",
    "\n",
    "def main():\n",
    "    # matrix = [[1, 2, 3, 4, 5], [6, 7, 8, 9, 10], [11, 12, 13, 14, 15], [16, 17, 18, 19, 20]]\n",
    "    matrix = [[1, 2, 3, 4], [5, 6, 7, 8], [9, 10, 11, 12]]\n",
    "    spiral_traversing(matrix)\n",
    "\n",
    "if __name__ == '__main__':\n",
    "    main()"
   ]
  },
  {
   "cell_type": "code",
   "execution_count": 40,
   "id": "a90292ca-8fe3-48dd-8f53-877725a53854",
   "metadata": {},
   "outputs": [
    {
     "name": "stdout",
     "output_type": "stream",
     "text": [
      "[1, 6, 11, 16, 17, 18, 19, 20, 15, 10, 5, 4, 3, 2, 7, 12, 13, 14, 9, 8]\n"
     ]
    }
   ],
   "source": [
    "# Spiral traversing a matrix in Anti-clock-wise direction\n",
    "\n",
    "def spiral_traversing_ACW(arr):\n",
    "    top = 0\n",
    "    left = 0\n",
    "    bottom = len(arr) - 1\n",
    "    right = len(arr[0]) - 1\n",
    "    res = []\n",
    "    while(left <= right and top <= bottom):\n",
    "        for i in range(top, bottom + 1):\n",
    "            res.append(arr[i][left])\n",
    "        left += 1\n",
    "        for j in range(left, right + 1):\n",
    "            res.append(arr[bottom][j])\n",
    "        bottom -= 1\n",
    "        if (not(left <= right and top <= bottom)):\n",
    "            break\n",
    "        for i in range(bottom, top-1, -1):\n",
    "            res.append(arr[i][right])\n",
    "        right -= 1\n",
    "        for j in range(right, left-1, -1):\n",
    "            res.append(arr[top][j])\n",
    "        top += 1\n",
    "    print(res)\n",
    "    \n",
    "\n",
    "def main():\n",
    "    matrix = [[1, 2, 3, 4, 5], \n",
    "              [6, 7, 8, 9, 10], \n",
    "              [11, 12, 13, 14, 15], \n",
    "              [16, 17, 18, 19, 20]]\n",
    "    # matrix = [[1, 2, 3, 4], [5, 6, 7, 8], [9, 10, 11, 12]]\n",
    "    spiral_traversing_ACW(matrix)\n",
    "\n",
    "if __name__ == '__main__':\n",
    "    main()"
   ]
  },
  {
   "cell_type": "code",
   "execution_count": 1,
   "id": "75363b16-e830-4252-8c13-fd6dfff91bb8",
   "metadata": {},
   "outputs": [
    {
     "name": "stdout",
     "output_type": "stream",
     "text": [
      "1 2 3 4 5 \n",
      "6 7 8 9 10 \n",
      "11 12 13 14 15 \n",
      "16 17 18 19 20 \n",
      "21 22 23 24 25 \n",
      "\n",
      "1 6 11 16 21 \n",
      "2 7 12 17 22 \n",
      "3 8 13 18 23 \n",
      "4 9 14 19 24 \n",
      "5 10 15 20 25 \n"
     ]
    }
   ],
   "source": [
    "# Transpose of the given matrix n*n size\n",
    "\n",
    "def Transpose_matrix(arr):\n",
    "    res = []\n",
    "    for i in range(len(arr[0])):\n",
    "        res.append([0]*len(arr))\n",
    "    for i in range(len(arr)):\n",
    "        for j in range(len(arr[i])):\n",
    "            res[j][i] = arr[i][j]\n",
    "    return res\n",
    "\n",
    "def print_matrix(arr):\n",
    "    for i in range(len(arr)):\n",
    "        for j in range(len(arr[i])):\n",
    "            print(arr[i][j], end = \" \")\n",
    "        print()\n",
    "\n",
    "def main():\n",
    "    matrix = [[1, 2, 3, 4, 5], [6, 7, 8, 9, 10], [11, 12, 13, 14, 15], [16, 17, 18, 19, 20], [21, 22, 23, 24, 25]]\n",
    "    print_matrix(matrix)\n",
    "    res = Transpose_matrix(matrix)\n",
    "    print()\n",
    "    print_matrix(res)\n",
    "if __name__ == '__main__':\n",
    "    main()\n",
    "\n",
    "# Here space complexity and time complexity is not efficient\n",
    "# but it works on n*m matrix"
   ]
  },
  {
   "cell_type": "code",
   "execution_count": 37,
   "id": "5370713d-6a56-4bf9-ac28-e44e711714d9",
   "metadata": {},
   "outputs": [
    {
     "name": "stdout",
     "output_type": "stream",
     "text": [
      "1 2 3 4 5 \n",
      "6 7 8 9 10 \n",
      "11 12 13 14 15 \n",
      "16 17 18 19 20 \n",
      "21 22 23 24 25 \n",
      "\n",
      "1 6 11 16 21 \n",
      "2 7 12 17 22 \n",
      "3 8 13 18 23 \n",
      "4 9 14 19 24 \n",
      "5 10 15 20 25 \n"
     ]
    }
   ],
   "source": [
    "# Transpose of the given matrix n*n size\n",
    "# efficient way when compared to above\n",
    "\n",
    "def Transpose_matrix(arr):\n",
    "    for i in range(len(arr)-1):\n",
    "        for j in range(i+1, len(arr[i])):\n",
    "            arr[i][j], arr[j][i] = arr[j][i], arr[i][j]\n",
    "\n",
    "def print_matrix(arr):\n",
    "    for i in range(len(arr)):\n",
    "        for j in range(len(arr[i])):\n",
    "            print(arr[i][j], end = \" \")\n",
    "        print()\n",
    "\n",
    "def main():\n",
    "    matrix = [[1, 2, 3, 4, 5], [6, 7, 8, 9, 10], [11, 12, 13, 14, 15], [16, 17, 18, 19, 20], [21, 22, 23, 24, 25]]\n",
    "    print_matrix(matrix)\n",
    "    Transpose_matrix(matrix)\n",
    "    print()\n",
    "    print_matrix(matrix)\n",
    "if __name__ == '__main__':\n",
    "    main()\n",
    "    "
   ]
  },
  {
   "cell_type": "code",
   "execution_count": 57,
   "id": "9137cd6a-3991-4251-b809-0022baac55e2",
   "metadata": {},
   "outputs": [
    {
     "name": "stdout",
     "output_type": "stream",
     "text": [
      "1 2 3 4 5 \n",
      "6 7 8 9 10 \n",
      "11 12 13 14 15 \n",
      "16 17 18 19 20 \n",
      "21 22 23 24 25 \n",
      "\n",
      "5 4 3 2 1 \n",
      "10 9 8 7 6 \n",
      "15 14 13 12 11 \n",
      "20 19 18 17 16 \n",
      "25 24 23 22 21 \n"
     ]
    }
   ],
   "source": [
    "# reversing the columns of the given matrix, or mirror image of the given matrix\n",
    "\n",
    "def matrix_mirror_image(arr):\n",
    "    for i in range(len(arr)):\n",
    "        left = 0\n",
    "        right = len(arr[0]) - 1\n",
    "        while left < right:\n",
    "            arr[i][left], arr[i][right] = arr[i][right], arr[i][left]\n",
    "            left += 1\n",
    "            right -= 1\n",
    "\n",
    "def print_matrix(arr):\n",
    "    for i in range(len(arr)):\n",
    "        for j in range(len(arr[i])):\n",
    "            print(arr[i][j], end = \" \")\n",
    "        print()\n",
    "\n",
    "def main():\n",
    "    matrix = [[1, 2, 3, 4, 5], [6, 7, 8, 9, 10], [11, 12, 13, 14, 15], [16, 17, 18, 19, 20], [21, 22, 23, 24, 25]]\n",
    "    print_matrix(matrix)\n",
    "    matrix_mirror_image(matrix)\n",
    "    print()\n",
    "    print_matrix(matrix)\n",
    "\n",
    "if __name__ == '__main__':\n",
    "    main()"
   ]
  },
  {
   "cell_type": "code",
   "execution_count": 59,
   "id": "070957f5-c228-409a-886b-d2138c8535b7",
   "metadata": {},
   "outputs": [
    {
     "name": "stdout",
     "output_type": "stream",
     "text": [
      "1 2 3 4 5 \n",
      "6 7 8 9 10 \n",
      "11 12 13 14 15 \n",
      "16 17 18 19 20 \n",
      "21 22 23 24 25 \n",
      "\n",
      "21 22 23 24 25 \n",
      "16 17 18 19 20 \n",
      "11 12 13 14 15 \n",
      "6 7 8 9 10 \n",
      "1 2 3 4 5 \n"
     ]
    }
   ],
   "source": [
    "# reversing the rows in the given matrix\n",
    "\n",
    "def matrix_row_mirror_image(arr):\n",
    "    for i in range(len(arr[0])):\n",
    "        top = 0\n",
    "        bottom = len(arr)-1\n",
    "        while top < bottom:\n",
    "            arr[top][i], arr[bottom][i] = arr[bottom][i], arr[top][i]\n",
    "            top += 1\n",
    "            bottom -= 1\n",
    "\n",
    "def print_matrix(arr):\n",
    "    for i in range(len(arr)):\n",
    "        for j in range(len(arr[i])):\n",
    "            print(arr[i][j], end = \" \")\n",
    "        print()\n",
    "\n",
    "def main():\n",
    "    matrix = [[1, 2, 3, 4, 5], [6, 7, 8, 9, 10], [11, 12, 13, 14, 15], [16, 17, 18, 19, 20], [21, 22, 23, 24, 25]]\n",
    "    print_matrix(matrix)\n",
    "    matrix_row_mirror_image(matrix)\n",
    "    print()\n",
    "    print_matrix(matrix)\n",
    "\n",
    "if __name__ == '__main__':\n",
    "    main()"
   ]
  },
  {
   "cell_type": "code",
   "execution_count": 60,
   "id": "5358879a-a9c3-43bf-a713-867149515afb",
   "metadata": {},
   "outputs": [
    {
     "name": "stdout",
     "output_type": "stream",
     "text": [
      "1 2 3 4 5 \n",
      "6 7 8 9 10 \n",
      "11 12 13 14 15 \n",
      "16 17 18 19 20 \n",
      "21 22 23 24 25 \n",
      "\n",
      "21 16 11 6 1 \n",
      "22 17 12 7 2 \n",
      "23 18 13 8 3 \n",
      "24 19 14 9 4 \n",
      "25 20 15 10 5 \n"
     ]
    }
   ],
   "source": [
    "# rotating the given matrix in 90 degrees right side direction\n",
    "\n",
    "def transpose(arr):\n",
    "    for i in range(len(arr)-1):\n",
    "        for j in range(i+1, len(arr[i])):\n",
    "            arr[i][j], arr[j][i] = arr[j][i], arr[i][j]\n",
    "\n",
    "def column_reverse(arr):\n",
    "    for i in range(len(arr)):\n",
    "        left = 0\n",
    "        right = len(arr[0]) - 1\n",
    "        while left < right:\n",
    "            arr[i][left], arr[i][right] = arr[i][right], arr[i][left]\n",
    "            left += 1\n",
    "            right -= 1\n",
    "\n",
    "def right_rotate_90(arr):\n",
    "    transpose(arr)\n",
    "    column_reverse(arr)\n",
    "\n",
    "def print_matrix(arr):\n",
    "    for i in range(len(arr)):\n",
    "        for j in range(len(arr[i])):\n",
    "            print(arr[i][j], end = \" \")\n",
    "        print()\n",
    "\n",
    "def main():\n",
    "    matrix = [[1, 2, 3, 4, 5], [6, 7, 8, 9, 10], [11, 12, 13, 14, 15], [16, 17, 18, 19, 20], [21, 22, 23, 24, 25]]\n",
    "    print_matrix(matrix)\n",
    "    print()\n",
    "    right_rotate_90(matrix)\n",
    "    print_matrix(matrix)\n",
    "    \n",
    "if __name__ == '__main__':\n",
    "    main()"
   ]
  },
  {
   "cell_type": "markdown",
   "id": "234bbf91-660c-4c17-9987-2c35c1729c07",
   "metadata": {},
   "source": [
    "# LINKED LISTS Starts Here"
   ]
  },
  {
   "cell_type": "code",
   "execution_count": 3,
   "id": "f99c731d-d4e1-48ee-b0e4-a396dfc4159f",
   "metadata": {},
   "outputs": [
    {
     "name": "stdout",
     "output_type": "stream",
     "text": [
      "10\n"
     ]
    }
   ],
   "source": [
    "# creating linked list\n",
    "\n",
    "class Node:\n",
    "    def __init__(self, data):\n",
    "        self.data = data\n",
    "        self.next = None\n",
    "def main():\n",
    "    n1 = Node(10)\n",
    "    n2 = Node(20)\n",
    "    n3 = Node(30)\n",
    "    head = n1\n",
    "    n1.next = n2\n",
    "    n2.next = n3\n",
    "    print(head.data)\n",
    "\n",
    "if __name__ == '__main__':\n",
    "    main()\n",
    "\n",
    "# but this is not a correct way to create linked list"
   ]
  },
  {
   "cell_type": "code",
   "execution_count": 9,
   "id": "e55b22f4-c693-4ec3-94c1-43f15b5ef44c",
   "metadata": {},
   "outputs": [
    {
     "name": "stdout",
     "output_type": "stream",
     "text": [
      "10\n",
      "20\n",
      "30\n"
     ]
    }
   ],
   "source": [
    "# printing linked list\n",
    "class Node:\n",
    "    def __init__(self, data):\n",
    "        self.data = data\n",
    "        self.next = None\n",
    "\n",
    "class Linkedlist:\n",
    "    def __init__(self):\n",
    "        self.head = None\n",
    "    def print_linked_list(self):\n",
    "        curr = self.head\n",
    "        while(curr != None):\n",
    "            print(curr.data)\n",
    "            curr = curr.next\n",
    "\n",
    "def main():\n",
    "    ll = Linkedlist()\n",
    "    n1 = Node(10)\n",
    "    n2 = Node(20)\n",
    "    n3 = Node(30)\n",
    "    ll.head = n1\n",
    "    n1.next = n2\n",
    "    n2.next = n3\n",
    "    ll.print_linked_list()\n",
    "\n",
    "if __name__ == '__main__':\n",
    "    main()\n",
    "\n",
    "# This is not a correct way to create linkedlist"
   ]
  },
  {
   "cell_type": "code",
   "execution_count": 1,
   "id": "8dc1031f-194b-4d3b-ada1-d1c11ad2b78c",
   "metadata": {},
   "outputs": [
    {
     "name": "stdout",
     "output_type": "stream",
     "text": [
      "10\n",
      "20\n",
      "20\n",
      "30\n"
     ]
    }
   ],
   "source": [
    "# Proper way of creating the linked list\n",
    "class Node:\n",
    "    def __init__(self, data):\n",
    "        self.data = data\n",
    "        self.next = None\n",
    "\n",
    "class Linked_list:\n",
    "    def __init__(self):\n",
    "        self.head = None\n",
    "        \n",
    "    # printing the linkedlist\n",
    "    def print_linkedlist(self):\n",
    "        curr = self.head\n",
    "        while curr != None:\n",
    "            print(curr.data)\n",
    "            curr = curr.next\n",
    "\n",
    "    def adding_element(self, ele):\n",
    "        temp = Node(ele)\n",
    "        if self.head == None:\n",
    "            self.head = temp\n",
    "        else:\n",
    "            curr = self.head\n",
    "            while curr.next != None:\n",
    "                curr = curr.next\n",
    "            curr.next = temp\n",
    "\n",
    "def main():\n",
    "    ll = Linked_list()\n",
    "    ll.adding_element(10)\n",
    "    ll.adding_element(20)\n",
    "    ll.adding_element(20)\n",
    "    ll.adding_element(30)\n",
    "    ll.print_linkedlist()\n",
    "\n",
    "if __name__ == '__main__':\n",
    "    main()"
   ]
  },
  {
   "cell_type": "code",
   "execution_count": 64,
   "id": "502f834c-95e3-4318-a873-3781d4e23eec",
   "metadata": {},
   "outputs": [
    {
     "name": "stdout",
     "output_type": "stream",
     "text": [
      "10 20 30 \n",
      "\n",
      "After adding ele at first position\n",
      "5 10 20 30 \n",
      "\n",
      "After adding ele at 0th index\n",
      "2 5 10 20 30 \n",
      "\n",
      "After adding ele at 4th index\n",
      "2 5 10 20 45 30 \n",
      "\n",
      "After adding multiple elements to the existing linkedlist\n",
      "2 5 10 20 45 30 35 40 45 40 55 60 \n",
      "\n",
      "After removing first element\n",
      "5 10 20 45 30 35 40 45 40 55 60 \n",
      "\n",
      "After removing last element\n",
      "5 10 20 45 30 35 40 45 40 55 \n",
      "\n",
      "First index of element  45  is 3\n",
      "\n",
      "The last index  45  is 7\n",
      "\n",
      "the size of linked list is: 10\n"
     ]
    }
   ],
   "source": [
    "# linked lists\n",
    "\n",
    "class Node:\n",
    "    def __init__(self, data):\n",
    "        self.data = data\n",
    "        self.next = None\n",
    "\n",
    "class linkedlist:\n",
    "    def __init__(self):\n",
    "        self.head = None\n",
    "\n",
    "    # printing linkedlist\n",
    "    def print_linkedlist(self):\n",
    "        curr = self.head\n",
    "        while curr != None:\n",
    "            print(curr.data, end = \" \")\n",
    "            curr = curr.next\n",
    "        print()\n",
    "\n",
    "    # adding elements into linkedlist\n",
    "    def adding_element(self, ele):\n",
    "        temp = Node(ele)\n",
    "        if self.head == None:\n",
    "            self.head = temp\n",
    "        else:\n",
    "            curr = self.head\n",
    "            while(curr.next != None):\n",
    "                curr = curr.next\n",
    "            curr.next = temp\n",
    "\n",
    "    # adding element at first position\n",
    "    # Two cases 1. when linkedlist empty and 2. when linkedlist is not empty\n",
    "    def adding_at_first_Position(self, ele):\n",
    "        temp = Node(ele)\n",
    "        if self.head == None:\n",
    "            self.head = temp\n",
    "        else:\n",
    "            temp.next = self.head\n",
    "            self.head = temp\n",
    "\n",
    "    # adding element at given index\n",
    "    # Two cases 1. when index is 0 and 2. index is greater than 0\n",
    "    def adding_element_at(self, index, ele):\n",
    "        try:\n",
    "            temp = Node(ele)\n",
    "            if index == 0:\n",
    "                self.adding_at_first_Position(ele)\n",
    "            else:\n",
    "                curr = self.head\n",
    "                count = 0\n",
    "                while count < index - 1:\n",
    "                    curr = curr.next\n",
    "                    count += 1\n",
    "                temp.next = curr.next\n",
    "                curr.next = temp\n",
    "        except AttributeError:\n",
    "            raise IndexError('index ' + str(index) + ' does not exists')\n",
    "\n",
    "    # adding multiple elements to linkedlist\n",
    "    def adding_multiple_elements(self, elements):\n",
    "        for ele in elements:\n",
    "            self.adding_element(ele)\n",
    "\n",
    "    # removing the first element in the linked list\n",
    "    # 3 scenarios 1. linked list is empty, 2. linked list has only one element and 3. linked list has more than one element\n",
    "    def remove_first_element(self):\n",
    "        if self.head == None:\n",
    "            print(\"No elements in linkedlist\")\n",
    "        elif self.head.next == None:\n",
    "            self.head = None\n",
    "        elif self.head.next != None:\n",
    "            curr = self.head\n",
    "            self.head = self.head.next\n",
    "            curr.next = None\n",
    "\n",
    "    # Removing the last element in the linked list\n",
    "    # 3 scenarios 1. linked list is empty, 2. linked list has only one element and 3. linked list has more than one element\n",
    "    def remove_last_element(self):\n",
    "        if self.head == None:\n",
    "            print(\"No elements to delete\")\n",
    "        elif self.head.next == None:\n",
    "            self.head = None\n",
    "        elif self.head.next != None:\n",
    "            curr = self.head\n",
    "            while curr.next.next != None:\n",
    "                curr = curr.next\n",
    "            curr.next = None\n",
    "\n",
    "    # finding the index of the given element\n",
    "    def find_index(self, ele):\n",
    "        curr = self.head\n",
    "        count = 0\n",
    "        while curr != None:\n",
    "            if curr.data == ele:\n",
    "                return count\n",
    "            curr = curr.next\n",
    "            count += 1\n",
    "        return -1\n",
    "\n",
    "    # if element occured more than one time, then print the last index of that element\n",
    "    def last_index(self, ele):\n",
    "        curr = self.head\n",
    "        count = 0\n",
    "        last_index = -1\n",
    "        while curr != None:\n",
    "            if curr.data == ele:\n",
    "                last_index = count\n",
    "            curr = curr.next\n",
    "            count += 1\n",
    "        return last_index\n",
    "\n",
    "    # finding the size of the linkedlist\n",
    "    def size(self):\n",
    "        curr = self.head\n",
    "        count = 0\n",
    "        while curr != None:\n",
    "            curr = curr.next\n",
    "            count += 1\n",
    "        return count\n",
    "            \n",
    "            \n",
    "\n",
    "def main():\n",
    "    ll = linkedlist()\n",
    "    ll.adding_element(10)\n",
    "    ll.adding_element(20)\n",
    "    ll.adding_element(30)\n",
    "    ll.print_linkedlist()\n",
    "    print()\n",
    "    ll.adding_at_first_Position(5)\n",
    "    print(\"After adding ele at first position\")\n",
    "    ll.print_linkedlist()\n",
    "    \n",
    "    print()\n",
    "    print(\"After adding ele at 0th index\")\n",
    "    ll.adding_element_at(0, 2)\n",
    "    ll.print_linkedlist()\n",
    "    \n",
    "    print()\n",
    "    print(\"After adding ele at 4th index\")\n",
    "    ll.adding_element_at(4, 45)\n",
    "    ll.print_linkedlist()\n",
    "    # ll.adding_element_at(10, 50)\n",
    "    # ll.print_linkedlist()\n",
    "    \n",
    "    elements = [35, 40, 45, 40, 55, 60]\n",
    "    print()\n",
    "    print(\"After adding multiple elements to the existing linkedlist\")\n",
    "    ll.adding_multiple_elements(elements)\n",
    "    ll.print_linkedlist()\n",
    "    \n",
    "    print()\n",
    "    print(\"After removing first element\")\n",
    "    ll.remove_first_element()\n",
    "    ll.print_linkedlist()\n",
    "    \n",
    "    print()\n",
    "    print(\"After removing last element\")\n",
    "    ll.remove_last_element()\n",
    "    ll.print_linkedlist()\n",
    "\n",
    "    print()\n",
    "    fi = 45\n",
    "    print(\"First index of element \", fi, \" is\", ll.find_index(fi) )\n",
    "\n",
    "    print()\n",
    "    li = 45\n",
    "    print(\"The last index \", li, ' is', ll.last_index(li))\n",
    "\n",
    "    print()\n",
    "    print(\"the size of linked list is:\", ll.size())\n",
    "\n",
    "if __name__ == '__main__':\n",
    "    main()"
   ]
  },
  {
   "cell_type": "code",
   "execution_count": 11,
   "id": "5c705f66-9981-4989-8633-9980dbf57ece",
   "metadata": {},
   "outputs": [
    {
     "name": "stdout",
     "output_type": "stream",
     "text": [
      "10 20 30 \n",
      "\n",
      "5 10 20 25 30 50 \n"
     ]
    }
   ],
   "source": [
    "# adding element to the sorted lined list\n",
    "\n",
    "class Node:\n",
    "    def __init__(self, data):\n",
    "        self.data = data\n",
    "        self.next = None\n",
    "\n",
    "class linked_list:\n",
    "    def __init__(self):\n",
    "        self.head = None\n",
    "        \n",
    "    def print_elements(self):\n",
    "        curr = self.head\n",
    "        while curr != None:\n",
    "            print(curr.data, end = \" \")\n",
    "            curr = curr.next\n",
    "        print()\n",
    "\n",
    "    def add_elements(self, ele):\n",
    "        temp = Node(ele)\n",
    "        if self.head == None:\n",
    "            self.head = temp\n",
    "        else:\n",
    "            curr = self.head\n",
    "            while curr.next != None:\n",
    "                curr = curr.next\n",
    "            curr.next = temp\n",
    "\n",
    "    # adding element to sorted list\n",
    "    # three scenarios, 1. when linked list is empty, 2. when linked list first node is greater then adding element, and 3. other cases\n",
    "    def add_ele_to_sorted_list(self, ele):\n",
    "        temp = Node(ele)\n",
    "        if self.head == None:\n",
    "            self.head = temp\n",
    "        elif self.head.data > temp.data:\n",
    "            temp.next = self.head\n",
    "            self.head = temp\n",
    "        else:\n",
    "            curr = self.head\n",
    "            while curr.next != None and curr.next.data < temp.data:\n",
    "                curr = curr.next\n",
    "            temp.next = curr.next\n",
    "            curr.next = temp\n",
    "\n",
    "\n",
    "def main():\n",
    "    ll = linked_list()\n",
    "    ll.add_elements(10)\n",
    "    ll.add_elements(20)\n",
    "    ll.add_elements(30)\n",
    "    ll.print_elements()\n",
    "\n",
    "    print()\n",
    "    ll.add_ele_to_sorted_list(5)\n",
    "    ll.add_ele_to_sorted_list(50)\n",
    "    ll.add_ele_to_sorted_list(25)\n",
    "    ll.print_elements()\n",
    "\n",
    "if __name__ == '__main__':\n",
    "    main()\n",
    "            \n",
    "            "
   ]
  },
  {
   "cell_type": "markdown",
   "id": "058cb931-0d62-4cb4-bb60-b1f715be9c1b",
   "metadata": {},
   "source": [
    "# DOUBLE LINKED LIST Starts here"
   ]
  },
  {
   "cell_type": "code",
   "execution_count": 4,
   "id": "0c96077d-ae73-4296-90af-9c461f03e097",
   "metadata": {},
   "outputs": [
    {
     "name": "stdout",
     "output_type": "stream",
     "text": [
      "10\n",
      "None\n",
      "None\n"
     ]
    }
   ],
   "source": [
    "# implementation of double linked list\n",
    "\n",
    "class Node:\n",
    "    def __init__(self, data):\n",
    "        self.data = data\n",
    "        self.next = None\n",
    "        self.prev = None\n",
    "\n",
    "# class doublelinkedlist:\n",
    "#     def __init__(self):\n",
    "#         self.head = None\n",
    "#         self.tail = None\n",
    "\n",
    "def main():\n",
    "    # dll = doublelinkedlist()\n",
    "    n1 = Node(10)\n",
    "    print(n1.data)\n",
    "    print(n1.next)\n",
    "    print(n1.prev)\n",
    "\n",
    "if __name__ == '__main__':\n",
    "    main()"
   ]
  },
  {
   "cell_type": "code",
   "execution_count": 6,
   "id": "91b61224-ba86-4689-87e7-8262cb792e11",
   "metadata": {},
   "outputs": [
    {
     "name": "stdout",
     "output_type": "stream",
     "text": [
      "10\n",
      "30\n"
     ]
    }
   ],
   "source": [
    "# Adding the elements to double linked list\n",
    "\n",
    "class Node:\n",
    "    def __init__(self, data):\n",
    "        self.data = data\n",
    "        self.next = None\n",
    "        self.prev = None\n",
    "\n",
    "class doublelinkedlist:\n",
    "    def __init__(self):\n",
    "        self.head = None\n",
    "        self.tail = None\n",
    "\n",
    "    def add_element(self, ele):\n",
    "        temp = Node(ele)\n",
    "        if self.head == None:\n",
    "            self.head = temp\n",
    "            self.tail = temp\n",
    "        else:\n",
    "            self.tail.next = temp\n",
    "            temp.prev = self.tail\n",
    "            self.tail = temp\n",
    "\n",
    "def main():\n",
    "    dll = doublelinkedlist()\n",
    "    dll.add_element(10)\n",
    "    dll.add_element(20)\n",
    "    dll.add_element(30)\n",
    "    print(dll.head.data)\n",
    "    print(dll.tail.data)\n",
    "\n",
    "if __name__ == '__main__':\n",
    "    main()\n",
    "    "
   ]
  },
  {
   "cell_type": "code",
   "execution_count": 21,
   "id": "c47fbaaf-67e3-449a-8aea-947ec5353c51",
   "metadata": {},
   "outputs": [
    {
     "name": "stdout",
     "output_type": "stream",
     "text": [
      "10 20 30 \n",
      "\n",
      "Reverse of double linked list is:\n",
      "30 20 10 \n",
      "\n",
      "After adding 1st element  5  is\n",
      "5 10 20 30 \n",
      "\n",
      "After adding element  15  at  3  is:\n",
      "5 10 20 15 30 \n",
      "\n",
      "Adding multiple elements  [35, 40, 45]  is\n",
      "5 10 20 15 30 35 40 45 \n",
      "\n",
      "After removing first element: \n",
      "10 20 15 30 35 40 45 \n",
      "\n",
      "After removing the last element\n",
      "10 20 15 30 35 40 \n"
     ]
    }
   ],
   "source": [
    "# doubly linked list\n",
    "\n",
    "class Node:\n",
    "    def __init__(self, data):\n",
    "        self.data = data\n",
    "        self.next = None\n",
    "        self.prev = None\n",
    "\n",
    "class doubly_linked_list:\n",
    "    def __init__(self):\n",
    "        self.head = None\n",
    "        self.tail = None\n",
    "\n",
    "    # addind elements to double linked list\n",
    "    def add_element(self, ele):\n",
    "        temp = Node(ele)\n",
    "        if self.head == None:\n",
    "            self.head = temp\n",
    "            self.tail = temp\n",
    "        else:\n",
    "            self.tail.next = temp\n",
    "            temp.prev = self.tail\n",
    "            self.tail = temp\n",
    "    \n",
    "    # printing the double linked list\n",
    "    def print_double_linked_list(self):\n",
    "        curr = self.head\n",
    "        while curr != None:\n",
    "            print(curr.data, end = \" \")\n",
    "            curr = curr.next\n",
    "        print()\n",
    "\n",
    "    # printing the reverse of the double linked list\n",
    "    def print_reverse_of_dll(self):\n",
    "        curr = self.tail\n",
    "        while curr != None:\n",
    "            print(curr.data, end = \" \")\n",
    "            curr = curr.prev\n",
    "        print()\n",
    "\n",
    "    # Adding the element at first position of the double linked list\n",
    "    # Two scenarios, 1. when there is no element and 2. when there is one or more elements\n",
    "    def add_first(self, ele):\n",
    "        temp = Node(ele)\n",
    "        if self.head == None:\n",
    "            self.head = temp\n",
    "            self.tail = temp\n",
    "        else:\n",
    "            temp.next = self.head\n",
    "            self.head.prev = temp\n",
    "            self.head = temp\n",
    "\n",
    "    # Adding element at specific index\n",
    "    # two scenarios, 1. when index is 0 and 2. when index is not zero\n",
    "    def adding_ele_at(self, index, ele):\n",
    "        if index == 0:\n",
    "            self.add_first(ele)\n",
    "        else:\n",
    "            temp = Node(ele)\n",
    "            count = 0\n",
    "            curr = self.head\n",
    "            while count < index - 1:\n",
    "                curr = curr.next\n",
    "                count += 1\n",
    "            curr.next.prev = temp\n",
    "            temp.next = curr.next\n",
    "            temp.prev = curr\n",
    "            curr.next = temp\n",
    "\n",
    "    # Adding multiple elements to double linked list\n",
    "    def add_multiple_elements(self, elements):\n",
    "        for ele in elements:\n",
    "            self.add_element(ele)\n",
    "\n",
    "    # Removing first element in the double linked \n",
    "    # three scenarios, 1. when no element, 2. when only one element, 3. when there is more than one element\n",
    "    def remove_first_element(self):\n",
    "        if self.head == None:\n",
    "            pass\n",
    "        elif self.head.next == None:\n",
    "            self.head = None\n",
    "            self.tail = None\n",
    "        elif self.head.next != None:\n",
    "            curr = self.head\n",
    "            self.head = self.head.next\n",
    "            curr.next = None\n",
    "            self.head.prev = None\n",
    "\n",
    "    # Removing the last element from the double linked lisk\n",
    "    # three scenarios, 1. when no element, 2. when there is one element, and 3. when there is more than one element\n",
    "    def remove_last_element(self):\n",
    "        if self.head == None:\n",
    "            pass\n",
    "        elif self.head.next == None:\n",
    "            self.head = None\n",
    "            self.tail = None\n",
    "        elif self.head.next != None:\n",
    "            curr = self.tail\n",
    "            self.tail = self.tail.prev\n",
    "            self.tail.next = None\n",
    "            curr.prev = None\n",
    "            \n",
    "            \n",
    "\n",
    "def main():\n",
    "    dll = doubly_linked_list()\n",
    "    dll.add_element(10)\n",
    "    dll.add_element(20)\n",
    "    dll.add_element(30)\n",
    "    dll.print_double_linked_list()\n",
    "\n",
    "    print()\n",
    "    print(\"Reverse of double linked list is:\")\n",
    "    dll.print_reverse_of_dll()\n",
    "\n",
    "    print()\n",
    "    fi = 5\n",
    "    dll.add_first(fi)\n",
    "    print(\"After adding 1st element \", fi, \" is\")\n",
    "    dll.print_double_linked_list()\n",
    "\n",
    "    print()\n",
    "    index = 3\n",
    "    element = 15\n",
    "    dll.adding_ele_at(index, element)\n",
    "    print(\"After adding element \",element,\" at \", index, \" is:\")\n",
    "    dll.print_double_linked_list()\n",
    "\n",
    "    print()\n",
    "    elements = [35, 40, 45]\n",
    "    dll.add_multiple_elements(elements)\n",
    "    print(\"Adding multiple elements \", elements, \" is\")\n",
    "    dll.print_double_linked_list()\n",
    "\n",
    "    print()\n",
    "    print(\"After removing first element: \")\n",
    "    dll.remove_first_element()\n",
    "    dll.print_double_linked_list()\n",
    "\n",
    "    print()\n",
    "    print(\"After removing the last element\")\n",
    "    dll.remove_last_element()\n",
    "    dll.print_double_linked_list()\n",
    "    \n",
    "\n",
    "if __name__ == '__main__':\n",
    "    main()"
   ]
  },
  {
   "cell_type": "markdown",
   "id": "404438cd-4466-4b0d-be23-e0baf8812677",
   "metadata": {},
   "source": [
    "# CIRCULAR LINKED LIST Starts here"
   ]
  },
  {
   "cell_type": "code",
   "execution_count": 12,
   "id": "af074348-8f76-4432-b8fa-45da6a7c21b7",
   "metadata": {},
   "outputs": [
    {
     "name": "stdout",
     "output_type": "stream",
     "text": [
      "10 20 30 \n"
     ]
    }
   ],
   "source": [
    "# implementation of circular linked list\n",
    "\n",
    "class Node:\n",
    "    def __init__(self, data):\n",
    "        self.data = data\n",
    "        self.next = None\n",
    "\n",
    "class circular_linked_list:\n",
    "    def __init__(self):\n",
    "        self.head = None\n",
    "\n",
    "    def print_circular_linked_list(self):\n",
    "        if self.head != None:\n",
    "            curr = self.head.next\n",
    "            print(self.head.data, end = ' ')\n",
    "            while(curr != self.head):\n",
    "                print(curr.data, end = \" \")\n",
    "                curr = curr.next\n",
    "        print()\n",
    "\n",
    "\n",
    "def main():\n",
    "    cll = circular_linked_list()\n",
    "    cll.head = Node(10)\n",
    "    cll.head.next = Node(20)\n",
    "    cll.head.next.next = Node(30)\n",
    "    cll.head.next.next.next = cll.head\n",
    "    cll.print_circular_linked_list()\n",
    "\n",
    "if __name__ == '__main__':\n",
    "    main()"
   ]
  },
  {
   "cell_type": "code",
   "execution_count": 1,
   "id": "74d3365b-26e7-43c5-b083-337147becaa8",
   "metadata": {},
   "outputs": [
    {
     "name": "stdout",
     "output_type": "stream",
     "text": [
      "The elements in circular linked list is:\n",
      "10 20 30 \n",
      "\n",
      "add_first function\n",
      "5 10 20 30 \n",
      "\n",
      "add_first_efficient_way function\n",
      "2 5 10 20 30 \n",
      "\n",
      "add_last function\n",
      "2 5 10 20 30 35 \n",
      "\n",
      "add_last_efficient_way function\n",
      "2 5 10 20 30 35 40 \n",
      "\n",
      "ramove_first function\n",
      "5 10 20 30 35 40 \n",
      "\n",
      "remove_first_effficient function\n",
      "10 20 30 35 40 \n",
      "\n",
      "remove_last funtion\n",
      "10 20 30 35 \n"
     ]
    }
   ],
   "source": [
    "class Node:\n",
    "    def __init__(self, data):\n",
    "        self.data = data\n",
    "        self.next = None\n",
    "\n",
    "class circular_linked_list:\n",
    "    def __init__(self):\n",
    "        self.head = None\n",
    "\n",
    "    # printing the circular linked list\n",
    "    def print_circular_linked_list(self):\n",
    "        if self.head != None:\n",
    "            curr = self.head.next\n",
    "            print(self.head.data, end = ' ')\n",
    "            while curr != self.head:\n",
    "                print(curr.data, end = ' ')\n",
    "                curr = curr.next\n",
    "        print()\n",
    "\n",
    "    # adding element to circular linked list\n",
    "    # two scenarios, 1. when there is no element and 1. when circular linked list is not empty\n",
    "    def add_elements(self, ele):\n",
    "        temp = Node(ele)\n",
    "        if self.head == None:\n",
    "            self.head = temp\n",
    "            self.head.next =  self.head\n",
    "        else:\n",
    "            curr = self.head\n",
    "            while curr.next != self.head:\n",
    "                curr = curr.next\n",
    "            curr.next = temp\n",
    "            temp.next = self.head\n",
    "\n",
    "    # adding node at first place\n",
    "    # two scenarios, 1. when circular linked list is empty, and 2. when it is not empty\n",
    "    def add_first(self, ele):\n",
    "        temp = Node(ele)\n",
    "        if self.head == None:\n",
    "            self.head = temp\n",
    "            self.head.next = self.head\n",
    "        else:\n",
    "            curr = self.head\n",
    "            while curr.next != self.head:\n",
    "                curr = curr.next\n",
    "            curr.next = temp\n",
    "            temp.next = self.head\n",
    "            self.head = temp\n",
    "\n",
    "    def add_first_efficient_way(self, ele):\n",
    "        temp = Node(ele)\n",
    "        if self.head == None:\n",
    "            self.head = temp\n",
    "            self.head.next = self.head\n",
    "        else:\n",
    "            temp.next = self.head.next\n",
    "            self.head.next = temp\n",
    "            self.head.data, temp.data = temp.data, self.head.data\n",
    "\n",
    "    # adding node at last to circular linked list\n",
    "    # two scenarios, 1. when circular linked list is empty, and 2. when it is not empty\n",
    "    def add_last(self, ele):\n",
    "        temp = Node(ele)\n",
    "        if self.head == None:\n",
    "            self.head = temp\n",
    "            self.head.next = self.head\n",
    "        else:\n",
    "            curr = self.head\n",
    "            while curr.next != self.head:\n",
    "                curr = curr.next\n",
    "            curr.next = temp\n",
    "            temp.next = self.head\n",
    "\n",
    "    def add_last_efficient_way(self, ele):\n",
    "        temp = Node(ele)\n",
    "        if self.head == None:\n",
    "            self.head = temp\n",
    "            self.head.next = self.head\n",
    "        else:\n",
    "            temp.next = self.head.next\n",
    "            self.head.next = temp\n",
    "            self.head.data, temp.data = temp.data, self.head.data\n",
    "            self.head = temp\n",
    "\n",
    "    # removing the first node from circular linked list\n",
    "    # three scenarios, 1. when there is no nodes, 2. when there is only one node, and 3. when there is more than one node\n",
    "    def remove_first(self):\n",
    "        if self.head == None:\n",
    "            pass\n",
    "        elif self.head.next == self.head:\n",
    "            self.head = None\n",
    "        elif self.head.next != self.head:\n",
    "            curr = self.head\n",
    "            while(curr.next != self.head):\n",
    "                curr = curr.next\n",
    "            curr.next = self.head.next\n",
    "            self.head = self.head.next\n",
    "    def remove_first_efficient(self):\n",
    "        if self.head == None:\n",
    "            pass\n",
    "        elif self.head.next == self.head:\n",
    "            self.head = None\n",
    "        elif self.head.next != self.head:\n",
    "            self.head.data, self.head.next.data = self.head.next.data, self.head.data\n",
    "            self.head.next = self.head.next.next\n",
    "\n",
    "    # removing last node in the circular lineked list\n",
    "    # three scenarios, 1. when there is no node, 2. when there is only one node, and 3. when there is more than one element\n",
    "    def remove_last(self):\n",
    "        if self.head == None:\n",
    "            pass\n",
    "        elif self.head.next == self.head:\n",
    "            self.head = None\n",
    "        elif self.head.next != self.head:\n",
    "            curr = self.head\n",
    "            while curr.next.next != self.head:\n",
    "                curr = curr.next\n",
    "            curr.next = self.head\n",
    "    \n",
    "\n",
    "def main():\n",
    "    cll = circular_linked_list()\n",
    "    cll.add_elements(10)\n",
    "    cll.add_elements(20)\n",
    "    cll.add_elements(30)\n",
    "    print(\"The elements in circular linked list is:\")\n",
    "    cll.print_circular_linked_list()\n",
    "\n",
    "    print()\n",
    "    print(\"add_first function\")\n",
    "    cll.add_first(5)\n",
    "    cll.print_circular_linked_list()\n",
    "\n",
    "    print()\n",
    "    print(\"add_first_efficient_way function\")\n",
    "    # cll.add_first_efficient_way(4)\n",
    "    # cll.add_first_efficient_way(3)\n",
    "    cll.add_first_efficient_way(2)\n",
    "    cll.print_circular_linked_list()\n",
    "\n",
    "    print() \n",
    "    print(\"add_last function\")\n",
    "    cll.add_last(35)\n",
    "    cll.print_circular_linked_list()\n",
    "\n",
    "    print()\n",
    "    print(\"add_last_efficient_way function\")\n",
    "    cll.add_last_efficient_way(40)\n",
    "    cll.print_circular_linked_list()\n",
    "\n",
    "    print()\n",
    "    print(\"ramove_first function\")\n",
    "    cll.remove_first()\n",
    "    cll.print_circular_linked_list()\n",
    "\n",
    "    print()\n",
    "    print(\"remove_first_effficient function\")\n",
    "    cll.remove_first_efficient()\n",
    "    cll.print_circular_linked_list()\n",
    "\n",
    "    print() \n",
    "    print(\"remove_last funtion\")\n",
    "    cll.remove_last()\n",
    "    cll.print_circular_linked_list()\n",
    "\n",
    "if __name__ == '__main__':\n",
    "    main()"
   ]
  },
  {
   "cell_type": "markdown",
   "id": "9a52dcba-0abf-48f3-9bd2-c0e5917cf975",
   "metadata": {},
   "source": [
    "# STACKS starts here"
   ]
  },
  {
   "cell_type": "code",
   "execution_count": 11,
   "id": "464d6809-cdaa-4467-91dd-bffd435fa32f",
   "metadata": {},
   "outputs": [
    {
     "name": "stdout",
     "output_type": "stream",
     "text": [
      "30\n",
      "20\n",
      "10\n"
     ]
    },
    {
     "ename": "StackUnderFlowError",
     "evalue": "no elements present in the stack",
     "output_type": "error",
     "traceback": [
      "\u001b[1;31m---------------------------------------------------------------------------\u001b[0m",
      "\u001b[1;31mStackUnderFlowError\u001b[0m                       Traceback (most recent call last)",
      "Cell \u001b[1;32mIn[11], line 31\u001b[0m\n\u001b[0;32m     28\u001b[0m     \u001b[38;5;28mprint\u001b[39m(my_stack\u001b[38;5;241m.\u001b[39mpop())\n\u001b[0;32m     30\u001b[0m \u001b[38;5;28;01mif\u001b[39;00m \u001b[38;5;18m__name__\u001b[39m \u001b[38;5;241m==\u001b[39m \u001b[38;5;124m'\u001b[39m\u001b[38;5;124m__main__\u001b[39m\u001b[38;5;124m'\u001b[39m:\n\u001b[1;32m---> 31\u001b[0m     main()\n",
      "Cell \u001b[1;32mIn[11], line 28\u001b[0m, in \u001b[0;36mmain\u001b[1;34m()\u001b[0m\n\u001b[0;32m     26\u001b[0m \u001b[38;5;28mprint\u001b[39m(my_stack\u001b[38;5;241m.\u001b[39mpop())\n\u001b[0;32m     27\u001b[0m \u001b[38;5;28mprint\u001b[39m(my_stack\u001b[38;5;241m.\u001b[39mpop())\n\u001b[1;32m---> 28\u001b[0m \u001b[38;5;28mprint\u001b[39m(my_stack\u001b[38;5;241m.\u001b[39mpop())\n",
      "Cell \u001b[1;32mIn[11], line 15\u001b[0m, in \u001b[0;36mstack.pop\u001b[1;34m(self)\u001b[0m\n\u001b[0;32m     13\u001b[0m \u001b[38;5;28;01mdef\u001b[39;00m \u001b[38;5;21mpop\u001b[39m(\u001b[38;5;28mself\u001b[39m):\n\u001b[0;32m     14\u001b[0m     \u001b[38;5;28;01mif\u001b[39;00m \u001b[38;5;28mlen\u001b[39m(\u001b[38;5;28mself\u001b[39m\u001b[38;5;241m.\u001b[39ml) \u001b[38;5;241m==\u001b[39m \u001b[38;5;241m0\u001b[39m:\n\u001b[1;32m---> 15\u001b[0m         \u001b[38;5;28;01mraise\u001b[39;00m StackUnderFlowError(\u001b[38;5;124m\"\u001b[39m\u001b[38;5;124mno elements present in the stack\u001b[39m\u001b[38;5;124m\"\u001b[39m)\n\u001b[0;32m     16\u001b[0m     Top \u001b[38;5;241m=\u001b[39m \u001b[38;5;28mself\u001b[39m\u001b[38;5;241m.\u001b[39ml[\u001b[38;5;28mlen\u001b[39m(\u001b[38;5;28mself\u001b[39m\u001b[38;5;241m.\u001b[39ml) \u001b[38;5;241m-\u001b[39m \u001b[38;5;241m1\u001b[39m]\n\u001b[0;32m     17\u001b[0m     \u001b[38;5;28mself\u001b[39m\u001b[38;5;241m.\u001b[39ml\u001b[38;5;241m.\u001b[39mpop()\n",
      "\u001b[1;31mStackUnderFlowError\u001b[0m: no elements present in the stack"
     ]
    }
   ],
   "source": [
    "# stack implementation using list\n",
    "\n",
    "class StackUnderFlowError(Exception):\n",
    "    pass\n",
    "    \n",
    "class stack:\n",
    "    def __init__(self):\n",
    "        self.l = []\n",
    "\n",
    "    def push(self, element):\n",
    "        self.l.append(element)\n",
    "\n",
    "    def pop(self):\n",
    "        if len(self.l) == 0:\n",
    "            raise StackUnderFlowError(\"no elements present in the stack\")\n",
    "        Top = self.l[len(self.l) - 1]\n",
    "        self.l.pop()\n",
    "        return Top\n",
    "\n",
    "def main():\n",
    "    my_stack = stack()\n",
    "    my_stack.push(10)\n",
    "    my_stack.push(20)\n",
    "    my_stack.push(30)\n",
    "    print(my_stack.pop())\n",
    "    print(my_stack.pop())\n",
    "    print(my_stack.pop())\n",
    "    print(my_stack.pop())\n",
    "\n",
    "if __name__ == '__main__':\n",
    "    main()"
   ]
  },
  {
   "cell_type": "code",
   "execution_count": 20,
   "id": "38d4e188-425c-4f79-929a-376e63f2ab7d",
   "metadata": {},
   "outputs": [
    {
     "name": "stdout",
     "output_type": "stream",
     "text": [
      "is stack is empty or not\n",
      "True\n",
      "\n",
      "adding node\n",
      "\n",
      "printing top node\n",
      "10\n",
      "\n",
      "adding elements\n",
      "\n",
      "length of stack\n",
      "3\n",
      "\n",
      "top node\n",
      "30\n",
      "\n",
      "remove top\n",
      "30\n",
      "\n",
      "lenth of stack\n",
      "2\n"
     ]
    }
   ],
   "source": [
    "# implementation of using linked list\n",
    "\n",
    "class StackUnderFlowError(Exception):\n",
    "    pass\n",
    "    \n",
    "class Node:\n",
    "    def __init__(self, data):\n",
    "        self.data = data\n",
    "        self.next = None\n",
    "\n",
    "class Stack:\n",
    "    def __init__(self):\n",
    "        self.top = None\n",
    "        self.length = 0\n",
    "\n",
    "    # to add node to stack\n",
    "    def push(self, element):\n",
    "        temp = Node(element)\n",
    "        temp.next = self.top\n",
    "        self.top = temp\n",
    "        self.length += 1\n",
    "\n",
    "    # to add node to stack\n",
    "    def pop(self):\n",
    "        if self.top == None:\n",
    "            raise StackUnderFlowError(\"no element in stack\")\n",
    "        ele = self.top.data\n",
    "        self.top = self.top.next\n",
    "        self.length -= 1\n",
    "        return ele\n",
    "\n",
    "    # to find the size of the stack\n",
    "    def size(self):\n",
    "        return self.length\n",
    "\n",
    "    # to print top node in the stack\n",
    "    def peek(self):\n",
    "        return self.top.data\n",
    "\n",
    "    # to check weather the stack is empty or not\n",
    "    def is_empty(self):\n",
    "        return self.top == None\n",
    "\n",
    "\n",
    "def main():\n",
    "    my_stack = Stack()\n",
    "\n",
    "    print(\"is stack is empty or not\")\n",
    "    print(my_stack.is_empty())\n",
    "    \n",
    "    print()\n",
    "    print(\"adding node\")\n",
    "    my_stack.push(10)\n",
    "\n",
    "    print()\n",
    "    print(\"printing top node\")\n",
    "    print(my_stack.peek())\n",
    "\n",
    "    print()\n",
    "    print(\"adding elements\")\n",
    "    my_stack.push(20)\n",
    "    my_stack.push(30)\n",
    "\n",
    "    print()\n",
    "    print(\"length of stack\")\n",
    "    print(my_stack.size())\n",
    "\n",
    "    print()\n",
    "    print(\"top node\")\n",
    "    print(my_stack.peek())\n",
    "\n",
    "    print()\n",
    "    print(\"remove top\")\n",
    "    print(my_stack.pop())\n",
    "    # print(my_stack.pop())\n",
    "    # print(my_stack.size())\n",
    "    # print(my_stack.pop())\n",
    "\n",
    "    print()\n",
    "    print(\"lenth of stack\")\n",
    "    print(my_stack.size())\n",
    "    \n",
    "    # print(my_stack.pop())\n",
    "\n",
    "if __name__ == '__main__':\n",
    "    main()\n",
    "\n",
    "# for all this methods the time complexity is O(1)\n",
    "        "
   ]
  },
  {
   "cell_type": "code",
   "execution_count": 42,
   "id": "a86737a2-48fe-4f69-8978-bb1188be4c7f",
   "metadata": {},
   "outputs": [
    {
     "name": "stdin",
     "output_type": "stream",
     "text": [
      " ([{)]}\n"
     ]
    },
    {
     "name": "stdout",
     "output_type": "stream",
     "text": [
      "False\n"
     ]
    }
   ],
   "source": [
    "# Balanced parenthesis using stack\n",
    "\n",
    "class Node:\n",
    "    def __init__(self, data):\n",
    "        self.data = data\n",
    "        self.next = None\n",
    "\n",
    "class Stack:\n",
    "    def __init__(self):\n",
    "        self.top = None\n",
    "\n",
    "    def push(self, ele):\n",
    "        temp = Node(ele)\n",
    "        temp.next = self.top\n",
    "        self.top = temp\n",
    "\n",
    "    def pop(self):\n",
    "        element = self.top.data\n",
    "        self.top = self.top.next\n",
    "        return element\n",
    "        \n",
    "    def peek(self):\n",
    "        return self.top.data\n",
    "\n",
    "\n",
    "def is_balanced_parenthesis(input):\n",
    "    stack = Stack()\n",
    "    for i in input:\n",
    "        if i == '(' or i == '[' or i == '{':\n",
    "            stack.push(i)\n",
    "\n",
    "        elif stack.top != None and ((i == ')' and stack.peek() == '(') or \n",
    "                                    (i == ']' and stack.peek() == '[') or \n",
    "                                    (i == '}' and stack.peek() == '{')):\n",
    "            stack.pop()\n",
    "\n",
    "        else:\n",
    "            return False\n",
    "\n",
    "    return stack.top == None\n",
    "\n",
    "\n",
    "\n",
    "def main():\n",
    "    s = input()\n",
    "    print(is_balanced_parenthesis(s))\n",
    "\n",
    "if __name__ == '__main__':\n",
    "    main()\n",
    "    \n",
    "    \n",
    "    "
   ]
  },
  {
   "cell_type": "code",
   "execution_count": 48,
   "id": "19e6f19d-3ba7-4ecb-9f31-dd40ce524e9f",
   "metadata": {},
   "outputs": [
    {
     "name": "stdin",
     "output_type": "stream",
     "text": [
      " 5 7 3 12 9\n"
     ]
    },
    {
     "name": "stdout",
     "output_type": "stream",
     "text": [
      "-1\n",
      "5\n",
      "-1\n",
      "3\n",
      "3\n"
     ]
    }
   ],
   "source": [
    "# given a list of elements for that find the closest small element present to its left element in the list\n",
    "\n",
    "def closest_small_ele_left(elements):\n",
    "    for i in range(len(elements)):\n",
    "        res = -1\n",
    "        for j in range(i-1, -1, -1):\n",
    "            if elements[j] < elements[i]:\n",
    "                res = elements[j]\n",
    "                break\n",
    "        print(res)\n",
    "\n",
    "\n",
    "def main():\n",
    "    ele = list(map(int, input().split()))\n",
    "    closest_small_ele_left(ele)\n",
    "\n",
    "if __name__ == '__main__':\n",
    "    main()\n",
    "\n",
    "# here the time complexity for this approach is O(n*n). Therefore this is not a efficient approach"
   ]
  },
  {
   "cell_type": "code",
   "execution_count": 51,
   "id": "f1ec7a45-0fd7-41e8-9f01-8930dbed1bcf",
   "metadata": {},
   "outputs": [
    {
     "name": "stdin",
     "output_type": "stream",
     "text": [
      " 5 7 3 12 9\n"
     ]
    },
    {
     "name": "stdout",
     "output_type": "stream",
     "text": [
      "-1\n",
      "5\n",
      "-1\n",
      "3\n",
      "3\n"
     ]
    }
   ],
   "source": [
    "# finding the closest smallest in left side elements with efficient solution using stack\n",
    "# time complexity is O(n)\n",
    "\n",
    "class Node:\n",
    "    def __init__(self, data):\n",
    "        self.data = data\n",
    "        self.next = None\n",
    "\n",
    "class Stack:\n",
    "    def __init__(self):\n",
    "        self.top = None\n",
    "\n",
    "    def push(self, ele):\n",
    "        temp = Node(ele)\n",
    "        temp.next = self.top\n",
    "        self.top = temp\n",
    "\n",
    "    def pop(self):\n",
    "        element = self.top.data\n",
    "        self.top = self.top.next\n",
    "        return element\n",
    "\n",
    "    def peek(self):\n",
    "        return self.top.data\n",
    "    \n",
    "    \n",
    "def closest_smallest_left(input):\n",
    "    stack = Stack()\n",
    "    for i in range(len(input)):\n",
    "        while stack.top != None and stack.peek() > input[i]:\n",
    "            stack.pop()\n",
    "        if stack.top == None:\n",
    "            print('-1')\n",
    "        else:\n",
    "            print(stack.peek())\n",
    "        stack.push(input[i])\n",
    "\n",
    "def main():\n",
    "    N = list(map(int, input().split()))\n",
    "    closest_smallest_left(N)\n",
    "\n",
    "if __name__ == '__main__':\n",
    "    main()"
   ]
  },
  {
   "cell_type": "code",
   "execution_count": 55,
   "id": "8347ea87-f031-4956-806d-dffec6878712",
   "metadata": {},
   "outputs": [
    {
     "name": "stdin",
     "output_type": "stream",
     "text": [
      " 12 14 10 15 6 9\n"
     ]
    },
    {
     "name": "stdout",
     "output_type": "stream",
     "text": [
      "1\n",
      "2\n",
      "1\n",
      "4\n",
      "1\n",
      "2\n"
     ]
    }
   ],
   "source": [
    "# Stock Span \n",
    "# finding the no of days where stock is less than or equal to the current stock of the day\n",
    "\n",
    "def Stock_Span(input):\n",
    "    for i in range(len(input)):\n",
    "        res = 1\n",
    "        for j in range(i-1, -1, -1):\n",
    "            if input[j] <= input[i]:\n",
    "                res += 1\n",
    "            else:\n",
    "                break\n",
    "        print(res)\n",
    "\n",
    "def main():\n",
    "    N = list(map(int, input().split()))\n",
    "    Stock_Span(N)\n",
    "\n",
    "if __name__ == '__main__':\n",
    "    main()\n",
    "\n",
    "# this is not a efficient way because the time complexity of this approach is O(n*n)"
   ]
  },
  {
   "cell_type": "code",
   "execution_count": 59,
   "id": "002823d3-891b-4cc4-bf23-bac1685a47f7",
   "metadata": {},
   "outputs": [
    {
     "name": "stdin",
     "output_type": "stream",
     "text": [
      " 14 17 19 20 4 6 8 2 4 10\n"
     ]
    },
    {
     "name": "stdout",
     "output_type": "stream",
     "text": [
      "1\n",
      "2\n",
      "3\n",
      "4\n",
      "1\n",
      "2\n",
      "3\n",
      "1\n",
      "2\n",
      "6\n"
     ]
    }
   ],
   "source": [
    "# Stock Span in efficient way with time complexity O(n) using stack\n",
    "\n",
    "class Node:\n",
    "    def __init__(self,data):\n",
    "        self.data = data\n",
    "        self.next = None\n",
    "\n",
    "class Stack:\n",
    "    def __init__(self):\n",
    "        self.top = None\n",
    "        \n",
    "    def push(self, element):\n",
    "        temp = Node(element)\n",
    "        temp.next = self.top\n",
    "        self.top = temp\n",
    "\n",
    "    def pop(self):\n",
    "        self.top = self.top.next\n",
    "\n",
    "    def peek(self):\n",
    "        return self.top.data\n",
    "\n",
    "def Stock_Span(ele):\n",
    "    stack = Stack()\n",
    "    for i in range(len(ele)):\n",
    "        while stack.top != None and ele[stack.peek()] < ele[i]:\n",
    "            stack.pop()\n",
    "        if stack.top == None:\n",
    "            print(i+1)\n",
    "        else:\n",
    "            print(i - stack.peek())\n",
    "        stack.push(i)\n",
    "\n",
    "\n",
    "def main():\n",
    "    elements = list(map(int, input().split()))\n",
    "    Stock_Span(elements)\n",
    "\n",
    "if __name__ == '__main__':\n",
    "    main()"
   ]
  },
  {
   "cell_type": "code",
   "execution_count": 60,
   "id": "916c6df6-7911-4ee7-8a7c-6c4939eea27e",
   "metadata": {},
   "outputs": [],
   "source": [
    "# infix, prefix, postfix"
   ]
  },
  {
   "cell_type": "markdown",
   "id": "abd99039-9474-479f-a7db-cfcee7f01b93",
   "metadata": {},
   "source": [
    "# QUEUE DATA STRUCTURE Starts here"
   ]
  },
  {
   "cell_type": "code",
   "execution_count": 12,
   "id": "44f53533-5b71-4228-b15a-b5f583f17c6d",
   "metadata": {},
   "outputs": [
    {
     "name": "stdout",
     "output_type": "stream",
     "text": [
      "checking weather the queue is EMPTY\n",
      "True\n",
      "\n",
      "ENQUEUEING the elements\n",
      "\n",
      "printing FRONT element\n",
      "10\n",
      "\n",
      "printing RARE element\n",
      "30\n",
      "\n",
      "checking weather the queue is EMPTY\n",
      "False\n",
      "\n",
      "checking weather the queue is FULL\n",
      "True\n",
      "\n",
      "DEQUEUEING the elements\n",
      "10\n",
      "20\n",
      "\n",
      "printing FRONT element\n",
      "30\n",
      "\n",
      "printing RARE element\n",
      "30\n",
      "\n",
      "DEQUEUEING the elements\n",
      "30\n",
      "\n",
      "checking weather the queue is EMPTY\n",
      "True\n",
      "\n",
      "checking weather the queue is FULL\n",
      "False\n",
      "Queue is full\n",
      "\n",
      "printing FRONT element\n",
      "80\n",
      "\n",
      "printing RARE element\n",
      "880\n"
     ]
    }
   ],
   "source": [
    "# queue can be created using arrays and linked lists\n",
    "# implementatin of queue\n",
    "\n",
    "class Queue:\n",
    "    def __init__(self, capacity):\n",
    "        self.lst = []\n",
    "        self.front = 0\n",
    "        self.rare = -1\n",
    "        self.size = 0\n",
    "        self.capacity = capacity\n",
    "\n",
    "    def enqueue(self, element):\n",
    "        if self.size == self.capacity:\n",
    "            print(\"Queue is full\")\n",
    "        else:\n",
    "            self.rare += 1\n",
    "            # self.lst.append(element)\n",
    "            self.lst.insert(self.rare, element)\n",
    "            self.size += 1\n",
    "\n",
    "    def dequeue(self):\n",
    "        if self.front > self.rare:\n",
    "            print(\"Queue is empty\")\n",
    "        else:\n",
    "            ele = self.lst[self.front]\n",
    "            self.front += 1\n",
    "            self.size -= 1\n",
    "            return ele\n",
    "\n",
    "    def get_front(self):\n",
    "        if self.size == 0:\n",
    "            return \"Queue is empty\"\n",
    "        return self.lst[self.front]\n",
    "\n",
    "    def get_rare(self):\n",
    "        if self.size == 0:\n",
    "            return \"Queue is empty\"\n",
    "        return self.lst[self.rare]\n",
    "\n",
    "    def is_empty(self):\n",
    "        return self.size == 0\n",
    "\n",
    "    def is_queue_full(self):\n",
    "        return self.size == self.capacity\n",
    "\n",
    "def main():\n",
    "    queue = Queue(3)\n",
    "\n",
    "    print(\"checking weather the queue is EMPTY\")\n",
    "    print(queue.is_empty())\n",
    "\n",
    "    print()\n",
    "    print(\"ENQUEUEING the elements\")\n",
    "    queue.enqueue(10)\n",
    "    queue.enqueue(20)\n",
    "    queue.enqueue(30)\n",
    "\n",
    "    print()\n",
    "    print(\"printing FRONT element\")\n",
    "    print(queue.get_front())\n",
    "\n",
    "    print()\n",
    "    print(\"printing RARE element\")\n",
    "    print(queue.get_rare())\n",
    "\n",
    "    print()\n",
    "    print(\"checking weather the queue is EMPTY\")\n",
    "    print(queue.is_empty())\n",
    "\n",
    "    print()\n",
    "    print(\"checking weather the queue is FULL\")\n",
    "    print(queue.is_queue_full())\n",
    "\n",
    "    print()\n",
    "    print(\"DEQUEUEING the elements\")\n",
    "    print(queue.dequeue())\n",
    "    print(queue.dequeue())\n",
    "\n",
    "    print()\n",
    "    print(\"printing FRONT element\")\n",
    "    print(queue.get_front())\n",
    "\n",
    "    print()\n",
    "    print(\"printing RARE element\")\n",
    "    print(queue.get_rare())\n",
    "\n",
    "    print()\n",
    "    print(\"DEQUEUEING the elements\")\n",
    "    print(queue.dequeue())\n",
    "\n",
    "    print()\n",
    "    print(\"checking weather the queue is EMPTY\")\n",
    "    print(queue.is_empty())\n",
    "\n",
    "    print()\n",
    "    print(\"checking weather the queue is FULL\")\n",
    "    print(queue.is_queue_full())\n",
    "\n",
    "    queue.enqueue(80)\n",
    "    queue.enqueue(70)\n",
    "    queue.enqueue(880)\n",
    "    queue.enqueue(770)\n",
    "\n",
    "    print()\n",
    "    print(\"printing FRONT element\")\n",
    "    print(queue.get_front())\n",
    "\n",
    "    print()\n",
    "    print(\"printing RARE element\")\n",
    "    print(queue.get_rare())\n",
    "\n",
    "    \n",
    "\n",
    "if __name__ == '__main__':\n",
    "    main()\n",
    "            \n",
    "\n",
    "# with some modifications it is turned as a circular queue\n",
    "        "
   ]
  },
  {
   "cell_type": "code",
   "execution_count": 8,
   "id": "eb4bc07f-5f26-4e1b-bda7-8d5312f7d19b",
   "metadata": {},
   "outputs": [
    {
     "name": "stdout",
     "output_type": "stream",
     "text": [
      "checking queue is EMPTY\n",
      "True\n",
      "\n",
      "adding elements\n",
      "\n",
      "return RARE element\n",
      "20\n",
      "\n",
      "return FRONT element\n",
      "10\n",
      "\n",
      "adding elements\n",
      "\n",
      "return RARE element\n",
      "40\n",
      "\n",
      "return FRONT element\n",
      "10\n",
      "\n",
      "checking queue is EMPTY\n",
      "False\n",
      "\n",
      "return DEQUEUE element\n",
      "10\n",
      "20\n",
      "\n",
      "return RARE element\n",
      "40\n",
      "\n",
      "return FRONT element\n",
      "30\n"
     ]
    }
   ],
   "source": [
    "# creating queue using linked list\n",
    "\n",
    "class Node:\n",
    "    def __init__(self, data):\n",
    "        self.data = data\n",
    "        self.next = None\n",
    "\n",
    "class Queue:\n",
    "    def __init__(self):\n",
    "        self.front = None\n",
    "        self.rare = None\n",
    "        self.size = 0\n",
    "\n",
    "    def enqueue(self, element):\n",
    "        temp = Node(element)\n",
    "        self.size += 1\n",
    "        if self.rare == None:\n",
    "            self.rare = temp\n",
    "            self.front = temp\n",
    "        else:\n",
    "            self.rare.next = temp\n",
    "            self.rare = self.rare.next\n",
    "        \n",
    "    def dequeue(self):\n",
    "        if self.front == None:\n",
    "            pass\n",
    "        else:\n",
    "            temp = self.front\n",
    "            self.front = self.front.next\n",
    "            temp.next = None\n",
    "            self.size -= 1\n",
    "            return temp.data\n",
    "\n",
    "        \n",
    "    def get_front(self):\n",
    "        if self.size > 0:\n",
    "            return self.front.data\n",
    "        else:\n",
    "            return \"queue is empty\"\n",
    "        \n",
    "    def get_rare(self):\n",
    "        if self.rare == None:\n",
    "            pass\n",
    "        else:\n",
    "            return self.rare.data\n",
    "\n",
    "    def is_empty(self):\n",
    "        return self.size == 0\n",
    "\n",
    "\n",
    "def main():\n",
    "    queue = Queue()\n",
    "    print(\"checking queue is EMPTY\")\n",
    "    print(queue.is_empty())\n",
    "\n",
    "    print()\n",
    "    print(\"adding elements\")\n",
    "    queue.enqueue(10)\n",
    "    queue.enqueue(20)\n",
    "\n",
    "    print()\n",
    "    print(\"return RARE element\")\n",
    "    print(queue.get_rare())\n",
    "\n",
    "    print()\n",
    "    print(\"return FRONT element\")\n",
    "    print(queue.get_front())\n",
    "\n",
    "    print()\n",
    "    print(\"adding elements\")\n",
    "    queue.enqueue(30)\n",
    "    queue.enqueue(40)\n",
    "\n",
    "    print()\n",
    "    print(\"return RARE element\")\n",
    "    print(queue.get_rare())\n",
    "\n",
    "    print()\n",
    "    print(\"return FRONT element\")\n",
    "    print(queue.get_front())\n",
    "\n",
    "    print()\n",
    "    print(\"checking queue is EMPTY\")\n",
    "    print(queue.is_empty())\n",
    "\n",
    "    print()\n",
    "    print(\"return DEQUEUE element\")\n",
    "    print(queue.dequeue())\n",
    "    print(queue.dequeue())\n",
    "\n",
    "    print()\n",
    "    print(\"return RARE element\")\n",
    "    print(queue.get_rare())\n",
    "\n",
    "    print()\n",
    "    print(\"return FRONT element\")\n",
    "    print(queue.get_front())\n",
    "\n",
    "if __name__ == '__main__':\n",
    "    main()\n",
    "    \n",
    "        \n",
    "        "
   ]
  },
  {
   "cell_type": "code",
   "execution_count": 29,
   "id": "3b6bab17-be83-4fec-b8bd-61a94a670921",
   "metadata": {},
   "outputs": [
    {
     "name": "stdout",
     "output_type": "stream",
     "text": [
      "1 2 3 4 5 6 7 8 9 \n",
      "1 2 3 4 5 6 7 8 9 \n",
      "9 8 7 6 5 4 3 2 1 "
     ]
    }
   ],
   "source": [
    "# reversing the queue\n",
    "\n",
    "class Node:\n",
    "    def __init__(self, data):\n",
    "        self.data = data\n",
    "        self.next = None\n",
    "\n",
    "# push, pop, peek, top, size\n",
    "class Stack:\n",
    "    def __init__(self):\n",
    "        self.top = None\n",
    "        self.size = 0\n",
    "\n",
    "    def push(self, element):\n",
    "        temp = Node(element)\n",
    "        self.size += 1\n",
    "        if self.top == None:\n",
    "            self.top = temp\n",
    "            return self.top.data\n",
    "        else:\n",
    "            temp.next = self.top\n",
    "            self.top = temp\n",
    "            return self.top.data\n",
    "            \n",
    "    def pop(self):\n",
    "        if self.size == 0:\n",
    "            return \"No elements\"\n",
    "        elif self.top.next == None:\n",
    "            curr = self.top\n",
    "            self.top = None\n",
    "            self.size -= 1\n",
    "            return curr.data\n",
    "        elif self.top.next != None:\n",
    "            curr = self.top\n",
    "            self.top = self.top.next\n",
    "            curr.next = None\n",
    "            self.size -= 1\n",
    "            return curr.data\n",
    "            \n",
    "    def peek(self):\n",
    "        return self.top.data\n",
    "\n",
    "\n",
    "# enqueue, dequeue, get_front, get_rare, size\n",
    "class Queue:\n",
    "    def __init__(self):\n",
    "        self.front = None\n",
    "        self.rare = None\n",
    "        self.size = 0\n",
    "\n",
    "    def enqueue(self, element):\n",
    "        temp = Node(element)\n",
    "        self.size += 1\n",
    "        if self.rare == None:\n",
    "            self.rare = temp\n",
    "            self.front = temp\n",
    "            return self.rare.data\n",
    "        else:\n",
    "            self.rare.next = temp\n",
    "            self.rare = temp\n",
    "            return self.rare.data\n",
    "\n",
    "    def dequeue(self):\n",
    "        if self.front == None:\n",
    "            return \"No elements in QUEUE\"\n",
    "        elif self.front.next == None:\n",
    "            curr = self.front\n",
    "            self.front = None\n",
    "            self.rare = None\n",
    "            self.size -= 1\n",
    "            return curr.data\n",
    "        elif self.front.next != None:\n",
    "            curr = self.front\n",
    "            self.front = self.front.next\n",
    "            curr.next = None\n",
    "            self.size -= 1\n",
    "            return curr.data\n",
    "\n",
    "    def length(self):\n",
    "        return self.size == 0\n",
    "\n",
    "    def get_front(self):\n",
    "        return self.front.data\n",
    "\n",
    "    def get_rare(self):\n",
    "        return self.rare.data\n",
    "\n",
    "def reverse_queue(elements):\n",
    "    queue = Queue()\n",
    "    stack = Stack()\n",
    "    for i in elements:\n",
    "        print(queue.enqueue(i), end = \" \")\n",
    "    print()\n",
    "    for i in range(len(elements)):\n",
    "        print(stack.push(queue.dequeue()), end = \" \")\n",
    "\n",
    "    print()\n",
    "    for i in range(len(elements)):\n",
    "        print(queue.enqueue(stack.pop()), end = \" \")\n",
    "\n",
    "    while queue.length():\n",
    "        print(queue.dequeue(), end = \" \")\n",
    "        \n",
    "        \n",
    "            \n",
    "def main():\n",
    "    elements = [1, 2, 3, 4, 5, 6, 7, 8, 9]\n",
    "    reverse_queue(elements)\n",
    "\n",
    "if __name__ == '__main__':\n",
    "    main()\n",
    "        "
   ]
  },
  {
   "cell_type": "code",
   "execution_count": 1,
   "id": "ff68c36d-0571-4bb6-8314-c6cc0503fd79",
   "metadata": {},
   "outputs": [
    {
     "name": "stdout",
     "output_type": "stream",
     "text": [
      "5 6 7 55 56 57 65 66 67 75 76 77 555 556 557 "
     ]
    }
   ],
   "source": [
    "# 56 series \n",
    "# you have given numbers like 5, 6, you have to print series like 5, 6, 55, 56, ..... like asscending order.\n",
    "\n",
    "class Queue:\n",
    "    def __init__(self):\n",
    "        self.l = []\n",
    "        self.front = 0\n",
    "        self.rare = -1\n",
    "\n",
    "    def enqueue(self, element):\n",
    "        self.rare += 1\n",
    "        self.l.append(element)\n",
    "\n",
    "    def dequeue(self):\n",
    "        if len(self.l) > 0:\n",
    "            ele = self.l[self.front]\n",
    "            self.l.pop(self.front)\n",
    "            self.rare -= 1\n",
    "            return ele\n",
    "\n",
    "    def print_rare(self):\n",
    "        return self.l[self.rare]\n",
    "\n",
    "    def print_front(self):\n",
    "        return self.l[self.rare]\n",
    "\n",
    "def number_series(N, l):\n",
    "    queue = Queue()\n",
    "    count = 0\n",
    "    for i in l:\n",
    "        queue.enqueue(i)\n",
    "    while count < N:\n",
    "        ele = queue.dequeue()\n",
    "        for i in l:\n",
    "            queue.enqueue(ele + i)\n",
    "        print(ele, end = \" \")\n",
    "        count += 1\n",
    "\n",
    "def main():\n",
    "    N = 15 #int(input())\n",
    "    l = [\"5\", \"6\", \"7\"]  # list(map(int, input().split()))\n",
    "    number_series(N,l)\n",
    "\n",
    "if __name__ == '__main__':\n",
    "    main()"
   ]
  },
  {
   "cell_type": "code",
   "execution_count": 20,
   "id": "01b9414d-c2d2-4fc2-9ef8-7e98d41716ee",
   "metadata": {},
   "outputs": [
    {
     "name": "stdout",
     "output_type": "stream",
     "text": [
      "Check weather the queue is EMPTY\n",
      "True\n",
      "\n",
      "Checking weather the queue is EMPTY after adding OFFERFIRST\n",
      "False\n",
      "\n",
      "printing PEEKFIRST and PEEKLAST\n",
      "10\n",
      "10\n",
      "\n",
      "printing PEEKIRST and PEEKLAST after adding OFFERFIRST\n",
      "9\n",
      "10\n",
      "\n",
      "printing PEEKFIRST and PEEKLAST after adding OFFERLAST\n",
      "9\n",
      "15\n",
      "\n",
      "printing PEEKFIRST and PEEKLAST after removing POLLFIRST, POLLLAST\n",
      "10\n",
      "10\n"
     ]
    }
   ],
   "source": [
    "# Double ended queue or Deque\n",
    "# In this we can able to add elements from both sides and we can able to delete elements from both sides\n",
    "\n",
    "class double_ended_queue:\n",
    "    def __init__(self):\n",
    "        self.l = []\n",
    "        self.front = 0\n",
    "        self.rare = -1\n",
    "        self.size = 0\n",
    "\n",
    "    def offer_first(self, element):\n",
    "        self.rare += 1\n",
    "        self.l.insert(self.front, element)\n",
    "        self.size += 1\n",
    "\n",
    "    def offer_last(self, element):\n",
    "        self.rare += 1\n",
    "        self.l.insert(self.rare, element)\n",
    "        self.size += 1\n",
    "\n",
    "    def poll_first(self):\n",
    "        if self.rare >= 0:\n",
    "            ele = self.l.pop(self.front)\n",
    "            self.size -= 1\n",
    "            self.rare -= 1\n",
    "            return ele\n",
    "        return \"No elements\"\n",
    "\n",
    "    def poll_last(self):\n",
    "        if self.rare >= 0:\n",
    "            ele = self.l.pop(self.rare)\n",
    "            self.size -= 1\n",
    "            self.rare -= 1\n",
    "            return ele\n",
    "        return \"No elements\"\n",
    "\n",
    "    def length(self):\n",
    "        return self.size\n",
    "\n",
    "    def peek_first(self):\n",
    "        if self.length() > 0:\n",
    "            return self.l[self.front]\n",
    "\n",
    "    def peek_last(self):\n",
    "        if self.length() > 0:\n",
    "            return self.l[self.rare]\n",
    "\n",
    "    def is_empty(self):\n",
    "        return self.length() == 0\n",
    "\n",
    "def main():\n",
    "    deq = double_ended_queue()\n",
    "    print(\"Check weather the queue is EMPTY\")\n",
    "    print(deq.is_empty())\n",
    "    \n",
    "    deq.offer_first(10)\n",
    "    \n",
    "    print()\n",
    "    print(\"Checking weather the queue is EMPTY after adding OFFERFIRST\")\n",
    "    print(deq.is_empty())\n",
    "    \n",
    "    print()\n",
    "    print(\"printing PEEKFIRST and PEEKLAST\")\n",
    "    print(deq.peek_first())\n",
    "    print(deq.peek_last())\n",
    "    \n",
    "    deq.offer_first(9)\n",
    "    print()\n",
    "    print(\"printing PEEKIRST and PEEKLAST after adding OFFERFIRST\")\n",
    "    print(deq.peek_first())\n",
    "    print(deq.peek_last())\n",
    "    \n",
    "    deq.offer_last(15)\n",
    "    print()\n",
    "    print(\"printing PEEKFIRST and PEEKLAST after adding OFFERLAST\")\n",
    "    print(deq.peek_first())\n",
    "    print(deq.peek_last()) \n",
    "\n",
    "    deq.poll_last()\n",
    "    deq.poll_first()\n",
    "    print()\n",
    "    print(\"printing PEEKFIRST and PEEKLAST after removing POLLFIRST, POLLLAST\")\n",
    "    print(deq.peek_first())\n",
    "    print(deq.peek_last()) \n",
    "    \n",
    "\n",
    "\n",
    "if __name__ == '__main__':\n",
    "    main()"
   ]
  },
  {
   "cell_type": "code",
   "execution_count": 4,
   "id": "d839c3f2-3dba-4576-bb8e-15cf8689fa9d",
   "metadata": {},
   "outputs": [
    {
     "name": "stdout",
     "output_type": "stream",
     "text": [
      "12 5 44 66 66 66 33 87 99 99 99\n"
     ]
    }
   ],
   "source": [
    "# max element in the sub array of given length k\n",
    "\n",
    "class double_ended_queue:\n",
    "    def __init__(self):\n",
    "        self.l = []\n",
    "        self.front = 0\n",
    "        self.rare = -1\n",
    "        self.size = 0\n",
    "\n",
    "    def offer_first(self, element):\n",
    "        self.rare += 1\n",
    "        self.l.insert(self.front, element)\n",
    "        self.size += 1\n",
    "\n",
    "    def offer_last(self, element):\n",
    "        self.rare += 1\n",
    "        self.l.insert(self.rare, element)\n",
    "        self.size += 1\n",
    "\n",
    "    def poll_first(self):\n",
    "        if self.rare >= 0:\n",
    "            ele = self.l.pop(self.front)\n",
    "            self.size -= 1\n",
    "            self.rare -= 1\n",
    "            return ele\n",
    "        return \"No elements\"\n",
    "\n",
    "    def poll_last(self):\n",
    "        if self.rare >= 0:\n",
    "            ele = self.l.pop(self.rare)\n",
    "            self.size -= 1\n",
    "            self.rare -= 1\n",
    "            return ele\n",
    "        return \"No elements\"\n",
    "\n",
    "    def length(self):\n",
    "        return self.size\n",
    "\n",
    "    def peek_first(self):\n",
    "        if self.length() > 0:\n",
    "            return self.l[self.front]\n",
    "\n",
    "    def peek_last(self):\n",
    "        if self.length() > 0:\n",
    "            return self.l[self.rare]\n",
    "\n",
    "    def is_empty(self):\n",
    "        return self.length() == 0\n",
    "\n",
    "\n",
    "def max_ele_sub_arr(arr, k):\n",
    "    deq = double_ended_queue()\n",
    "    for i in range(k):\n",
    "        while deq.length() > 0 and arr[deq.peek_last()] <= arr[i]:\n",
    "            deq.poll_last()\n",
    "        deq.offer_last(i)\n",
    "    for i in range(k, len(arr)):\n",
    "        print(arr[deq.peek_first()], end = ' ')\n",
    "        while deq.length() > 0 and deq.peek_first() <= i-k:\n",
    "            deq.poll_first()\n",
    "        while deq.length() > 0 and arr[deq.peek_last()] <= arr[i]:\n",
    "            deq.poll_last()\n",
    "        deq.offer_last(i)\n",
    "    print(arr[deq.peek_first()])\n",
    "        \n",
    "def main():\n",
    "    arr = [12, 3, 5, 1, 44, 66, 33, 32, 11, 87, 99, 98, 95]   # list(map(int, input().split()))\n",
    "    # ans = 12 5 44 66 66 66 33 87 99 99 99\n",
    "    k = 3 # int(input())\n",
    "    max_ele_sub_arr(arr, k)\n",
    "\n",
    "if __name__ == '__main__':\n",
    "    main()"
   ]
  },
  {
   "cell_type": "markdown",
   "id": "19653829-4f3d-4791-ad8d-422e586baa1d",
   "metadata": {},
   "source": [
    "# TREE DATA STRUCTURE Starts here"
   ]
  },
  {
   "cell_type": "code",
   "execution_count": 5,
   "id": "4349b66f-eb5c-41dd-a984-afdf8495a8f2",
   "metadata": {},
   "outputs": [],
   "source": [
    "# Terms used in tree data structure.... node, root, parent, child, leaf, subtree, ancestors, descendents, degree, internal, height"
   ]
  },
  {
   "cell_type": "markdown",
   "id": "76188184-3759-4d38-9bce-ddabe42baffd",
   "metadata": {},
   "source": [
    "# Types of binary tress\n",
    "1. full binary tree\n",
    "2. degenrated/pathological binary tree\n",
    "3. skewed binary tree\n",
    "4. complete binary tree\n",
    "5. perfect binary tree\n",
    "6. balanced binary tree"
   ]
  },
  {
   "cell_type": "code",
   "execution_count": 2,
   "id": "2895ceb6-a64d-4de9-b286-f22bce8e2a82",
   "metadata": {},
   "outputs": [
    {
     "name": "stdout",
     "output_type": "stream",
     "text": [
      "20\n",
      "60\n",
      "50\n"
     ]
    }
   ],
   "source": [
    "# implementation of binary tree\n",
    "\n",
    "class Node:\n",
    "    def __init__(self, data):\n",
    "        self.data = data\n",
    "        self.left = None\n",
    "        self.right = None\n",
    "\n",
    "\n",
    "\n",
    "def main():\n",
    "    root = Node(10)\n",
    "    root.left = Node(20)\n",
    "    root.right = Node(30)\n",
    "    root.left.left = Node(40)\n",
    "    root.right.left = Node(50)\n",
    "    root.right.right = Node(60)\n",
    "    print(root.left.data)\n",
    "    print(root.right.right.data)\n",
    "    print(root.right.left.data)\n",
    "\n",
    "if __name__ == '__main__':\n",
    "    main()\n",
    "        "
   ]
  },
  {
   "cell_type": "markdown",
   "id": "5e4baa47-12e2-4d22-b42c-6187ca09b3c0",
   "metadata": {},
   "source": [
    "Two types of Traversals\n",
    "1. Breadth First/ level order traversal\n",
    "2. Depth First Traversal:\n",
    "   1. Inorder Traversal    (left - root - right)\n",
    "   2. pre-order Traversal  (root - left - right)\n",
    "   3. post-order Traversal (left - right - root)"
   ]
  },
  {
   "cell_type": "code",
   "execution_count": 5,
   "id": "7c5173ac-5921-44a9-843f-8881a78bad0c",
   "metadata": {},
   "outputs": [
    {
     "name": "stdout",
     "output_type": "stream",
     "text": [
      "25 20 55 35 60 10 45 65 30 80 50 "
     ]
    }
   ],
   "source": [
    "# Inorder Traversal\n",
    "\n",
    "class Node:\n",
    "    def __init__(self, data):\n",
    "        self.data = data\n",
    "        self.left = None\n",
    "        self.right = None\n",
    "\n",
    "class Tree:\n",
    "    def Inorder(root):\n",
    "        if root != None:\n",
    "            Tree.Inorder(root.left)\n",
    "            print(root.data, end = \" \")\n",
    "            Tree.Inorder(root.right)\n",
    "\n",
    "\n",
    "def main():\n",
    "    # root = Node(10)\n",
    "    # root.left = Node(20)\n",
    "    # root.right = Node(30)\n",
    "    # root.left.left = Node(40)\n",
    "    # root.right.left = Node(50)\n",
    "    # root.right.right = Node(60)\n",
    "\n",
    "\n",
    "    root = Node(10)\n",
    "    root.left = Node(20)\n",
    "    root.right = Node(30)\n",
    "    root.left.left = Node(25)\n",
    "    root.left.right = Node(35)\n",
    "    root.right.left = Node(45)\n",
    "    root.right.right = Node(50)\n",
    "    root.left.right.left = Node(55)\n",
    "    root.left.right.right = Node(60)\n",
    "    root.right.left.right = Node(65)\n",
    "    root.right.right.left = Node(80)\n",
    "    \n",
    "    Tree.Inorder(root)\n",
    "\n",
    "if __name__ == '__main__':\n",
    "    main()"
   ]
  },
  {
   "cell_type": "code",
   "execution_count": 7,
   "id": "4fa27d9a-ce1b-48aa-ab90-daaf81fd006c",
   "metadata": {},
   "outputs": [
    {
     "name": "stdout",
     "output_type": "stream",
     "text": [
      "10 20 40 30 50 60 "
     ]
    }
   ],
   "source": [
    "# pre-order\n",
    "\n",
    "class Node:\n",
    "    def __init__(self, data):\n",
    "        self.data = data\n",
    "        self.left = None\n",
    "        self.right = None\n",
    "\n",
    "\n",
    "class Tree:\n",
    "    def pre_order(root):\n",
    "        if root != None:\n",
    "            print(root.data, end = \" \")\n",
    "            Tree.pre_order(root.left)\n",
    "            Tree.pre_order(root.right)\n",
    "\n",
    "\n",
    "def main():\n",
    "    \n",
    "    # root = Node(10)\n",
    "    # root.left = Node(20)\n",
    "    # root.right = Node(30)\n",
    "    # root.left.left = Node(25)\n",
    "    # root.left.right = Node(35)\n",
    "    # root.right.left = Node(45)\n",
    "    # root.right.right = Node(50)\n",
    "    # root.left.right.left = Node(55)\n",
    "    # root.left.right.right = Node(60)\n",
    "    # root.right.left.right = Node(65)\n",
    "    # root.right.right.left = Node(80)\n",
    "\n",
    "\n",
    "    root = Node(10)\n",
    "    root.left = Node(20)\n",
    "    root.right = Node(30)\n",
    "    root.left.left = Node(40)\n",
    "    root.right.left = Node(50)\n",
    "    root.right.right = Node(60)\n",
    "    \n",
    "    Tree.pre_order(root)\n",
    "\n",
    "if __name__ == '__main__':\n",
    "    main()\n",
    "    \n",
    "    "
   ]
  },
  {
   "cell_type": "code",
   "execution_count": 10,
   "id": "6f61de72-c5c9-45d8-a8c7-7fd76fa38c04",
   "metadata": {},
   "outputs": [
    {
     "name": "stdout",
     "output_type": "stream",
     "text": [
      "40 20 50 60 30 10 "
     ]
    }
   ],
   "source": [
    "# post order\n",
    "\n",
    "class Node:\n",
    "    def __init__(self, data):\n",
    "        self.data = data\n",
    "        self.left = None\n",
    "        self.right = None\n",
    "\n",
    "class Tree:\n",
    "    def post_order(root):\n",
    "        if root != None:\n",
    "            Tree.post_order(root.left)\n",
    "            Tree.post_order(root.right)\n",
    "            print(root.data, end = \" \")\n",
    "\n",
    "\n",
    "def main():\n",
    "    \n",
    "    # root = Node(10)\n",
    "    # root.left = Node(20)\n",
    "    # root.right = Node(30)\n",
    "    # root.left.left = Node(25)\n",
    "    # root.left.right = Node(35)\n",
    "    # root.right.left = Node(45)\n",
    "    # root.right.right = Node(50)\n",
    "    # root.left.right.left = Node(55)\n",
    "    # root.left.right.right = Node(60)\n",
    "    # root.right.left.right = Node(65)\n",
    "    # root.right.right.left = Node(80)\n",
    "\n",
    "\n",
    "    root = Node(10)\n",
    "    root.left = Node(20)\n",
    "    root.right = Node(30)\n",
    "    root.left.left = Node(40)\n",
    "    root.right.left = Node(50)\n",
    "    root.right.right = Node(60)\n",
    "    \n",
    "    Tree.post_order(root)\n",
    "\n",
    "if __name__ == '__main__':\n",
    "    main()\n",
    "    \n"
   ]
  },
  {
   "cell_type": "code",
   "execution_count": 17,
   "id": "b50a51b6-7c52-4294-a49d-4a64eef003cc",
   "metadata": {},
   "outputs": [
    {
     "name": "stdout",
     "output_type": "stream",
     "text": [
      "4\n"
     ]
    }
   ],
   "source": [
    "# finding the height of the binary tree\n",
    "\n",
    "class Node:\n",
    "    def __init__(self, data):\n",
    "        self.data = data\n",
    "        self.left = None\n",
    "        self.right = None\n",
    "\n",
    "class Tree:\n",
    "    def height_of_binary_tree(root):\n",
    "        if root == None:\n",
    "            return 0\n",
    "        else:\n",
    "            left_height = Tree.height_of_binary_tree(root.left)\n",
    "            right_height = Tree.height_of_binary_tree(root.right)\n",
    "            max = left_height\n",
    "            if right_height > left_height:\n",
    "                max = right_height\n",
    "            return max + 1\n",
    "\n",
    "def main():\n",
    "    \n",
    "    root = Node(10)\n",
    "    root.left = Node(20)\n",
    "    root.right = Node(30)\n",
    "    root.left.left = Node(25)\n",
    "    root.left.right = Node(35)\n",
    "    root.right.left = Node(45)\n",
    "    root.right.right = Node(50)\n",
    "    root.left.right.left = Node(55)\n",
    "    root.left.right.right = Node(60)\n",
    "    root.right.left.right = Node(65)\n",
    "    root.right.right.left = Node(80)\n",
    "\n",
    "    # root = Node(10)\n",
    "    # root.left = Node(20)\n",
    "    # root.right = Node(30)\n",
    "    # root.left.left = Node(40)\n",
    "    # root.right.left = Node(50)\n",
    "    # root.right.right = Node(60)\n",
    "    \n",
    "    print(Tree.height_of_binary_tree(root))\n",
    "\n",
    "if __name__ == '__main__':\n",
    "    main()"
   ]
  },
  {
   "cell_type": "code",
   "execution_count": 3,
   "id": "91acf013-e3cf-4439-9a61-c08077dc242f",
   "metadata": {},
   "outputs": [
    {
     "name": "stdout",
     "output_type": "stream",
     "text": [
      "40 50 60 "
     ]
    }
   ],
   "source": [
    "# printing nodes at distance k\n",
    "\n",
    "\n",
    "class Node:\n",
    "    def __init__(self, data):\n",
    "        self.data = data\n",
    "        self.left = None\n",
    "        self.right = None\n",
    "\n",
    "\n",
    "class Tree:\n",
    "    def Nodes_at_distance_k(root, k):\n",
    "        if root != None:\n",
    "            if k == 0:\n",
    "                print(root.data, end = \" \")\n",
    "            else:\n",
    "                Tree.Nodes_at_distance_k(root.left, k-1)\n",
    "                Tree.Nodes_at_distance_k(root.right, k-1)\n",
    "    \n",
    "\n",
    "def main():\n",
    "    # root = Node(10)\n",
    "    # root.left = Node(20)\n",
    "    # root.right = Node(30)\n",
    "    # root.left.left = Node(25)\n",
    "    # root.left.right = Node(35)\n",
    "    # root.right.left = Node(45)\n",
    "    # root.right.right = Node(50)\n",
    "    # root.left.right.left = Node(55)\n",
    "    # root.left.right.right = Node(60)\n",
    "    # root.right.left.right = Node(65)\n",
    "    # root.right.right.left = Node(80)\n",
    "\n",
    "    root = Node(10)\n",
    "    root.left = Node(20)\n",
    "    root.right = Node(30)\n",
    "    root.left.left = Node(40)\n",
    "    root.right.left = Node(50)\n",
    "    root.right.right = Node(60)\n",
    "\n",
    "    Tree.Nodes_at_distance_k(root, 2)\n",
    "\n",
    "\n",
    "if __name__ == '__main__':\n",
    "    main()"
   ]
  },
  {
   "cell_type": "code",
   "execution_count": 9,
   "id": "162fdb68-d177-418b-bbb7-33cf8010e48c",
   "metadata": {},
   "outputs": [
    {
     "name": "stdout",
     "output_type": "stream",
     "text": [
      "10 30 20 60 50 40 "
     ]
    }
   ],
   "source": [
    "# Level Order Traversal/ breadth first search\n",
    "\n",
    "class Node:\n",
    "    def __init__(self, data):\n",
    "        self.data = data\n",
    "        self.left = None\n",
    "        self.right = None\n",
    "        \n",
    "class Queue:\n",
    "    def __init__(self):\n",
    "        self.l = []\n",
    "        self.size = 0\n",
    "        self.front = 0\n",
    "        self.rare = -1\n",
    "        # self.capacity = capacity\n",
    "\n",
    "    def enqueue(self, element):\n",
    "        # if self.size < self.capacity:\n",
    "        self.rare += 1\n",
    "        self.l.append(element)\n",
    "        self.size += 1\n",
    "        # else:\n",
    "        #     return \"queue is full\"\n",
    "\n",
    "    def dequeue(self):\n",
    "        if self.size > 0:\n",
    "            self.rare -= 1\n",
    "            self.size -= 1\n",
    "            ele = self.l.pop(self.front)\n",
    "            return ele\n",
    "        else:\n",
    "            return \"queue is empty\"\n",
    "\n",
    "    def length(self):\n",
    "        return self.size\n",
    "\n",
    "class Tree:\n",
    "    queue = Queue()\n",
    "    def level_order_traversal(root):\n",
    "        \n",
    "        if root != None:\n",
    "            Tree.queue.enqueue(root)\n",
    "            while Tree.queue.length()>0:\n",
    "                ele = Tree.queue.dequeue()\n",
    "                print(ele.data, end = \" \")\n",
    "                # if ele.left != None:\n",
    "                #     Tree.queue.enqueue(ele.left)\n",
    "                # if ele.right != None:\n",
    "                #     Tree.queue.enqueue(ele.right)\n",
    "\n",
    "                # level order traversal from right to left\n",
    "                \n",
    "                if ele.right != None:\n",
    "                    Tree.queue.enqueue(ele.right)\n",
    "                if ele.left != None:\n",
    "                    Tree.queue.enqueue(ele.left)\n",
    "\n",
    "def main():\n",
    "    # root = Node(10)\n",
    "    # root.left = Node(20)\n",
    "    # root.right = Node(30)\n",
    "    # root.left.left = Node(25)\n",
    "    # root.left.right = Node(35)\n",
    "    # root.right.left = Node(45)\n",
    "    # root.right.right = Node(50)\n",
    "    # root.left.right.left = Node(55)\n",
    "    # root.left.right.right = Node(60)\n",
    "    # root.right.left.right = Node(65)\n",
    "    # root.right.right.left = Node(80)\n",
    "\n",
    "    root = Node(10)\n",
    "    root.left = Node(20)\n",
    "    root.right = Node(30)\n",
    "    root.left.left = Node(40)\n",
    "    root.right.left = Node(50)\n",
    "    root.right.right = Node(60)\n",
    "    \n",
    "    Tree.level_order_traversal(root)\n",
    "\n",
    "if __name__ == '__main__':\n",
    "    main()\n",
    "\n",
    "            \n"
   ]
  },
  {
   "cell_type": "code",
   "execution_count": 21,
   "id": "d7fce1ca-ab07-405a-9e9f-bd7fe110a454",
   "metadata": {},
   "outputs": [
    {
     "name": "stdout",
     "output_type": "stream",
     "text": [
      "11\n"
     ]
    }
   ],
   "source": [
    "# no of nodes present in the binary tree or simply known as size of the binary tree\n",
    "\n",
    "class Node:\n",
    "    def __init__(self, data):\n",
    "        self.data = data\n",
    "        self.left = None\n",
    "        self.right = None\n",
    "\n",
    "class Tree:\n",
    "    def no_of_nodes(root):\n",
    "        if root == None:\n",
    "            return 0\n",
    "        else:\n",
    "            left = Tree.no_of_nodes(root.left)\n",
    "            right = Tree.no_of_nodes(root.right)\n",
    "            return left+right+1\n",
    "\n",
    "def main():\n",
    "    root = Node(10)\n",
    "    root.left = Node(20)\n",
    "    root.right = Node(30)\n",
    "    root.left.left = Node(25)\n",
    "    root.left.right = Node(35)\n",
    "    root.right.left = Node(45)\n",
    "    root.right.right = Node(50)\n",
    "    root.left.right.left = Node(55)\n",
    "    root.left.right.right = Node(60)\n",
    "    root.right.left.right = Node(65)\n",
    "    root.right.right.left = Node(80)\n",
    "\n",
    "    # root = Node(10)\n",
    "    # root.left = Node(20)\n",
    "    # root.right = Node(30)\n",
    "    # root.left.left = Node(40)\n",
    "    # root.right.left = Node(50)\n",
    "    # root.right.right = Node(60)\n",
    "    \n",
    "    print(Tree.no_of_nodes(root))\n",
    "\n",
    "if __name__ == '__main__':\n",
    "    main()\n",
    "\n"
   ]
  },
  {
   "cell_type": "code",
   "execution_count": 24,
   "id": "b539c61f-13ce-4c9f-97d7-bae086df827a",
   "metadata": {},
   "outputs": [
    {
     "name": "stdout",
     "output_type": "stream",
     "text": [
      "60\n"
     ]
    }
   ],
   "source": [
    "# finding the maximum in the binary tree\n",
    "\n",
    "import sys\n",
    "class Node:\n",
    "    def __init__(self, data):\n",
    "        self.data = data\n",
    "        self.left = None\n",
    "        self.right = None\n",
    "\n",
    "class Tree:\n",
    "    def maxi(root):\n",
    "        \n",
    "        if root == None:\n",
    "            return sys.maxsize * -1\n",
    "        else:\n",
    "            left = Tree.maxi(root.left)\n",
    "            right = Tree.maxi(root.right)\n",
    "            return max(left, right, root.data)\n",
    "\n",
    "\n",
    "def main():\n",
    "    # root = Node(10)\n",
    "    # root.left = Node(20)\n",
    "    # root.right = Node(30)\n",
    "    # root.left.left = Node(25)\n",
    "    # root.left.right = Node(35)\n",
    "    # root.right.left = Node(45)\n",
    "    # root.right.right = Node(50)\n",
    "    # root.left.right.left = Node(55)\n",
    "    # root.left.right.right = Node(60)\n",
    "    # root.right.left.right = Node(65)\n",
    "    # root.right.right.left = Node(80)\n",
    "\n",
    "    root = Node(10)\n",
    "    root.left = Node(20)\n",
    "    root.right = Node(30)\n",
    "    root.left.left = Node(40)\n",
    "    root.right.left = Node(50)\n",
    "    root.right.right = Node(60)\n",
    "    \n",
    "    print(Tree.maxi(root))\n",
    "\n",
    "if __name__ == '__main__':\n",
    "    main()\n"
   ]
  },
  {
   "cell_type": "code",
   "execution_count": 7,
   "id": "693d11d5-3531-4dd4-939f-a3e7d249edc8",
   "metadata": {},
   "outputs": [
    {
     "name": "stdout",
     "output_type": "stream",
     "text": [
      "10 \n",
      "20 30 \n",
      "25 35 45 50 \n",
      "55 60 65 80 "
     ]
    }
   ],
   "source": [
    "# level by order line by line \n",
    "# Approach 1\n",
    "\n",
    "class Node:\n",
    "    def __init__(self, data):\n",
    "        self.data = data\n",
    "        self.left = None\n",
    "        self.right = None\n",
    "        \n",
    "class Queue:\n",
    "    def __init__(self):\n",
    "        self.l = []\n",
    "        self.size = 0\n",
    "        self.front = 0\n",
    "        self.rare = -1\n",
    "        # self.capacity = capacity\n",
    "\n",
    "    def enqueue(self, element):\n",
    "        # if self.size < self.capacity:\n",
    "        self.rare += 1\n",
    "        self.l.append(element)\n",
    "        self.size += 1\n",
    "        # else:\n",
    "        #     return \"queue is full\"\n",
    "\n",
    "    def dequeue(self):\n",
    "        if self.size > 0:\n",
    "            self.rare -= 1\n",
    "            self.size -= 1\n",
    "            ele = self.l.pop(self.front)\n",
    "            return ele\n",
    "        else:\n",
    "            return \"queue is empty\"\n",
    "\n",
    "    def length(self):\n",
    "        return self.size\n",
    "\n",
    "class Tree:\n",
    "    queue = Queue()\n",
    "    def level_order_traversal_lbl(root):\n",
    "        \n",
    "        if root != None:\n",
    "            Tree.queue.enqueue(root)\n",
    "            Tree.queue.enqueue(None)\n",
    "            while Tree.queue.length() > 1:\n",
    "                ele = Tree.queue.dequeue()\n",
    "                if ele == None:\n",
    "                    print()\n",
    "                    Tree.queue.enqueue(None)\n",
    "                else:\n",
    "                    print(ele.data, end = \" \")\n",
    "                    if ele.left != None:\n",
    "                        Tree.queue.enqueue(ele.left)\n",
    "                    if ele.right != None:\n",
    "                        Tree.queue.enqueue(ele.right)\n",
    "\n",
    "def main():\n",
    "    root = Node(10)\n",
    "    root.left = Node(20)\n",
    "    root.right = Node(30)\n",
    "    root.left.left = Node(25)\n",
    "    root.left.right = Node(35)\n",
    "    root.right.left = Node(45)\n",
    "    root.right.right = Node(50)\n",
    "    root.left.right.left = Node(55)\n",
    "    root.left.right.right = Node(60)\n",
    "    root.right.left.right = Node(65)\n",
    "    root.right.right.left = Node(80)\n",
    "\n",
    "    # root = Node(10)\n",
    "    # root.left = Node(20)\n",
    "    # root.right = Node(30)\n",
    "    # root.left.left = Node(40)\n",
    "    # root.right.left = Node(50)\n",
    "    # root.right.right = Node(60)\n",
    "    \n",
    "    Tree.level_order_traversal_lbl(root)\n",
    "\n",
    "if __name__ == '__main__':\n",
    "    main()"
   ]
  },
  {
   "cell_type": "code",
   "execution_count": 11,
   "id": "023b4afe-9cb6-4b02-b75f-107b73756e1b",
   "metadata": {},
   "outputs": [
    {
     "name": "stdout",
     "output_type": "stream",
     "text": [
      "10 \n",
      "30 20 \n",
      "60 50 40 \n"
     ]
    }
   ],
   "source": [
    "# level by order line by line \n",
    "# Approach 2\n",
    "\n",
    "class Node:\n",
    "    def __init__(self, data):\n",
    "        self.data = data\n",
    "        self.left = None\n",
    "        self.right = None\n",
    "        \n",
    "class Queue:\n",
    "    def __init__(self):\n",
    "        self.l = []\n",
    "        self.size = 0\n",
    "        self.front = 0\n",
    "        self.rare = -1\n",
    "        # self.capacity = capacity\n",
    "\n",
    "    def enqueue(self, element):\n",
    "        # if self.size < self.capacity:\n",
    "        self.rare += 1\n",
    "        self.l.append(element)\n",
    "        self.size += 1\n",
    "        # else:\n",
    "        #     return \"queue is full\"\n",
    "\n",
    "    def dequeue(self):\n",
    "        if self.size > 0:\n",
    "            self.rare -= 1\n",
    "            self.size -= 1\n",
    "            ele = self.l.pop(self.front)\n",
    "            return ele\n",
    "        else:\n",
    "            return \"queue is empty\"\n",
    "\n",
    "    def length(self):\n",
    "        return self.size\n",
    "\n",
    "class Tree:\n",
    "    queue = Queue()\n",
    "    def level_order_traversal_lbl(root):\n",
    "        \n",
    "        if root != None:\n",
    "            Tree.queue.enqueue(root)\n",
    "            while Tree.queue.length() > 0:\n",
    "                count = Tree.queue.length()\n",
    "                for i in range(count):\n",
    "                    ele = Tree.queue.dequeue()\n",
    "                    print(ele.data, end = \" \")\n",
    "                    # if ele.left != None:\n",
    "                    #     Tree.queue.enqueue(ele.left)\n",
    "                    # if ele.right != None:\n",
    "                    #     Tree.queue.enqueue(ele.right)\n",
    "\n",
    "                    # from left to right\n",
    "                    \n",
    "                    if ele.right != None:\n",
    "                        Tree.queue.enqueue(ele.right)\n",
    "                    if ele.left != None:\n",
    "                        Tree.queue.enqueue(ele.left)\n",
    "                    \n",
    "                print()\n",
    "\n",
    "def main():\n",
    "    # root = Node(10)\n",
    "    # root.left = Node(20)\n",
    "    # root.right = Node(30)\n",
    "    # root.left.left = Node(25)\n",
    "    # root.left.right = Node(35)\n",
    "    # root.right.left = Node(45)\n",
    "    # root.right.right = Node(50)\n",
    "    # root.left.right.left = Node(55)\n",
    "    # root.left.right.right = Node(60)\n",
    "    # root.right.left.right = Node(65)\n",
    "    # root.right.right.left = Node(80)\n",
    "\n",
    "    root = Node(10)\n",
    "    root.left = Node(20)\n",
    "    root.right = Node(30)\n",
    "    root.left.left = Node(40)\n",
    "    root.right.left = Node(50)\n",
    "    root.right.right = Node(60)\n",
    "    \n",
    "    Tree.level_order_traversal_lbl(root)\n",
    "\n",
    "if __name__ == '__main__':\n",
    "    main()"
   ]
  },
  {
   "cell_type": "code",
   "execution_count": 10,
   "id": "451099dc-397f-43af-9118-419b535b21a0",
   "metadata": {},
   "outputs": [
    {
     "name": "stdout",
     "output_type": "stream",
     "text": [
      "10 \n",
      "30 \n",
      "50 \n",
      "80 \n"
     ]
    }
   ],
   "source": [
    "# left view of the binary tree\n",
    "\n",
    "class Node:\n",
    "    def __init__(self, data):\n",
    "        self.data = data\n",
    "        self.left = None\n",
    "        self.right = None\n",
    "        \n",
    "class Queue:\n",
    "    def __init__(self):\n",
    "        self.l = []\n",
    "        self.size = 0\n",
    "        self.front = 0\n",
    "        self.rare = -1\n",
    "        # self.capacity = capacity\n",
    "\n",
    "    def enqueue(self, element):\n",
    "        # if self.size < self.capacity:\n",
    "        self.rare += 1\n",
    "        self.l.append(element)\n",
    "        self.size += 1\n",
    "        # else:\n",
    "        #     return \"queue is full\"\n",
    "\n",
    "    def dequeue(self):\n",
    "        if self.size > 0:\n",
    "            self.rare -= 1\n",
    "            self.size -= 1\n",
    "            ele = self.l.pop(self.front)\n",
    "            return ele\n",
    "        else:\n",
    "            return \"queue is empty\"\n",
    "\n",
    "    def length(self):\n",
    "        return self.size\n",
    "\n",
    "class Tree:\n",
    "    queue = Queue()\n",
    "    def left_view(root):\n",
    "        if root != None:\n",
    "            Tree.queue.enqueue(root)\n",
    "            while Tree.queue.length() > 0:\n",
    "                count = Tree.queue.length()\n",
    "                for i in range(count):\n",
    "                    ele = Tree.queue.dequeue()\n",
    "                    if i == 0:\n",
    "                        print(ele.data, end = \" \")\n",
    "                    # if ele.left != None:\n",
    "                    #     Tree.queue.enqueue(ele.left)\n",
    "                    # if ele.right != None:\n",
    "                    #     Tree.queue.enqueue(ele.right)\n",
    "\n",
    "                    # right view\n",
    "                    if ele.right != None:\n",
    "                        Tree.queue.enqueue(ele.right)\n",
    "                    if ele.left != None:\n",
    "                        Tree.queue.enqueue(ele.left)\n",
    "                \n",
    "                print()\n",
    "\n",
    "def main():\n",
    "    root = Node(10)\n",
    "    root.left = Node(20)\n",
    "    root.right = Node(30)\n",
    "    root.left.left = Node(25)\n",
    "    root.left.right = Node(35)\n",
    "    root.right.left = Node(45)\n",
    "    root.right.right = Node(50)\n",
    "    root.left.right.left = Node(55)\n",
    "    root.left.right.right = Node(60)\n",
    "    root.right.left.right = Node(65)\n",
    "    root.right.right.left = Node(80)\n",
    "\n",
    "    # root = Node(10)\n",
    "    # root.left = Node(20)\n",
    "    # root.right = Node(30)\n",
    "    # root.left.left = Node(40)\n",
    "    # root.right.left = Node(50)\n",
    "    # root.right.right = Node(60)\n",
    "    \n",
    "    Tree.left_view(root)\n",
    "\n",
    "if __name__ == '__main__':\n",
    "    main()\n",
    "\n"
   ]
  },
  {
   "cell_type": "markdown",
   "id": "77da9ae8-c230-47d0-a898-cbc041a37188",
   "metadata": {},
   "source": [
    "# DYNAMIC programming(RICHARD E. BELLMAN)\n",
    "   1. Recursive\n",
    "   2. Memoization(Top - Down approach)\n",
    "   3. Tabulation (Bottom - Up approach)"
   ]
  },
  {
   "cell_type": "code",
   "execution_count": 13,
   "id": "836eadf4-e828-49ce-beba-fbcf4bffe1ad",
   "metadata": {},
   "outputs": [
    {
     "name": "stdin",
     "output_type": "stream",
     "text": [
      " 5\n"
     ]
    },
    {
     "name": "stdout",
     "output_type": "stream",
     "text": [
      "8\n"
     ]
    }
   ],
   "source": [
    "# finding the nth fibonacci number\n",
    "\n",
    "def fib(n):\n",
    "    if n == 0 or n == 1:\n",
    "        return 1\n",
    "    else:\n",
    "        return fib(n-1) + fib(n-2)\n",
    "\n",
    "def main():\n",
    "    n = int(input())\n",
    "    print(fib(n))\n",
    "\n",
    "if __name__ == '__main__':\n",
    "    main()"
   ]
  },
  {
   "cell_type": "code",
   "execution_count": 15,
   "id": "b058a673-e50a-48d1-af49-2048e0c8e779",
   "metadata": {},
   "outputs": [
    {
     "name": "stdin",
     "output_type": "stream",
     "text": [
      " 5\n"
     ]
    },
    {
     "name": "stdout",
     "output_type": "stream",
     "text": [
      "8\n"
     ]
    }
   ],
   "source": [
    "# Memoization (Top - Down approach)\n",
    "# with the help of one dimentional array or two dimentional array we can able to optimize the execution of code for same sub problem\n",
    "\n",
    "# finding the nth fibonacci number\n",
    "\n",
    "\n",
    "m = [-1]*(n+1)\n",
    "def fib(n):\n",
    "    if m[n] == -1:\n",
    "        if n == 0 or n == 1:\n",
    "            m[n] = 1\n",
    "        else:\n",
    "            m[n] = fib(n-1) + fib(n-2)\n",
    "        return m[n]\n",
    "\n",
    "def main():\n",
    "    n = int(input())\n",
    "    print(fib(n))\n",
    "\n",
    "if __name__ == '__main__':\n",
    "    main()"
   ]
  },
  {
   "cell_type": "code",
   "execution_count": null,
   "id": "8e051eca-55ef-4a4c-8c0f-fbb4ffc0ff5f",
   "metadata": {},
   "outputs": [],
   "source": [
    "# Tabulation\n",
    "\n",
    "def fib(n):\n",
    "    f[0] = 1\n",
    "    f[1] = 1\n",
    "    for i in range(2, n):\n",
    "        f[i] = f[i -1] + f[i-2]\n",
    "    return f[n]"
   ]
  },
  {
   "cell_type": "code",
   "execution_count": 17,
   "id": "5b3c45c3-8ca5-467a-860e-2dd2ea6e7d14",
   "metadata": {},
   "outputs": [],
   "source": [
    "# a frog jumps 1 or 2 steps at a time\n",
    "# find how may possible ways to reach the destination\n",
    "# use fibonacci techniqe for this problem"
   ]
  },
  {
   "cell_type": "code",
   "execution_count": null,
   "id": "1abbc498-2c1c-4ace-a6dc-4683996394e9",
   "metadata": {},
   "outputs": [],
   "source": []
  }
 ],
 "metadata": {
  "kernelspec": {
   "display_name": "Python 3 (ipykernel)",
   "language": "python",
   "name": "python3"
  },
  "language_info": {
   "codemirror_mode": {
    "name": "ipython",
    "version": 3
   },
   "file_extension": ".py",
   "mimetype": "text/x-python",
   "name": "python",
   "nbconvert_exporter": "python",
   "pygments_lexer": "ipython3",
   "version": "3.11.7"
  }
 },
 "nbformat": 4,
 "nbformat_minor": 5
}
